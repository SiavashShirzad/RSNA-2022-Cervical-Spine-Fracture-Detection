{
 "cells": [
  {
   "cell_type": "code",
   "execution_count": 1,
   "id": "b1fadfcc",
   "metadata": {
    "_cell_guid": "b1076dfc-b9ad-4769-8c92-a6c4dae69d19",
    "_uuid": "8f2839f25d086af736a60e9eeb907d3b93b6e0e5",
    "execution": {
     "iopub.execute_input": "2022-10-06T11:25:29.716443Z",
     "iopub.status.busy": "2022-10-06T11:25:29.715690Z",
     "iopub.status.idle": "2022-10-06T11:25:37.851988Z",
     "shell.execute_reply": "2022-10-06T11:25:37.850880Z"
    },
    "papermill": {
     "duration": 8.144073,
     "end_time": "2022-10-06T11:25:37.854885",
     "exception": false,
     "start_time": "2022-10-06T11:25:29.710812",
     "status": "completed"
    },
    "tags": []
   },
   "outputs": [],
   "source": [
    "import pandas as pd\n",
    "import numpy as np\n",
    "import tensorflow as tf\n",
    "import matplotlib.pyplot as plt\n",
    "import pydicom\n",
    "import os\n",
    "import nibabel as nib\n",
    "import SimpleITK as sitk\n",
    "from tqdm import tqdm\n",
    "from tensorflow import keras\n",
    "from keras import layers, models\n",
    "import tensorflow_io as tfio\n",
    "import cv2\n",
    "import warnings\n",
    "warnings.filterwarnings('ignore')\n",
    "from skimage.transform import resize\n",
    "from tqdm import tqdm"
   ]
  },
  {
   "cell_type": "code",
   "execution_count": 2,
   "id": "69e7d7bf",
   "metadata": {
    "execution": {
     "iopub.execute_input": "2022-10-06T11:25:37.861155Z",
     "iopub.status.busy": "2022-10-06T11:25:37.860169Z",
     "iopub.status.idle": "2022-10-06T11:25:37.866230Z",
     "shell.execute_reply": "2022-10-06T11:25:37.865251Z"
    },
    "papermill": {
     "duration": 0.011243,
     "end_time": "2022-10-06T11:25:37.868502",
     "exception": false,
     "start_time": "2022-10-06T11:25:37.857259",
     "status": "completed"
    },
    "tags": []
   },
   "outputs": [],
   "source": [
    "def load_image(path):\n",
    "    img = pydicom.read_file(path)\n",
    "    img = img.pixel_array\n",
    "    return resize(img[:,20:-20], (100, 60))"
   ]
  },
  {
   "cell_type": "code",
   "execution_count": 3,
   "id": "8199a039",
   "metadata": {
    "execution": {
     "iopub.execute_input": "2022-10-06T11:25:37.874318Z",
     "iopub.status.busy": "2022-10-06T11:25:37.873914Z",
     "iopub.status.idle": "2022-10-06T11:25:37.880682Z",
     "shell.execute_reply": "2022-10-06T11:25:37.879645Z"
    },
    "papermill": {
     "duration": 0.012258,
     "end_time": "2022-10-06T11:25:37.882982",
     "exception": false,
     "start_time": "2022-10-06T11:25:37.870724",
     "status": "completed"
    },
    "tags": []
   },
   "outputs": [],
   "source": [
    "def window(img):\n",
    "    img[np.where(img<0)] = 0\n",
    "    mean = img.mean()\n",
    "    std = img.std()\n",
    "    img[np.where(img>(mean+(3*std)))] = (mean+(3*std))\n",
    "    img = img-img.min()\n",
    "    maxx = img.max()\n",
    "    img[np.where(img<(maxx/2))] = maxx/2\n",
    "    img = (img-(maxx/2)) / (maxx/2)\n",
    "    return img"
   ]
  },
  {
   "cell_type": "code",
   "execution_count": 4,
   "id": "f562799c",
   "metadata": {
    "execution": {
     "iopub.execute_input": "2022-10-06T11:25:37.888817Z",
     "iopub.status.busy": "2022-10-06T11:25:37.888101Z",
     "iopub.status.idle": "2022-10-06T14:17:56.483488Z",
     "shell.execute_reply": "2022-10-06T14:17:56.479959Z"
    },
    "papermill": {
     "duration": 10338.60183,
     "end_time": "2022-10-06T14:17:56.486866",
     "exception": false,
     "start_time": "2022-10-06T11:25:37.885036",
     "status": "completed"
    },
    "tags": []
   },
   "outputs": [
    {
     "name": "stderr",
     "output_type": "stream",
     "text": [
      "  0%|          | 3/2019 [00:24<4:35:14,  8.19s/it]"
     ]
    },
    {
     "name": "stdout",
     "output_type": "stream",
     "text": [
      "1\n",
      "../input/rsna-2022-cervical-spine-fracture-detection/train_images/1.2.826.0.1.3680043.14435/\n"
     ]
    },
    {
     "name": "stderr",
     "output_type": "stream",
     "text": [
      "  0%|          | 5/2019 [00:30<2:57:04,  5.28s/it]"
     ]
    },
    {
     "name": "stdout",
     "output_type": "stream",
     "text": [
      "2\n",
      "../input/rsna-2022-cervical-spine-fracture-detection/train_images/1.2.826.0.1.3680043.2668/\n"
     ]
    },
    {
     "name": "stderr",
     "output_type": "stream",
     "text": [
      "  1%|          | 13/2019 [01:14<3:10:42,  5.70s/it]"
     ]
    },
    {
     "name": "stdout",
     "output_type": "stream",
     "text": [
      "3\n",
      "../input/rsna-2022-cervical-spine-fracture-detection/train_images/1.2.826.0.1.3680043.10678/\n"
     ]
    },
    {
     "name": "stderr",
     "output_type": "stream",
     "text": [
      "  1%|          | 20/2019 [01:50<2:56:44,  5.30s/it]"
     ]
    },
    {
     "name": "stdout",
     "output_type": "stream",
     "text": [
      "4\n",
      "../input/rsna-2022-cervical-spine-fracture-detection/train_images/1.2.826.0.1.3680043.28580/\n"
     ]
    },
    {
     "name": "stderr",
     "output_type": "stream",
     "text": [
      "  1%|          | 24/2019 [02:17<3:57:26,  7.14s/it]"
     ]
    },
    {
     "name": "stdout",
     "output_type": "stream",
     "text": [
      "5\n",
      "../input/rsna-2022-cervical-spine-fracture-detection/train_images/1.2.826.0.1.3680043.539/\n"
     ]
    },
    {
     "name": "stderr",
     "output_type": "stream",
     "text": [
      "  1%|▏         | 26/2019 [02:22<2:48:12,  5.06s/it]"
     ]
    },
    {
     "name": "stdout",
     "output_type": "stream",
     "text": [
      "6\n",
      "../input/rsna-2022-cervical-spine-fracture-detection/train_images/1.2.826.0.1.3680043.12702/\n"
     ]
    },
    {
     "name": "stderr",
     "output_type": "stream",
     "text": [
      "  2%|▏         | 43/2019 [03:45<2:35:32,  4.72s/it]"
     ]
    },
    {
     "name": "stdout",
     "output_type": "stream",
     "text": [
      "7\n",
      "../input/rsna-2022-cervical-spine-fracture-detection/train_images/1.2.826.0.1.3680043.12764/\n"
     ]
    },
    {
     "name": "stderr",
     "output_type": "stream",
     "text": [
      "  3%|▎         | 53/2019 [04:34<2:51:50,  5.24s/it]"
     ]
    },
    {
     "name": "stdout",
     "output_type": "stream",
     "text": [
      "8\n",
      "../input/rsna-2022-cervical-spine-fracture-detection/train_images/1.2.826.0.1.3680043.3331/\n"
     ]
    },
    {
     "name": "stderr",
     "output_type": "stream",
     "text": [
      "  3%|▎         | 57/2019 [04:42<1:34:34,  2.89s/it]"
     ]
    },
    {
     "name": "stdout",
     "output_type": "stream",
     "text": [
      "9\n",
      "../input/rsna-2022-cervical-spine-fracture-detection/train_images/1.2.826.0.1.3680043.22829/\n"
     ]
    },
    {
     "name": "stderr",
     "output_type": "stream",
     "text": [
      "  3%|▎         | 60/2019 [04:46<58:44,  1.80s/it]  "
     ]
    },
    {
     "name": "stdout",
     "output_type": "stream",
     "text": [
      "10\n",
      "../input/rsna-2022-cervical-spine-fracture-detection/train_images/1.2.826.0.1.3680043.7704/\n",
      "11\n",
      "../input/rsna-2022-cervical-spine-fracture-detection/train_images/1.2.826.0.1.3680043.12351/\n",
      "12\n",
      "../input/rsna-2022-cervical-spine-fracture-detection/train_images/1.2.826.0.1.3680043.28978/\n"
     ]
    },
    {
     "name": "stderr",
     "output_type": "stream",
     "text": [
      "  4%|▎         | 74/2019 [06:03<2:46:44,  5.14s/it]"
     ]
    },
    {
     "name": "stdout",
     "output_type": "stream",
     "text": [
      "13\n",
      "../input/rsna-2022-cervical-spine-fracture-detection/train_images/1.2.826.0.1.3680043.31595/\n"
     ]
    },
    {
     "name": "stderr",
     "output_type": "stream",
     "text": [
      "  4%|▍         | 76/2019 [06:07<1:58:51,  3.67s/it]"
     ]
    },
    {
     "name": "stdout",
     "output_type": "stream",
     "text": [
      "14\n",
      "../input/rsna-2022-cervical-spine-fracture-detection/train_images/1.2.826.0.1.3680043.2438/\n"
     ]
    },
    {
     "name": "stderr",
     "output_type": "stream",
     "text": [
      "  4%|▍         | 82/2019 [06:31<2:00:48,  3.74s/it]"
     ]
    },
    {
     "name": "stdout",
     "output_type": "stream",
     "text": [
      "15\n",
      "../input/rsna-2022-cervical-spine-fracture-detection/train_images/1.2.826.0.1.3680043.26207/\n"
     ]
    },
    {
     "name": "stderr",
     "output_type": "stream",
     "text": [
      "  4%|▍         | 84/2019 [06:37<1:38:29,  3.05s/it]"
     ]
    },
    {
     "name": "stdout",
     "output_type": "stream",
     "text": [
      "16\n",
      "../input/rsna-2022-cervical-spine-fracture-detection/train_images/1.2.826.0.1.3680043.26898/\n"
     ]
    },
    {
     "name": "stderr",
     "output_type": "stream",
     "text": [
      "  4%|▍         | 87/2019 [06:53<2:21:48,  4.40s/it]"
     ]
    },
    {
     "name": "stdout",
     "output_type": "stream",
     "text": [
      "17\n",
      "../input/rsna-2022-cervical-spine-fracture-detection/train_images/1.2.826.0.1.3680043.10606/\n"
     ]
    },
    {
     "name": "stderr",
     "output_type": "stream",
     "text": [
      "  5%|▍         | 93/2019 [07:20<2:31:29,  4.72s/it]"
     ]
    },
    {
     "name": "stdout",
     "output_type": "stream",
     "text": [
      "18\n",
      "../input/rsna-2022-cervical-spine-fracture-detection/train_images/1.2.826.0.1.3680043.15627/\n"
     ]
    },
    {
     "name": "stderr",
     "output_type": "stream",
     "text": [
      "  5%|▌         | 104/2019 [08:42<4:00:02,  7.52s/it]"
     ]
    },
    {
     "name": "stdout",
     "output_type": "stream",
     "text": [
      "19\n",
      "../input/rsna-2022-cervical-spine-fracture-detection/train_images/1.2.826.0.1.3680043.2645/\n"
     ]
    },
    {
     "name": "stderr",
     "output_type": "stream",
     "text": [
      "  5%|▌         | 110/2019 [09:17<3:12:34,  6.05s/it]"
     ]
    },
    {
     "name": "stdout",
     "output_type": "stream",
     "text": [
      "20\n",
      "../input/rsna-2022-cervical-spine-fracture-detection/train_images/1.2.826.0.1.3680043.7657/\n"
     ]
    },
    {
     "name": "stderr",
     "output_type": "stream",
     "text": [
      "  6%|▌         | 118/2019 [09:51<2:36:56,  4.95s/it]"
     ]
    },
    {
     "name": "stdout",
     "output_type": "stream",
     "text": [
      "21\n",
      "../input/rsna-2022-cervical-spine-fracture-detection/train_images/1.2.826.0.1.3680043.1010/\n"
     ]
    },
    {
     "name": "stderr",
     "output_type": "stream",
     "text": [
      "  6%|▌         | 122/2019 [10:01<1:39:52,  3.16s/it]"
     ]
    },
    {
     "name": "stdout",
     "output_type": "stream",
     "text": [
      "22\n",
      "../input/rsna-2022-cervical-spine-fracture-detection/train_images/1.2.826.0.1.3680043.19975/\n"
     ]
    },
    {
     "name": "stderr",
     "output_type": "stream",
     "text": [
      "  7%|▋         | 133/2019 [11:13<1:51:09,  3.54s/it]"
     ]
    },
    {
     "name": "stdout",
     "output_type": "stream",
     "text": [
      "23\n",
      "../input/rsna-2022-cervical-spine-fracture-detection/train_images/1.2.826.0.1.3680043.9443/\n",
      "24\n",
      "../input/rsna-2022-cervical-spine-fracture-detection/train_images/1.2.826.0.1.3680043.29142/\n"
     ]
    },
    {
     "name": "stderr",
     "output_type": "stream",
     "text": [
      "  7%|▋         | 135/2019 [11:26<2:31:08,  4.81s/it]"
     ]
    },
    {
     "name": "stdout",
     "output_type": "stream",
     "text": [
      "25\n",
      "../input/rsna-2022-cervical-spine-fracture-detection/train_images/1.2.826.0.1.3680043.8968/\n"
     ]
    },
    {
     "name": "stderr",
     "output_type": "stream",
     "text": [
      "  7%|▋         | 139/2019 [11:45<2:39:19,  5.08s/it]"
     ]
    },
    {
     "name": "stdout",
     "output_type": "stream",
     "text": [
      "26\n",
      "../input/rsna-2022-cervical-spine-fracture-detection/train_images/1.2.826.0.1.3680043.6691/\n"
     ]
    },
    {
     "name": "stderr",
     "output_type": "stream",
     "text": [
      "  7%|▋         | 143/2019 [12:05<2:41:52,  5.18s/it]"
     ]
    },
    {
     "name": "stdout",
     "output_type": "stream",
     "text": [
      "27\n",
      "../input/rsna-2022-cervical-spine-fracture-detection/train_images/1.2.826.0.1.3680043.29093/\n"
     ]
    },
    {
     "name": "stderr",
     "output_type": "stream",
     "text": [
      "  7%|▋         | 148/2019 [12:44<4:01:05,  7.73s/it]"
     ]
    },
    {
     "name": "stdout",
     "output_type": "stream",
     "text": [
      "28\n",
      "../input/rsna-2022-cervical-spine-fracture-detection/train_images/1.2.826.0.1.3680043.1195/\n",
      "29\n",
      "../input/rsna-2022-cervical-spine-fracture-detection/train_images/1.2.826.0.1.3680043.17706/\n"
     ]
    },
    {
     "name": "stderr",
     "output_type": "stream",
     "text": [
      "  8%|▊         | 153/2019 [12:59<2:21:52,  4.56s/it]"
     ]
    },
    {
     "name": "stdout",
     "output_type": "stream",
     "text": [
      "30\n",
      "../input/rsna-2022-cervical-spine-fracture-detection/train_images/1.2.826.0.1.3680043.13587/\n"
     ]
    },
    {
     "name": "stderr",
     "output_type": "stream",
     "text": [
      "  8%|▊         | 165/2019 [14:23<4:17:32,  8.33s/it]"
     ]
    },
    {
     "name": "stdout",
     "output_type": "stream",
     "text": [
      "31\n",
      "../input/rsna-2022-cervical-spine-fracture-detection/train_images/1.2.826.0.1.3680043.1668/\n"
     ]
    },
    {
     "name": "stderr",
     "output_type": "stream",
     "text": [
      "  9%|▊         | 172/2019 [14:52<2:43:45,  5.32s/it]"
     ]
    },
    {
     "name": "stdout",
     "output_type": "stream",
     "text": [
      "32\n",
      "../input/rsna-2022-cervical-spine-fracture-detection/train_images/1.2.826.0.1.3680043.11605/\n"
     ]
    },
    {
     "name": "stderr",
     "output_type": "stream",
     "text": [
      "  9%|▊         | 175/2019 [15:05<2:39:05,  5.18s/it]"
     ]
    },
    {
     "name": "stdout",
     "output_type": "stream",
     "text": [
      "33\n",
      "../input/rsna-2022-cervical-spine-fracture-detection/train_images/1.2.826.0.1.3680043.5318/\n"
     ]
    },
    {
     "name": "stderr",
     "output_type": "stream",
     "text": [
      "  9%|▉         | 187/2019 [16:14<3:02:41,  5.98s/it]"
     ]
    },
    {
     "name": "stdout",
     "output_type": "stream",
     "text": [
      "34\n",
      "../input/rsna-2022-cervical-spine-fracture-detection/train_images/1.2.826.0.1.3680043.24595/\n",
      "35\n",
      "../input/rsna-2022-cervical-spine-fracture-detection/train_images/1.2.826.0.1.3680043.19947/\n"
     ]
    },
    {
     "name": "stderr",
     "output_type": "stream",
     "text": [
      " 10%|▉         | 199/2019 [17:13<3:29:32,  6.91s/it]"
     ]
    },
    {
     "name": "stdout",
     "output_type": "stream",
     "text": [
      "36\n",
      "../input/rsna-2022-cervical-spine-fracture-detection/train_images/1.2.826.0.1.3680043.9488/\n",
      "37\n",
      "../input/rsna-2022-cervical-spine-fracture-detection/train_images/1.2.826.0.1.3680043.9226/\n"
     ]
    },
    {
     "name": "stderr",
     "output_type": "stream",
     "text": [
      " 10%|█         | 203/2019 [17:27<2:34:49,  5.12s/it]"
     ]
    },
    {
     "name": "stdout",
     "output_type": "stream",
     "text": [
      "38\n",
      "../input/rsna-2022-cervical-spine-fracture-detection/train_images/1.2.826.0.1.3680043.29993/\n",
      "39\n",
      "../input/rsna-2022-cervical-spine-fracture-detection/train_images/1.2.826.0.1.3680043.13401/\n"
     ]
    },
    {
     "name": "stderr",
     "output_type": "stream",
     "text": [
      " 10%|█         | 211/2019 [17:56<2:29:56,  4.98s/it]"
     ]
    },
    {
     "name": "stdout",
     "output_type": "stream",
     "text": [
      "40\n",
      "../input/rsna-2022-cervical-spine-fracture-detection/train_images/1.2.826.0.1.3680043.11192/\n"
     ]
    },
    {
     "name": "stderr",
     "output_type": "stream",
     "text": [
      " 11%|█         | 222/2019 [18:46<2:26:25,  4.89s/it]"
     ]
    },
    {
     "name": "stdout",
     "output_type": "stream",
     "text": [
      "41\n",
      "../input/rsna-2022-cervical-spine-fracture-detection/train_images/1.2.826.0.1.3680043.26040/\n"
     ]
    },
    {
     "name": "stderr",
     "output_type": "stream",
     "text": [
      " 11%|█         | 225/2019 [18:56<1:55:07,  3.85s/it]"
     ]
    },
    {
     "name": "stdout",
     "output_type": "stream",
     "text": [
      "42\n",
      "../input/rsna-2022-cervical-spine-fracture-detection/train_images/1.2.826.0.1.3680043.27828/\n"
     ]
    },
    {
     "name": "stderr",
     "output_type": "stream",
     "text": [
      " 12%|█▏        | 236/2019 [19:49<1:42:33,  3.45s/it]"
     ]
    },
    {
     "name": "stdout",
     "output_type": "stream",
     "text": [
      "43\n",
      "../input/rsna-2022-cervical-spine-fracture-detection/train_images/1.2.826.0.1.3680043.11834/\n",
      "44\n",
      "../input/rsna-2022-cervical-spine-fracture-detection/train_images/1.2.826.0.1.3680043.24389/\n",
      "45\n",
      "../input/rsna-2022-cervical-spine-fracture-detection/train_images/1.2.826.0.1.3680043.28122/\n"
     ]
    },
    {
     "name": "stderr",
     "output_type": "stream",
     "text": [
      " 12%|█▏        | 238/2019 [19:58<1:57:21,  3.95s/it]"
     ]
    },
    {
     "name": "stdout",
     "output_type": "stream",
     "text": [
      "46\n",
      "../input/rsna-2022-cervical-spine-fracture-detection/train_images/1.2.826.0.1.3680043.22926/\n",
      "47\n",
      "../input/rsna-2022-cervical-spine-fracture-detection/train_images/1.2.826.0.1.3680043.22793/\n"
     ]
    },
    {
     "name": "stderr",
     "output_type": "stream",
     "text": [
      " 12%|█▏        | 241/2019 [20:07<1:43:43,  3.50s/it]"
     ]
    },
    {
     "name": "stdout",
     "output_type": "stream",
     "text": [
      "48\n",
      "../input/rsna-2022-cervical-spine-fracture-detection/train_images/1.2.826.0.1.3680043.4041/\n",
      "49\n",
      "../input/rsna-2022-cervical-spine-fracture-detection/train_images/1.2.826.0.1.3680043.2648/\n"
     ]
    },
    {
     "name": "stderr",
     "output_type": "stream",
     "text": [
      " 12%|█▏        | 248/2019 [20:41<2:26:21,  4.96s/it]"
     ]
    },
    {
     "name": "stdout",
     "output_type": "stream",
     "text": [
      "50\n",
      "../input/rsna-2022-cervical-spine-fracture-detection/train_images/1.2.826.0.1.3680043.20620/\n"
     ]
    },
    {
     "name": "stderr",
     "output_type": "stream",
     "text": [
      " 13%|█▎        | 253/2019 [20:56<1:28:38,  3.01s/it]"
     ]
    },
    {
     "name": "stdout",
     "output_type": "stream",
     "text": [
      "51\n",
      "../input/rsna-2022-cervical-spine-fracture-detection/train_images/1.2.826.0.1.3680043.1480/\n",
      "52\n",
      "../input/rsna-2022-cervical-spine-fracture-detection/train_images/1.2.826.0.1.3680043.20381/\n"
     ]
    },
    {
     "name": "stderr",
     "output_type": "stream",
     "text": [
      " 13%|█▎        | 257/2019 [21:21<2:40:17,  5.46s/it]"
     ]
    },
    {
     "name": "stdout",
     "output_type": "stream",
     "text": [
      "53\n",
      "../input/rsna-2022-cervical-spine-fracture-detection/train_images/1.2.826.0.1.3680043.7167/\n",
      "54\n",
      "../input/rsna-2022-cervical-spine-fracture-detection/train_images/1.2.826.0.1.3680043.22392/\n"
     ]
    },
    {
     "name": "stderr",
     "output_type": "stream",
     "text": [
      " 13%|█▎        | 262/2019 [21:59<3:56:49,  8.09s/it]"
     ]
    },
    {
     "name": "stdout",
     "output_type": "stream",
     "text": [
      "55\n",
      "../input/rsna-2022-cervical-spine-fracture-detection/train_images/1.2.826.0.1.3680043.14/\n"
     ]
    },
    {
     "name": "stderr",
     "output_type": "stream",
     "text": [
      " 13%|█▎        | 270/2019 [22:43<3:03:08,  6.28s/it]"
     ]
    },
    {
     "name": "stdout",
     "output_type": "stream",
     "text": [
      "56\n",
      "../input/rsna-2022-cervical-spine-fracture-detection/train_images/1.2.826.0.1.3680043.26097/\n"
     ]
    },
    {
     "name": "stderr",
     "output_type": "stream",
     "text": [
      " 14%|█▎        | 273/2019 [22:57<2:35:13,  5.33s/it]"
     ]
    },
    {
     "name": "stdout",
     "output_type": "stream",
     "text": [
      "57\n",
      "../input/rsna-2022-cervical-spine-fracture-detection/train_images/1.2.826.0.1.3680043.11377/\n"
     ]
    },
    {
     "name": "stderr",
     "output_type": "stream",
     "text": [
      " 14%|█▍        | 280/2019 [23:22<1:39:24,  3.43s/it]"
     ]
    },
    {
     "name": "stdout",
     "output_type": "stream",
     "text": [
      "58\n",
      "../input/rsna-2022-cervical-spine-fracture-detection/train_images/1.2.826.0.1.3680043.6732/\n",
      "59\n",
      "../input/rsna-2022-cervical-spine-fracture-detection/train_images/1.2.826.0.1.3680043.24418/\n"
     ]
    },
    {
     "name": "stderr",
     "output_type": "stream",
     "text": [
      " 14%|█▍        | 283/2019 [23:49<3:03:57,  6.36s/it]"
     ]
    },
    {
     "name": "stdout",
     "output_type": "stream",
     "text": [
      "60\n",
      "../input/rsna-2022-cervical-spine-fracture-detection/train_images/1.2.826.0.1.3680043.26217/\n"
     ]
    },
    {
     "name": "stderr",
     "output_type": "stream",
     "text": [
      " 14%|█▍        | 285/2019 [23:53<2:13:08,  4.61s/it]"
     ]
    },
    {
     "name": "stdout",
     "output_type": "stream",
     "text": [
      "61\n",
      "../input/rsna-2022-cervical-spine-fracture-detection/train_images/1.2.826.0.1.3680043.19352/\n"
     ]
    },
    {
     "name": "stderr",
     "output_type": "stream",
     "text": [
      " 14%|█▍        | 289/2019 [24:14<2:29:47,  5.19s/it]"
     ]
    },
    {
     "name": "stdout",
     "output_type": "stream",
     "text": [
      "62\n",
      "../input/rsna-2022-cervical-spine-fracture-detection/train_images/1.2.826.0.1.3680043.28297/\n"
     ]
    },
    {
     "name": "stderr",
     "output_type": "stream",
     "text": [
      " 14%|█▍        | 292/2019 [24:29<2:21:41,  4.92s/it]"
     ]
    },
    {
     "name": "stdout",
     "output_type": "stream",
     "text": [
      "63\n",
      "../input/rsna-2022-cervical-spine-fracture-detection/train_images/1.2.826.0.1.3680043.7432/\n"
     ]
    },
    {
     "name": "stderr",
     "output_type": "stream",
     "text": [
      " 15%|█▍        | 294/2019 [24:35<2:00:16,  4.18s/it]"
     ]
    },
    {
     "name": "stdout",
     "output_type": "stream",
     "text": [
      "64\n",
      "../input/rsna-2022-cervical-spine-fracture-detection/train_images/1.2.826.0.1.3680043.29243/\n"
     ]
    },
    {
     "name": "stderr",
     "output_type": "stream",
     "text": [
      " 15%|█▍        | 296/2019 [24:40<1:43:32,  3.61s/it]"
     ]
    },
    {
     "name": "stdout",
     "output_type": "stream",
     "text": [
      "65\n",
      "../input/rsna-2022-cervical-spine-fracture-detection/train_images/1.2.826.0.1.3680043.20976/\n"
     ]
    },
    {
     "name": "stderr",
     "output_type": "stream",
     "text": [
      " 15%|█▍        | 302/2019 [25:21<3:00:41,  6.31s/it]"
     ]
    },
    {
     "name": "stdout",
     "output_type": "stream",
     "text": [
      "66\n",
      "../input/rsna-2022-cervical-spine-fracture-detection/train_images/1.2.826.0.1.3680043.27079/\n"
     ]
    },
    {
     "name": "stderr",
     "output_type": "stream",
     "text": [
      " 15%|█▌        | 304/2019 [25:33<2:59:07,  6.27s/it]"
     ]
    },
    {
     "name": "stdout",
     "output_type": "stream",
     "text": [
      "67\n",
      "../input/rsna-2022-cervical-spine-fracture-detection/train_images/1.2.826.0.1.3680043.18068/\n"
     ]
    },
    {
     "name": "stderr",
     "output_type": "stream",
     "text": [
      " 15%|█▌        | 306/2019 [25:40<2:24:41,  5.07s/it]"
     ]
    },
    {
     "name": "stdout",
     "output_type": "stream",
     "text": [
      "68\n",
      "../input/rsna-2022-cervical-spine-fracture-detection/train_images/1.2.826.0.1.3680043.18937/\n"
     ]
    },
    {
     "name": "stderr",
     "output_type": "stream",
     "text": [
      " 15%|█▌        | 309/2019 [25:50<2:05:37,  4.41s/it]"
     ]
    },
    {
     "name": "stdout",
     "output_type": "stream",
     "text": [
      "69\n",
      "../input/rsna-2022-cervical-spine-fracture-detection/train_images/1.2.826.0.1.3680043.19576/\n"
     ]
    },
    {
     "name": "stderr",
     "output_type": "stream",
     "text": [
      " 15%|█▌        | 311/2019 [25:55<1:45:16,  3.70s/it]"
     ]
    },
    {
     "name": "stdout",
     "output_type": "stream",
     "text": [
      "70\n",
      "../input/rsna-2022-cervical-spine-fracture-detection/train_images/1.2.826.0.1.3680043.1852/\n"
     ]
    },
    {
     "name": "stderr",
     "output_type": "stream",
     "text": [
      " 16%|█▌        | 317/2019 [26:21<2:13:22,  4.70s/it]"
     ]
    },
    {
     "name": "stdout",
     "output_type": "stream",
     "text": [
      "71\n",
      "../input/rsna-2022-cervical-spine-fracture-detection/train_images/1.2.826.0.1.3680043.28547/\n"
     ]
    },
    {
     "name": "stderr",
     "output_type": "stream",
     "text": [
      " 16%|█▋        | 330/2019 [27:40<3:06:09,  6.61s/it]"
     ]
    },
    {
     "name": "stdout",
     "output_type": "stream",
     "text": [
      "72\n",
      "../input/rsna-2022-cervical-spine-fracture-detection/train_images/1.2.826.0.1.3680043.19388/\n"
     ]
    },
    {
     "name": "stderr",
     "output_type": "stream",
     "text": [
      " 17%|█▋        | 351/2019 [29:39<2:04:53,  4.49s/it]"
     ]
    },
    {
     "name": "stdout",
     "output_type": "stream",
     "text": [
      "73\n",
      "../input/rsna-2022-cervical-spine-fracture-detection/train_images/1.2.826.0.1.3680043.25515/\n",
      "74\n",
      "../input/rsna-2022-cervical-spine-fracture-detection/train_images/1.2.826.0.1.3680043.16688/\n"
     ]
    },
    {
     "name": "stderr",
     "output_type": "stream",
     "text": [
      " 18%|█▊        | 354/2019 [29:44<1:17:34,  2.80s/it]"
     ]
    },
    {
     "name": "stdout",
     "output_type": "stream",
     "text": [
      "75\n",
      "../input/rsna-2022-cervical-spine-fracture-detection/train_images/1.2.826.0.1.3680043.3927/\n",
      "76\n",
      "../input/rsna-2022-cervical-spine-fracture-detection/train_images/1.2.826.0.1.3680043.25339/\n"
     ]
    },
    {
     "name": "stderr",
     "output_type": "stream",
     "text": [
      " 18%|█▊        | 358/2019 [29:54<1:14:28,  2.69s/it]"
     ]
    },
    {
     "name": "stdout",
     "output_type": "stream",
     "text": [
      "77\n",
      "../input/rsna-2022-cervical-spine-fracture-detection/train_images/1.2.826.0.1.3680043.8820/\n"
     ]
    },
    {
     "name": "stderr",
     "output_type": "stream",
     "text": [
      " 18%|█▊        | 361/2019 [30:04<1:25:39,  3.10s/it]"
     ]
    },
    {
     "name": "stdout",
     "output_type": "stream",
     "text": [
      "78\n",
      "../input/rsna-2022-cervical-spine-fracture-detection/train_images/1.2.826.0.1.3680043.22149/\n"
     ]
    },
    {
     "name": "stderr",
     "output_type": "stream",
     "text": [
      " 18%|█▊        | 369/2019 [30:43<2:16:32,  4.97s/it]"
     ]
    },
    {
     "name": "stdout",
     "output_type": "stream",
     "text": [
      "79\n",
      "../input/rsna-2022-cervical-spine-fracture-detection/train_images/1.2.826.0.1.3680043.22517/\n"
     ]
    },
    {
     "name": "stderr",
     "output_type": "stream",
     "text": [
      " 18%|█▊        | 371/2019 [30:48<1:45:57,  3.86s/it]"
     ]
    },
    {
     "name": "stdout",
     "output_type": "stream",
     "text": [
      "80\n",
      "../input/rsna-2022-cervical-spine-fracture-detection/train_images/1.2.826.0.1.3680043.17166/\n"
     ]
    },
    {
     "name": "stderr",
     "output_type": "stream",
     "text": [
      " 19%|█▉        | 385/2019 [31:59<2:10:31,  4.79s/it]"
     ]
    },
    {
     "name": "stdout",
     "output_type": "stream",
     "text": [
      "81\n",
      "../input/rsna-2022-cervical-spine-fracture-detection/train_images/1.2.826.0.1.3680043.4802/\n"
     ]
    },
    {
     "name": "stderr",
     "output_type": "stream",
     "text": [
      " 19%|█▉        | 391/2019 [32:24<1:41:29,  3.74s/it]"
     ]
    },
    {
     "name": "stdout",
     "output_type": "stream",
     "text": [
      "82\n",
      "../input/rsna-2022-cervical-spine-fracture-detection/train_images/1.2.826.0.1.3680043.20406/\n",
      "83\n",
      "../input/rsna-2022-cervical-spine-fracture-detection/train_images/1.2.826.0.1.3680043.31394/\n"
     ]
    },
    {
     "name": "stderr",
     "output_type": "stream",
     "text": [
      " 20%|█▉        | 395/2019 [32:48<2:27:44,  5.46s/it]"
     ]
    },
    {
     "name": "stdout",
     "output_type": "stream",
     "text": [
      "84\n",
      "../input/rsna-2022-cervical-spine-fracture-detection/train_images/1.2.826.0.1.3680043.18163/\n"
     ]
    },
    {
     "name": "stderr",
     "output_type": "stream",
     "text": [
      " 20%|█▉        | 397/2019 [32:55<2:00:47,  4.47s/it]"
     ]
    },
    {
     "name": "stdout",
     "output_type": "stream",
     "text": [
      "85\n",
      "../input/rsna-2022-cervical-spine-fracture-detection/train_images/1.2.826.0.1.3680043.7990/\n",
      "86\n",
      "../input/rsna-2022-cervical-spine-fracture-detection/train_images/1.2.826.0.1.3680043.21340/\n"
     ]
    },
    {
     "name": "stderr",
     "output_type": "stream",
     "text": [
      " 20%|█▉        | 402/2019 [33:14<1:51:48,  4.15s/it]"
     ]
    },
    {
     "name": "stdout",
     "output_type": "stream",
     "text": [
      "87\n",
      "../input/rsna-2022-cervical-spine-fracture-detection/train_images/1.2.826.0.1.3680043.14454/\n"
     ]
    },
    {
     "name": "stderr",
     "output_type": "stream",
     "text": [
      " 20%|██        | 411/2019 [33:51<1:22:16,  3.07s/it]"
     ]
    },
    {
     "name": "stdout",
     "output_type": "stream",
     "text": [
      "88\n",
      "../input/rsna-2022-cervical-spine-fracture-detection/train_images/1.2.826.0.1.3680043.30683/\n",
      "89\n",
      "../input/rsna-2022-cervical-spine-fracture-detection/train_images/1.2.826.0.1.3680043.10633/\n",
      "90\n",
      "../input/rsna-2022-cervical-spine-fracture-detection/train_images/1.2.826.0.1.3680043.21684/\n",
      "91\n",
      "../input/rsna-2022-cervical-spine-fracture-detection/train_images/1.2.826.0.1.3680043.18123/\n"
     ]
    },
    {
     "name": "stderr",
     "output_type": "stream",
     "text": [
      " 21%|██        | 422/2019 [34:58<2:52:43,  6.49s/it]"
     ]
    },
    {
     "name": "stdout",
     "output_type": "stream",
     "text": [
      "92\n",
      "../input/rsna-2022-cervical-spine-fracture-detection/train_images/1.2.826.0.1.3680043.6145/\n"
     ]
    },
    {
     "name": "stderr",
     "output_type": "stream",
     "text": [
      " 21%|██        | 428/2019 [35:30<2:40:15,  6.04s/it]"
     ]
    },
    {
     "name": "stdout",
     "output_type": "stream",
     "text": [
      "93\n",
      "../input/rsna-2022-cervical-spine-fracture-detection/train_images/1.2.826.0.1.3680043.4183/\n"
     ]
    },
    {
     "name": "stderr",
     "output_type": "stream",
     "text": [
      " 21%|██▏       | 431/2019 [35:41<2:05:37,  4.75s/it]"
     ]
    },
    {
     "name": "stdout",
     "output_type": "stream",
     "text": [
      "94\n",
      "../input/rsna-2022-cervical-spine-fracture-detection/train_images/1.2.826.0.1.3680043.24281/\n"
     ]
    },
    {
     "name": "stderr",
     "output_type": "stream",
     "text": [
      " 22%|██▏       | 439/2019 [36:03<54:58,  2.09s/it]  "
     ]
    },
    {
     "name": "stdout",
     "output_type": "stream",
     "text": [
      "95\n",
      "../input/rsna-2022-cervical-spine-fracture-detection/train_images/1.2.826.0.1.3680043.9898/\n",
      "96\n",
      "../input/rsna-2022-cervical-spine-fracture-detection/train_images/1.2.826.0.1.3680043.26293/\n",
      "97\n",
      "../input/rsna-2022-cervical-spine-fracture-detection/train_images/1.2.826.0.1.3680043.27027/\n"
     ]
    },
    {
     "name": "stderr",
     "output_type": "stream",
     "text": [
      " 22%|██▏       | 442/2019 [36:08<45:02,  1.71s/it]  "
     ]
    },
    {
     "name": "stdout",
     "output_type": "stream",
     "text": [
      "98\n",
      "../input/rsna-2022-cervical-spine-fracture-detection/train_images/1.2.826.0.1.3680043.14234/\n",
      "99\n",
      "../input/rsna-2022-cervical-spine-fracture-detection/train_images/1.2.826.0.1.3680043.26500/\n"
     ]
    },
    {
     "name": "stderr",
     "output_type": "stream",
     "text": [
      " 22%|██▏       | 446/2019 [36:26<1:33:05,  3.55s/it]"
     ]
    },
    {
     "name": "stdout",
     "output_type": "stream",
     "text": [
      "100\n",
      "../input/rsna-2022-cervical-spine-fracture-detection/train_images/1.2.826.0.1.3680043.5118/\n"
     ]
    },
    {
     "name": "stderr",
     "output_type": "stream",
     "text": [
      " 22%|██▏       | 454/2019 [37:05<1:43:06,  3.95s/it]"
     ]
    },
    {
     "name": "stdout",
     "output_type": "stream",
     "text": [
      "101\n",
      "../input/rsna-2022-cervical-spine-fracture-detection/train_images/1.2.826.0.1.3680043.11116/\n",
      "102\n",
      "../input/rsna-2022-cervical-spine-fracture-detection/train_images/1.2.826.0.1.3680043.21758/\n"
     ]
    },
    {
     "name": "stderr",
     "output_type": "stream",
     "text": [
      " 23%|██▎       | 458/2019 [37:19<1:40:59,  3.88s/it]"
     ]
    },
    {
     "name": "stdout",
     "output_type": "stream",
     "text": [
      "103\n",
      "../input/rsna-2022-cervical-spine-fracture-detection/train_images/1.2.826.0.1.3680043.28711/\n"
     ]
    },
    {
     "name": "stderr",
     "output_type": "stream",
     "text": [
      " 23%|██▎       | 463/2019 [37:44<2:23:36,  5.54s/it]"
     ]
    },
    {
     "name": "stdout",
     "output_type": "stream",
     "text": [
      "104\n",
      "../input/rsna-2022-cervical-spine-fracture-detection/train_images/1.2.826.0.1.3680043.23672/\n"
     ]
    },
    {
     "name": "stderr",
     "output_type": "stream",
     "text": [
      " 23%|██▎       | 470/2019 [38:15<1:36:25,  3.73s/it]"
     ]
    },
    {
     "name": "stdout",
     "output_type": "stream",
     "text": [
      "105\n",
      "../input/rsna-2022-cervical-spine-fracture-detection/train_images/1.2.826.0.1.3680043.772/\n"
     ]
    },
    {
     "name": "stderr",
     "output_type": "stream",
     "text": [
      " 24%|██▎       | 475/2019 [38:45<2:12:01,  5.13s/it]"
     ]
    },
    {
     "name": "stdout",
     "output_type": "stream",
     "text": [
      "106\n",
      "../input/rsna-2022-cervical-spine-fracture-detection/train_images/1.2.826.0.1.3680043.13479/\n"
     ]
    },
    {
     "name": "stderr",
     "output_type": "stream",
     "text": [
      " 24%|██▎       | 479/2019 [39:07<2:33:26,  5.98s/it]"
     ]
    },
    {
     "name": "stdout",
     "output_type": "stream",
     "text": [
      "107\n",
      "../input/rsna-2022-cervical-spine-fracture-detection/train_images/1.2.826.0.1.3680043.1573/\n"
     ]
    },
    {
     "name": "stderr",
     "output_type": "stream",
     "text": [
      " 24%|██▍       | 485/2019 [39:32<2:00:43,  4.72s/it]"
     ]
    },
    {
     "name": "stdout",
     "output_type": "stream",
     "text": [
      "108\n",
      "../input/rsna-2022-cervical-spine-fracture-detection/train_images/1.2.826.0.1.3680043.4164/\n"
     ]
    },
    {
     "name": "stderr",
     "output_type": "stream",
     "text": [
      " 25%|██▍       | 499/2019 [40:53<1:23:53,  3.31s/it]"
     ]
    },
    {
     "name": "stdout",
     "output_type": "stream",
     "text": [
      "109\n",
      "../input/rsna-2022-cervical-spine-fracture-detection/train_images/1.2.826.0.1.3680043.1239/\n",
      "110\n",
      "../input/rsna-2022-cervical-spine-fracture-detection/train_images/1.2.826.0.1.3680043.16027/\n"
     ]
    },
    {
     "name": "stderr",
     "output_type": "stream",
     "text": [
      " 25%|██▍       | 501/2019 [41:03<1:34:03,  3.72s/it]"
     ]
    },
    {
     "name": "stdout",
     "output_type": "stream",
     "text": [
      "111\n",
      "../input/rsna-2022-cervical-spine-fracture-detection/train_images/1.2.826.0.1.3680043.11645/\n"
     ]
    },
    {
     "name": "stderr",
     "output_type": "stream",
     "text": [
      " 25%|██▍       | 503/2019 [41:21<2:39:09,  6.30s/it]"
     ]
    },
    {
     "name": "stdout",
     "output_type": "stream",
     "text": [
      "112\n",
      "../input/rsna-2022-cervical-spine-fracture-detection/train_images/1.2.826.0.1.3680043.1470/\n"
     ]
    },
    {
     "name": "stderr",
     "output_type": "stream",
     "text": [
      " 25%|██▌       | 512/2019 [42:02<1:53:32,  4.52s/it]"
     ]
    },
    {
     "name": "stdout",
     "output_type": "stream",
     "text": [
      "113\n",
      "../input/rsna-2022-cervical-spine-fracture-detection/train_images/1.2.826.0.1.3680043.5571/\n"
     ]
    },
    {
     "name": "stderr",
     "output_type": "stream",
     "text": [
      " 25%|██▌       | 513/2019 [42:09<2:08:39,  5.13s/it]"
     ]
    },
    {
     "name": "stdout",
     "output_type": "stream",
     "text": [
      "114\n",
      "../input/rsna-2022-cervical-spine-fracture-detection/train_images/1.2.826.0.1.3680043.14348/\n"
     ]
    },
    {
     "name": "stderr",
     "output_type": "stream",
     "text": [
      " 26%|██▌       | 521/2019 [42:58<2:32:28,  6.11s/it]"
     ]
    },
    {
     "name": "stdout",
     "output_type": "stream",
     "text": [
      "115\n",
      "../input/rsna-2022-cervical-spine-fracture-detection/train_images/1.2.826.0.1.3680043.29045/\n"
     ]
    },
    {
     "name": "stderr",
     "output_type": "stream",
     "text": [
      " 26%|██▋       | 532/2019 [44:03<2:15:33,  5.47s/it]"
     ]
    },
    {
     "name": "stdout",
     "output_type": "stream",
     "text": [
      "116\n",
      "../input/rsna-2022-cervical-spine-fracture-detection/train_images/1.2.826.0.1.3680043.15674/\n"
     ]
    },
    {
     "name": "stderr",
     "output_type": "stream",
     "text": [
      " 27%|██▋       | 538/2019 [44:31<1:52:58,  4.58s/it]"
     ]
    },
    {
     "name": "stdout",
     "output_type": "stream",
     "text": [
      "117\n",
      "../input/rsna-2022-cervical-spine-fracture-detection/train_images/1.2.826.0.1.3680043.22538/\n"
     ]
    },
    {
     "name": "stderr",
     "output_type": "stream",
     "text": [
      " 27%|██▋       | 542/2019 [44:56<2:27:34,  6.00s/it]"
     ]
    },
    {
     "name": "stdout",
     "output_type": "stream",
     "text": [
      "118\n",
      "../input/rsna-2022-cervical-spine-fracture-detection/train_images/1.2.826.0.1.3680043.26244/\n"
     ]
    },
    {
     "name": "stderr",
     "output_type": "stream",
     "text": [
      " 27%|██▋       | 544/2019 [45:00<1:42:21,  4.16s/it]"
     ]
    },
    {
     "name": "stdout",
     "output_type": "stream",
     "text": [
      "119\n",
      "../input/rsna-2022-cervical-spine-fracture-detection/train_images/1.2.826.0.1.3680043.21825/\n"
     ]
    },
    {
     "name": "stderr",
     "output_type": "stream",
     "text": [
      " 27%|██▋       | 553/2019 [45:46<1:31:51,  3.76s/it]"
     ]
    },
    {
     "name": "stdout",
     "output_type": "stream",
     "text": [
      "120\n",
      "../input/rsna-2022-cervical-spine-fracture-detection/train_images/1.2.826.0.1.3680043.4075/\n"
     ]
    },
    {
     "name": "stderr",
     "output_type": "stream",
     "text": [
      " 28%|██▊       | 563/2019 [46:29<1:10:03,  2.89s/it]"
     ]
    },
    {
     "name": "stdout",
     "output_type": "stream",
     "text": [
      "121\n",
      "../input/rsna-2022-cervical-spine-fracture-detection/train_images/1.2.826.0.1.3680043.14465/\n",
      "122\n",
      "../input/rsna-2022-cervical-spine-fracture-detection/train_images/1.2.826.0.1.3680043.30030/\n",
      "123\n",
      "../input/rsna-2022-cervical-spine-fracture-detection/train_images/1.2.826.0.1.3680043.21589/\n"
     ]
    },
    {
     "name": "stderr",
     "output_type": "stream",
     "text": [
      " 28%|██▊       | 567/2019 [46:42<1:07:02,  2.77s/it]"
     ]
    },
    {
     "name": "stdout",
     "output_type": "stream",
     "text": [
      "124\n",
      "../input/rsna-2022-cervical-spine-fracture-detection/train_images/1.2.826.0.1.3680043.13405/\n"
     ]
    },
    {
     "name": "stderr",
     "output_type": "stream",
     "text": [
      " 28%|██▊       | 572/2019 [47:17<2:24:18,  5.98s/it]"
     ]
    },
    {
     "name": "stdout",
     "output_type": "stream",
     "text": [
      "125\n",
      "../input/rsna-2022-cervical-spine-fracture-detection/train_images/1.2.826.0.1.3680043.9994/\n"
     ]
    },
    {
     "name": "stderr",
     "output_type": "stream",
     "text": [
      " 28%|██▊       | 575/2019 [47:22<1:18:59,  3.28s/it]"
     ]
    },
    {
     "name": "stdout",
     "output_type": "stream",
     "text": [
      "126\n",
      "../input/rsna-2022-cervical-spine-fracture-detection/train_images/1.2.826.0.1.3680043.27028/\n"
     ]
    },
    {
     "name": "stderr",
     "output_type": "stream",
     "text": [
      " 29%|██▊       | 579/2019 [47:44<2:02:18,  5.10s/it]"
     ]
    },
    {
     "name": "stdout",
     "output_type": "stream",
     "text": [
      "127\n",
      "../input/rsna-2022-cervical-spine-fracture-detection/train_images/1.2.826.0.1.3680043.3121/\n"
     ]
    },
    {
     "name": "stderr",
     "output_type": "stream",
     "text": [
      " 29%|██▉       | 583/2019 [48:07<2:19:34,  5.83s/it]"
     ]
    },
    {
     "name": "stdout",
     "output_type": "stream",
     "text": [
      "128\n",
      "../input/rsna-2022-cervical-spine-fracture-detection/train_images/1.2.826.0.1.3680043.12152/\n"
     ]
    },
    {
     "name": "stderr",
     "output_type": "stream",
     "text": [
      " 29%|██▉       | 588/2019 [48:24<1:21:53,  3.43s/it]"
     ]
    },
    {
     "name": "stdout",
     "output_type": "stream",
     "text": [
      "129\n",
      "../input/rsna-2022-cervical-spine-fracture-detection/train_images/1.2.826.0.1.3680043.12031/\n",
      "130\n",
      "../input/rsna-2022-cervical-spine-fracture-detection/train_images/1.2.826.0.1.3680043.31328/\n"
     ]
    },
    {
     "name": "stderr",
     "output_type": "stream",
     "text": [
      " 29%|██▉       | 589/2019 [48:28<1:30:00,  3.78s/it]"
     ]
    },
    {
     "name": "stdout",
     "output_type": "stream",
     "text": [
      "131\n",
      "../input/rsna-2022-cervical-spine-fracture-detection/train_images/1.2.826.0.1.3680043.5938/\n"
     ]
    },
    {
     "name": "stderr",
     "output_type": "stream",
     "text": [
      " 29%|██▉       | 593/2019 [48:39<1:07:43,  2.85s/it]"
     ]
    },
    {
     "name": "stdout",
     "output_type": "stream",
     "text": [
      "132\n",
      "../input/rsna-2022-cervical-spine-fracture-detection/train_images/1.2.826.0.1.3680043.28990/\n"
     ]
    },
    {
     "name": "stderr",
     "output_type": "stream",
     "text": [
      " 29%|██▉       | 595/2019 [48:52<1:32:53,  3.91s/it]"
     ]
    },
    {
     "name": "stdout",
     "output_type": "stream",
     "text": [
      "133\n",
      "../input/rsna-2022-cervical-spine-fracture-detection/train_images/1.2.826.0.1.3680043.18135/\n"
     ]
    },
    {
     "name": "stderr",
     "output_type": "stream",
     "text": [
      " 30%|██▉       | 603/2019 [49:50<2:51:13,  7.26s/it]"
     ]
    },
    {
     "name": "stdout",
     "output_type": "stream",
     "text": [
      "134\n",
      "../input/rsna-2022-cervical-spine-fracture-detection/train_images/1.2.826.0.1.3680043.15857/\n"
     ]
    },
    {
     "name": "stderr",
     "output_type": "stream",
     "text": [
      " 30%|███       | 606/2019 [49:55<1:30:06,  3.83s/it]"
     ]
    },
    {
     "name": "stdout",
     "output_type": "stream",
     "text": [
      "135\n",
      "../input/rsna-2022-cervical-spine-fracture-detection/train_images/1.2.826.0.1.3680043.29892/\n"
     ]
    },
    {
     "name": "stderr",
     "output_type": "stream",
     "text": [
      " 30%|███       | 608/2019 [49:59<1:08:55,  2.93s/it]"
     ]
    },
    {
     "name": "stdout",
     "output_type": "stream",
     "text": [
      "136\n",
      "../input/rsna-2022-cervical-spine-fracture-detection/train_images/1.2.826.0.1.3680043.29805/\n"
     ]
    },
    {
     "name": "stderr",
     "output_type": "stream",
     "text": [
      " 30%|███       | 611/2019 [50:16<1:32:39,  3.95s/it]"
     ]
    },
    {
     "name": "stdout",
     "output_type": "stream",
     "text": [
      "137\n",
      "../input/rsna-2022-cervical-spine-fracture-detection/train_images/1.2.826.0.1.3680043.22889/\n"
     ]
    },
    {
     "name": "stderr",
     "output_type": "stream",
     "text": [
      " 30%|███       | 613/2019 [50:22<1:15:19,  3.21s/it]"
     ]
    },
    {
     "name": "stdout",
     "output_type": "stream",
     "text": [
      "138\n",
      "../input/rsna-2022-cervical-spine-fracture-detection/train_images/1.2.826.0.1.3680043.16935/\n"
     ]
    },
    {
     "name": "stderr",
     "output_type": "stream",
     "text": [
      " 31%|███       | 616/2019 [50:38<1:39:57,  4.27s/it]"
     ]
    },
    {
     "name": "stdout",
     "output_type": "stream",
     "text": [
      "139\n",
      "../input/rsna-2022-cervical-spine-fracture-detection/train_images/1.2.826.0.1.3680043.17184/\n"
     ]
    },
    {
     "name": "stderr",
     "output_type": "stream",
     "text": [
      " 31%|███       | 624/2019 [51:38<2:08:18,  5.52s/it]"
     ]
    },
    {
     "name": "stdout",
     "output_type": "stream",
     "text": [
      "140\n",
      "../input/rsna-2022-cervical-spine-fracture-detection/train_images/1.2.826.0.1.3680043.17553/\n"
     ]
    },
    {
     "name": "stderr",
     "output_type": "stream",
     "text": [
      " 31%|███       | 626/2019 [51:43<1:25:47,  3.70s/it]"
     ]
    },
    {
     "name": "stdout",
     "output_type": "stream",
     "text": [
      "141\n",
      "../input/rsna-2022-cervical-spine-fracture-detection/train_images/1.2.826.0.1.3680043.11727/\n"
     ]
    },
    {
     "name": "stderr",
     "output_type": "stream",
     "text": [
      " 32%|███▏      | 637/2019 [52:59<1:58:18,  5.14s/it]"
     ]
    },
    {
     "name": "stdout",
     "output_type": "stream",
     "text": [
      "142\n",
      "../input/rsna-2022-cervical-spine-fracture-detection/train_images/1.2.826.0.1.3680043.14070/\n"
     ]
    },
    {
     "name": "stderr",
     "output_type": "stream",
     "text": [
      " 32%|███▏      | 644/2019 [53:46<2:01:53,  5.32s/it]"
     ]
    },
    {
     "name": "stdout",
     "output_type": "stream",
     "text": [
      "143\n",
      "../input/rsna-2022-cervical-spine-fracture-detection/train_images/1.2.826.0.1.3680043.27562/\n"
     ]
    },
    {
     "name": "stderr",
     "output_type": "stream",
     "text": [
      " 33%|███▎      | 667/2019 [56:08<1:31:14,  4.05s/it]"
     ]
    },
    {
     "name": "stdout",
     "output_type": "stream",
     "text": [
      "144\n",
      "../input/rsna-2022-cervical-spine-fracture-detection/train_images/1.2.826.0.1.3680043.4245/\n"
     ]
    },
    {
     "name": "stderr",
     "output_type": "stream",
     "text": [
      " 33%|███▎      | 668/2019 [56:17<2:02:48,  5.45s/it]"
     ]
    },
    {
     "name": "stdout",
     "output_type": "stream",
     "text": [
      "145\n",
      "../input/rsna-2022-cervical-spine-fracture-detection/train_images/1.2.826.0.1.3680043.2823/\n"
     ]
    },
    {
     "name": "stderr",
     "output_type": "stream",
     "text": [
      " 33%|███▎      | 672/2019 [56:29<1:19:00,  3.52s/it]"
     ]
    },
    {
     "name": "stdout",
     "output_type": "stream",
     "text": [
      "146\n",
      "../input/rsna-2022-cervical-spine-fracture-detection/train_images/1.2.826.0.1.3680043.8674/\n"
     ]
    },
    {
     "name": "stderr",
     "output_type": "stream",
     "text": [
      " 33%|███▎      | 676/2019 [56:53<2:29:36,  6.68s/it]"
     ]
    },
    {
     "name": "stdout",
     "output_type": "stream",
     "text": [
      "147\n",
      "../input/rsna-2022-cervical-spine-fracture-detection/train_images/1.2.826.0.1.3680043.28502/\n"
     ]
    },
    {
     "name": "stderr",
     "output_type": "stream",
     "text": [
      " 34%|███▎      | 679/2019 [57:00<1:25:49,  3.84s/it]"
     ]
    },
    {
     "name": "stdout",
     "output_type": "stream",
     "text": [
      "148\n",
      "../input/rsna-2022-cervical-spine-fracture-detection/train_images/1.2.826.0.1.3680043.16693/\n"
     ]
    },
    {
     "name": "stderr",
     "output_type": "stream",
     "text": [
      " 34%|███▍      | 686/2019 [57:52<2:02:37,  5.52s/it]"
     ]
    },
    {
     "name": "stdout",
     "output_type": "stream",
     "text": [
      "149\n",
      "../input/rsna-2022-cervical-spine-fracture-detection/train_images/1.2.826.0.1.3680043.9286/\n",
      "150\n",
      "../input/rsna-2022-cervical-spine-fracture-detection/train_images/1.2.826.0.1.3680043.29287/\n"
     ]
    },
    {
     "name": "stderr",
     "output_type": "stream",
     "text": [
      " 34%|███▍      | 693/2019 [58:19<1:21:07,  3.67s/it]"
     ]
    },
    {
     "name": "stdout",
     "output_type": "stream",
     "text": [
      "151\n",
      "../input/rsna-2022-cervical-spine-fracture-detection/train_images/1.2.826.0.1.3680043.17194/\n"
     ]
    },
    {
     "name": "stderr",
     "output_type": "stream",
     "text": [
      " 35%|███▍      | 703/2019 [59:19<2:09:53,  5.92s/it]"
     ]
    },
    {
     "name": "stdout",
     "output_type": "stream",
     "text": [
      "152\n",
      "../input/rsna-2022-cervical-spine-fracture-detection/train_images/1.2.826.0.1.3680043.19153/\n"
     ]
    },
    {
     "name": "stderr",
     "output_type": "stream",
     "text": [
      " 35%|███▌      | 709/2019 [59:43<1:35:58,  4.40s/it]"
     ]
    },
    {
     "name": "stdout",
     "output_type": "stream",
     "text": [
      "153\n",
      "../input/rsna-2022-cervical-spine-fracture-detection/train_images/1.2.826.0.1.3680043.2248/\n"
     ]
    },
    {
     "name": "stderr",
     "output_type": "stream",
     "text": [
      " 35%|███▌      | 714/2019 [59:59<1:09:07,  3.18s/it]"
     ]
    },
    {
     "name": "stdout",
     "output_type": "stream",
     "text": [
      "154\n",
      "../input/rsna-2022-cervical-spine-fracture-detection/train_images/1.2.826.0.1.3680043.18656/\n"
     ]
    },
    {
     "name": "stderr",
     "output_type": "stream",
     "text": [
      " 35%|███▌      | 715/2019 [1:00:07<1:38:32,  4.53s/it]"
     ]
    },
    {
     "name": "stdout",
     "output_type": "stream",
     "text": [
      "155\n",
      "../input/rsna-2022-cervical-spine-fracture-detection/train_images/1.2.826.0.1.3680043.21231/\n"
     ]
    },
    {
     "name": "stderr",
     "output_type": "stream",
     "text": [
      " 36%|███▌      | 720/2019 [1:00:36<2:00:48,  5.58s/it]"
     ]
    },
    {
     "name": "stdout",
     "output_type": "stream",
     "text": [
      "156\n",
      "../input/rsna-2022-cervical-spine-fracture-detection/train_images/1.2.826.0.1.3680043.25917/\n"
     ]
    },
    {
     "name": "stderr",
     "output_type": "stream",
     "text": [
      " 36%|███▌      | 724/2019 [1:00:56<2:08:37,  5.96s/it]"
     ]
    },
    {
     "name": "stdout",
     "output_type": "stream",
     "text": [
      "157\n",
      "../input/rsna-2022-cervical-spine-fracture-detection/train_images/1.2.826.0.1.3680043.14038/\n"
     ]
    },
    {
     "name": "stderr",
     "output_type": "stream",
     "text": [
      " 36%|███▌      | 726/2019 [1:01:01<1:37:43,  4.53s/it]"
     ]
    },
    {
     "name": "stdout",
     "output_type": "stream",
     "text": [
      "158\n",
      "../input/rsna-2022-cervical-spine-fracture-detection/train_images/1.2.826.0.1.3680043.29132/\n"
     ]
    },
    {
     "name": "stderr",
     "output_type": "stream",
     "text": [
      " 37%|███▋      | 737/2019 [1:02:06<2:32:58,  7.16s/it]"
     ]
    },
    {
     "name": "stdout",
     "output_type": "stream",
     "text": [
      "159\n",
      "../input/rsna-2022-cervical-spine-fracture-detection/train_images/1.2.826.0.1.3680043.21257/\n"
     ]
    },
    {
     "name": "stderr",
     "output_type": "stream",
     "text": [
      " 37%|███▋      | 742/2019 [1:02:26<1:38:25,  4.62s/it]"
     ]
    },
    {
     "name": "stdout",
     "output_type": "stream",
     "text": [
      "160\n",
      "../input/rsna-2022-cervical-spine-fracture-detection/train_images/1.2.826.0.1.3680043.20276/\n"
     ]
    },
    {
     "name": "stderr",
     "output_type": "stream",
     "text": [
      " 37%|███▋      | 745/2019 [1:02:51<2:21:44,  6.68s/it]"
     ]
    },
    {
     "name": "stdout",
     "output_type": "stream",
     "text": [
      "161\n",
      "../input/rsna-2022-cervical-spine-fracture-detection/train_images/1.2.826.0.1.3680043.5055/\n"
     ]
    },
    {
     "name": "stderr",
     "output_type": "stream",
     "text": [
      " 37%|███▋      | 754/2019 [1:03:24<1:00:15,  2.86s/it]"
     ]
    },
    {
     "name": "stdout",
     "output_type": "stream",
     "text": [
      "162\n",
      "../input/rsna-2022-cervical-spine-fracture-detection/train_images/1.2.826.0.1.3680043.9155/\n",
      "163\n",
      "../input/rsna-2022-cervical-spine-fracture-detection/train_images/1.2.826.0.1.3680043.6464/\n"
     ]
    },
    {
     "name": "stderr",
     "output_type": "stream",
     "text": [
      " 38%|███▊      | 759/2019 [1:03:55<1:38:39,  4.70s/it]"
     ]
    },
    {
     "name": "stdout",
     "output_type": "stream",
     "text": [
      "164\n",
      "../input/rsna-2022-cervical-spine-fracture-detection/train_images/1.2.826.0.1.3680043.14278/\n"
     ]
    },
    {
     "name": "stderr",
     "output_type": "stream",
     "text": [
      " 38%|███▊      | 761/2019 [1:04:05<1:39:52,  4.76s/it]"
     ]
    },
    {
     "name": "stdout",
     "output_type": "stream",
     "text": [
      "165\n",
      "../input/rsna-2022-cervical-spine-fracture-detection/train_images/1.2.826.0.1.3680043.22050/\n"
     ]
    },
    {
     "name": "stderr",
     "output_type": "stream",
     "text": [
      " 38%|███▊      | 770/2019 [1:04:54<1:34:43,  4.55s/it]"
     ]
    },
    {
     "name": "stdout",
     "output_type": "stream",
     "text": [
      "166\n",
      "../input/rsna-2022-cervical-spine-fracture-detection/train_images/1.2.826.0.1.3680043.24343/\n"
     ]
    },
    {
     "name": "stderr",
     "output_type": "stream",
     "text": [
      " 38%|███▊      | 773/2019 [1:05:13<1:56:20,  5.60s/it]"
     ]
    },
    {
     "name": "stdout",
     "output_type": "stream",
     "text": [
      "167\n",
      "../input/rsna-2022-cervical-spine-fracture-detection/train_images/1.2.826.0.1.3680043.6068/\n"
     ]
    },
    {
     "name": "stderr",
     "output_type": "stream",
     "text": [
      " 39%|███▊      | 780/2019 [1:05:46<1:43:07,  4.99s/it]"
     ]
    },
    {
     "name": "stdout",
     "output_type": "stream",
     "text": [
      "168\n",
      "../input/rsna-2022-cervical-spine-fracture-detection/train_images/1.2.826.0.1.3680043.23904/\n"
     ]
    },
    {
     "name": "stderr",
     "output_type": "stream",
     "text": [
      " 39%|███▊      | 782/2019 [1:05:58<1:51:15,  5.40s/it]"
     ]
    },
    {
     "name": "stdout",
     "output_type": "stream",
     "text": [
      "169\n",
      "../input/rsna-2022-cervical-spine-fracture-detection/train_images/1.2.826.0.1.3680043.32658/\n"
     ]
    },
    {
     "name": "stderr",
     "output_type": "stream",
     "text": [
      " 39%|███▉      | 784/2019 [1:06:03<1:26:03,  4.18s/it]"
     ]
    },
    {
     "name": "stdout",
     "output_type": "stream",
     "text": [
      "170\n",
      "../input/rsna-2022-cervical-spine-fracture-detection/train_images/1.2.826.0.1.3680043.4196/\n"
     ]
    },
    {
     "name": "stderr",
     "output_type": "stream",
     "text": [
      " 39%|███▉      | 786/2019 [1:06:14<1:38:47,  4.81s/it]"
     ]
    },
    {
     "name": "stdout",
     "output_type": "stream",
     "text": [
      "171\n",
      "../input/rsna-2022-cervical-spine-fracture-detection/train_images/1.2.826.0.1.3680043.7209/\n"
     ]
    },
    {
     "name": "stderr",
     "output_type": "stream",
     "text": [
      " 39%|███▉      | 794/2019 [1:06:58<2:10:26,  6.39s/it]"
     ]
    },
    {
     "name": "stdout",
     "output_type": "stream",
     "text": [
      "172\n",
      "../input/rsna-2022-cervical-spine-fracture-detection/train_images/1.2.826.0.1.3680043.28055/\n"
     ]
    },
    {
     "name": "stderr",
     "output_type": "stream",
     "text": [
      " 40%|███▉      | 800/2019 [1:07:30<1:52:33,  5.54s/it]"
     ]
    },
    {
     "name": "stdout",
     "output_type": "stream",
     "text": [
      "173\n",
      "../input/rsna-2022-cervical-spine-fracture-detection/train_images/1.2.826.0.1.3680043.2230/\n"
     ]
    },
    {
     "name": "stderr",
     "output_type": "stream",
     "text": [
      " 40%|███▉      | 802/2019 [1:07:30<1:04:16,  3.17s/it]"
     ]
    },
    {
     "name": "stdout",
     "output_type": "stream",
     "text": [
      "174\n",
      "../input/rsna-2022-cervical-spine-fracture-detection/train_images/1.2.826.0.1.3680043.28025/\n"
     ]
    },
    {
     "name": "stderr",
     "output_type": "stream",
     "text": [
      " 40%|███▉      | 803/2019 [1:07:30<49:52,  2.46s/it]  "
     ]
    },
    {
     "name": "stdout",
     "output_type": "stream",
     "text": [
      "175\n",
      "../input/rsna-2022-cervical-spine-fracture-detection/train_images/1.2.826.0.1.3680043.6537/\n"
     ]
    },
    {
     "name": "stderr",
     "output_type": "stream",
     "text": [
      " 40%|████      | 817/2019 [1:09:15<2:11:00,  6.54s/it]"
     ]
    },
    {
     "name": "stdout",
     "output_type": "stream",
     "text": [
      "176\n",
      "../input/rsna-2022-cervical-spine-fracture-detection/train_images/1.2.826.0.1.3680043.13477/\n"
     ]
    },
    {
     "name": "stderr",
     "output_type": "stream",
     "text": [
      " 41%|████      | 823/2019 [1:09:53<1:43:38,  5.20s/it]"
     ]
    },
    {
     "name": "stdout",
     "output_type": "stream",
     "text": [
      "177\n",
      "../input/rsna-2022-cervical-spine-fracture-detection/train_images/1.2.826.0.1.3680043.17791/\n"
     ]
    },
    {
     "name": "stderr",
     "output_type": "stream",
     "text": [
      " 41%|████      | 832/2019 [1:10:43<1:50:02,  5.56s/it]"
     ]
    },
    {
     "name": "stdout",
     "output_type": "stream",
     "text": [
      "178\n",
      "../input/rsna-2022-cervical-spine-fracture-detection/train_images/1.2.826.0.1.3680043.5671/\n"
     ]
    },
    {
     "name": "stderr",
     "output_type": "stream",
     "text": [
      " 42%|████▏     | 838/2019 [1:11:24<2:49:37,  8.62s/it]"
     ]
    },
    {
     "name": "stdout",
     "output_type": "stream",
     "text": [
      "179\n",
      "../input/rsna-2022-cervical-spine-fracture-detection/train_images/1.2.826.0.1.3680043.24385/\n"
     ]
    },
    {
     "name": "stderr",
     "output_type": "stream",
     "text": [
      " 42%|████▏     | 840/2019 [1:11:27<1:49:15,  5.56s/it]"
     ]
    },
    {
     "name": "stdout",
     "output_type": "stream",
     "text": [
      "180\n",
      "../input/rsna-2022-cervical-spine-fracture-detection/train_images/1.2.826.0.1.3680043.32063/\n"
     ]
    },
    {
     "name": "stderr",
     "output_type": "stream",
     "text": [
      " 42%|████▏     | 851/2019 [1:12:22<1:14:24,  3.82s/it]"
     ]
    },
    {
     "name": "stdout",
     "output_type": "stream",
     "text": [
      "181\n",
      "../input/rsna-2022-cervical-spine-fracture-detection/train_images/1.2.826.0.1.3680043.24264/\n"
     ]
    },
    {
     "name": "stderr",
     "output_type": "stream",
     "text": [
      " 42%|████▏     | 857/2019 [1:12:59<1:52:51,  5.83s/it]"
     ]
    },
    {
     "name": "stdout",
     "output_type": "stream",
     "text": [
      "182\n",
      "../input/rsna-2022-cervical-spine-fracture-detection/train_images/1.2.826.0.1.3680043.7054/\n"
     ]
    },
    {
     "name": "stderr",
     "output_type": "stream",
     "text": [
      " 43%|████▎     | 859/2019 [1:13:07<1:25:26,  4.42s/it]"
     ]
    },
    {
     "name": "stdout",
     "output_type": "stream",
     "text": [
      "183\n",
      "../input/rsna-2022-cervical-spine-fracture-detection/train_images/1.2.826.0.1.3680043.30037/\n"
     ]
    },
    {
     "name": "stderr",
     "output_type": "stream",
     "text": [
      " 43%|████▎     | 860/2019 [1:13:11<1:25:22,  4.42s/it]"
     ]
    },
    {
     "name": "stdout",
     "output_type": "stream",
     "text": [
      "184\n",
      "../input/rsna-2022-cervical-spine-fracture-detection/train_images/1.2.826.0.1.3680043.2289/\n"
     ]
    },
    {
     "name": "stderr",
     "output_type": "stream",
     "text": [
      " 43%|████▎     | 863/2019 [1:13:16<52:22,  2.72s/it]  "
     ]
    },
    {
     "name": "stdout",
     "output_type": "stream",
     "text": [
      "185\n",
      "../input/rsna-2022-cervical-spine-fracture-detection/train_images/1.2.826.0.1.3680043.3629/\n"
     ]
    },
    {
     "name": "stderr",
     "output_type": "stream",
     "text": [
      " 43%|████▎     | 867/2019 [1:13:47<1:41:08,  5.27s/it]"
     ]
    },
    {
     "name": "stdout",
     "output_type": "stream",
     "text": [
      "186\n",
      "../input/rsna-2022-cervical-spine-fracture-detection/train_images/1.2.826.0.1.3680043.8421/\n",
      "187\n",
      "../input/rsna-2022-cervical-spine-fracture-detection/train_images/1.2.826.0.1.3680043.7381/\n"
     ]
    },
    {
     "name": "stderr",
     "output_type": "stream",
     "text": [
      " 43%|████▎     | 875/2019 [1:14:16<51:41,  2.71s/it]  "
     ]
    },
    {
     "name": "stdout",
     "output_type": "stream",
     "text": [
      "188\n",
      "../input/rsna-2022-cervical-spine-fracture-detection/train_images/1.2.826.0.1.3680043.4202/\n",
      "189\n",
      "../input/rsna-2022-cervical-spine-fracture-detection/train_images/1.2.826.0.1.3680043.17833/\n"
     ]
    },
    {
     "name": "stderr",
     "output_type": "stream",
     "text": [
      " 44%|████▎     | 880/2019 [1:14:52<1:50:22,  5.81s/it]"
     ]
    },
    {
     "name": "stdout",
     "output_type": "stream",
     "text": [
      "190\n",
      "../input/rsna-2022-cervical-spine-fracture-detection/train_images/1.2.826.0.1.3680043.6439/\n"
     ]
    },
    {
     "name": "stderr",
     "output_type": "stream",
     "text": [
      " 44%|████▎     | 883/2019 [1:14:58<1:07:02,  3.54s/it]"
     ]
    },
    {
     "name": "stdout",
     "output_type": "stream",
     "text": [
      "191\n",
      "../input/rsna-2022-cervical-spine-fracture-detection/train_images/1.2.826.0.1.3680043.3784/\n"
     ]
    },
    {
     "name": "stderr",
     "output_type": "stream",
     "text": [
      " 44%|████▍     | 884/2019 [1:15:09<1:39:18,  5.25s/it]"
     ]
    },
    {
     "name": "stdout",
     "output_type": "stream",
     "text": [
      "192\n",
      "../input/rsna-2022-cervical-spine-fracture-detection/train_images/1.2.826.0.1.3680043.23957/\n"
     ]
    },
    {
     "name": "stderr",
     "output_type": "stream",
     "text": [
      " 45%|████▍     | 899/2019 [1:16:32<1:36:36,  5.18s/it]"
     ]
    },
    {
     "name": "stdout",
     "output_type": "stream",
     "text": [
      "193\n",
      "../input/rsna-2022-cervical-spine-fracture-detection/train_images/1.2.826.0.1.3680043.16374/\n",
      "194\n",
      "../input/rsna-2022-cervical-spine-fracture-detection/train_images/1.2.826.0.1.3680043.21809/\n"
     ]
    },
    {
     "name": "stderr",
     "output_type": "stream",
     "text": [
      " 45%|████▍     | 901/2019 [1:16:33<52:57,  2.84s/it]  "
     ]
    },
    {
     "name": "stdout",
     "output_type": "stream",
     "text": [
      "195\n",
      "../input/rsna-2022-cervical-spine-fracture-detection/train_images/1.2.826.0.1.3680043.22120/\n"
     ]
    },
    {
     "name": "stderr",
     "output_type": "stream",
     "text": [
      " 45%|████▌     | 918/2019 [1:18:29<2:14:52,  7.35s/it]"
     ]
    },
    {
     "name": "stdout",
     "output_type": "stream",
     "text": [
      "196\n",
      "../input/rsna-2022-cervical-spine-fracture-detection/train_images/1.2.826.0.1.3680043.9447/\n"
     ]
    },
    {
     "name": "stderr",
     "output_type": "stream",
     "text": [
      " 46%|████▌     | 923/2019 [1:18:48<1:33:04,  5.10s/it]"
     ]
    },
    {
     "name": "stdout",
     "output_type": "stream",
     "text": [
      "197\n",
      "../input/rsna-2022-cervical-spine-fracture-detection/train_images/1.2.826.0.1.3680043.20061/\n"
     ]
    },
    {
     "name": "stderr",
     "output_type": "stream",
     "text": [
      " 46%|████▌     | 927/2019 [1:18:55<47:05,  2.59s/it]  "
     ]
    },
    {
     "name": "stdout",
     "output_type": "stream",
     "text": [
      "198\n",
      "../input/rsna-2022-cervical-spine-fracture-detection/train_images/1.2.826.0.1.3680043.19021/\n",
      "199\n",
      "../input/rsna-2022-cervical-spine-fracture-detection/train_images/1.2.826.0.1.3680043.20981/\n"
     ]
    },
    {
     "name": "stderr",
     "output_type": "stream",
     "text": [
      " 46%|████▌     | 931/2019 [1:19:31<2:17:03,  7.56s/it]"
     ]
    },
    {
     "name": "stdout",
     "output_type": "stream",
     "text": [
      "200\n",
      "../input/rsna-2022-cervical-spine-fracture-detection/train_images/1.2.826.0.1.3680043.13820/\n"
     ]
    },
    {
     "name": "stderr",
     "output_type": "stream",
     "text": [
      " 46%|████▋     | 937/2019 [1:20:04<1:33:24,  5.18s/it]"
     ]
    },
    {
     "name": "stdout",
     "output_type": "stream",
     "text": [
      "201\n",
      "../input/rsna-2022-cervical-spine-fracture-detection/train_images/1.2.826.0.1.3680043.30765/\n",
      "202\n",
      "../input/rsna-2022-cervical-spine-fracture-detection/train_images/1.2.826.0.1.3680043.29548/\n"
     ]
    },
    {
     "name": "stderr",
     "output_type": "stream",
     "text": [
      " 47%|████▋     | 943/2019 [1:20:33<1:30:43,  5.06s/it]"
     ]
    },
    {
     "name": "stdout",
     "output_type": "stream",
     "text": [
      "203\n",
      "../input/rsna-2022-cervical-spine-fracture-detection/train_images/1.2.826.0.1.3680043.24691/\n"
     ]
    },
    {
     "name": "stderr",
     "output_type": "stream",
     "text": [
      " 47%|████▋     | 951/2019 [1:21:20<2:00:20,  6.76s/it]"
     ]
    },
    {
     "name": "stdout",
     "output_type": "stream",
     "text": [
      "204\n",
      "../input/rsna-2022-cervical-spine-fracture-detection/train_images/1.2.826.0.1.3680043.26401/\n"
     ]
    },
    {
     "name": "stderr",
     "output_type": "stream",
     "text": [
      " 47%|████▋     | 955/2019 [1:21:40<1:39:16,  5.60s/it]"
     ]
    },
    {
     "name": "stdout",
     "output_type": "stream",
     "text": [
      "205\n",
      "../input/rsna-2022-cervical-spine-fracture-detection/train_images/1.2.826.0.1.3680043.1542/\n"
     ]
    },
    {
     "name": "stderr",
     "output_type": "stream",
     "text": [
      " 48%|████▊     | 962/2019 [1:22:16<1:30:29,  5.14s/it]"
     ]
    },
    {
     "name": "stdout",
     "output_type": "stream",
     "text": [
      "206\n",
      "../input/rsna-2022-cervical-spine-fracture-detection/train_images/1.2.826.0.1.3680043.30240/\n"
     ]
    },
    {
     "name": "stderr",
     "output_type": "stream",
     "text": [
      " 48%|████▊     | 968/2019 [1:22:41<1:10:36,  4.03s/it]"
     ]
    },
    {
     "name": "stdout",
     "output_type": "stream",
     "text": [
      "207\n",
      "../input/rsna-2022-cervical-spine-fracture-detection/train_images/1.2.826.0.1.3680043.16124/\n"
     ]
    },
    {
     "name": "stderr",
     "output_type": "stream",
     "text": [
      " 48%|████▊     | 973/2019 [1:23:16<1:26:30,  4.96s/it]"
     ]
    },
    {
     "name": "stdout",
     "output_type": "stream",
     "text": [
      "208\n",
      "../input/rsna-2022-cervical-spine-fracture-detection/train_images/1.2.826.0.1.3680043.19778/\n"
     ]
    },
    {
     "name": "stderr",
     "output_type": "stream",
     "text": [
      " 48%|████▊     | 976/2019 [1:23:37<1:40:35,  5.79s/it]"
     ]
    },
    {
     "name": "stdout",
     "output_type": "stream",
     "text": [
      "209\n",
      "../input/rsna-2022-cervical-spine-fracture-detection/train_images/1.2.826.0.1.3680043.8367/\n"
     ]
    },
    {
     "name": "stderr",
     "output_type": "stream",
     "text": [
      " 48%|████▊     | 979/2019 [1:23:44<1:04:00,  3.69s/it]"
     ]
    },
    {
     "name": "stdout",
     "output_type": "stream",
     "text": [
      "210\n",
      "../input/rsna-2022-cervical-spine-fracture-detection/train_images/1.2.826.0.1.3680043.22757/\n"
     ]
    },
    {
     "name": "stderr",
     "output_type": "stream",
     "text": [
      " 49%|████▉     | 986/2019 [1:24:36<2:00:25,  7.00s/it]"
     ]
    },
    {
     "name": "stdout",
     "output_type": "stream",
     "text": [
      "211\n",
      "../input/rsna-2022-cervical-spine-fracture-detection/train_images/1.2.826.0.1.3680043.24761/\n"
     ]
    },
    {
     "name": "stderr",
     "output_type": "stream",
     "text": [
      " 49%|████▉     | 992/2019 [1:24:52<49:27,  2.89s/it]  "
     ]
    },
    {
     "name": "stdout",
     "output_type": "stream",
     "text": [
      "212\n",
      "../input/rsna-2022-cervical-spine-fracture-detection/train_images/1.2.826.0.1.3680043.24007/\n",
      "213\n",
      "../input/rsna-2022-cervical-spine-fracture-detection/train_images/1.2.826.0.1.3680043.12695/\n"
     ]
    },
    {
     "name": "stderr",
     "output_type": "stream",
     "text": [
      " 49%|████▉     | 997/2019 [1:25:17<1:00:48,  3.57s/it]"
     ]
    },
    {
     "name": "stdout",
     "output_type": "stream",
     "text": [
      "214\n",
      "../input/rsna-2022-cervical-spine-fracture-detection/train_images/1.2.826.0.1.3680043.14267/\n"
     ]
    },
    {
     "name": "stderr",
     "output_type": "stream",
     "text": [
      " 49%|████▉     | 999/2019 [1:25:27<1:10:54,  4.17s/it]"
     ]
    },
    {
     "name": "stdout",
     "output_type": "stream",
     "text": [
      "215\n",
      "../input/rsna-2022-cervical-spine-fracture-detection/train_images/1.2.826.0.1.3680043.17069/\n"
     ]
    },
    {
     "name": "stderr",
     "output_type": "stream",
     "text": [
      " 50%|████▉     | 1005/2019 [1:25:43<44:29,  2.63s/it]  "
     ]
    },
    {
     "name": "stdout",
     "output_type": "stream",
     "text": [
      "216\n",
      "../input/rsna-2022-cervical-spine-fracture-detection/train_images/1.2.826.0.1.3680043.22806/\n",
      "217\n",
      "../input/rsna-2022-cervical-spine-fracture-detection/train_images/1.2.826.0.1.3680043.5227/\n"
     ]
    },
    {
     "name": "stderr",
     "output_type": "stream",
     "text": [
      " 50%|█████     | 1012/2019 [1:26:23<1:41:32,  6.05s/it]"
     ]
    },
    {
     "name": "stdout",
     "output_type": "stream",
     "text": [
      "218\n",
      "../input/rsna-2022-cervical-spine-fracture-detection/train_images/1.2.826.0.1.3680043.29668/\n"
     ]
    },
    {
     "name": "stderr",
     "output_type": "stream",
     "text": [
      " 50%|█████     | 1014/2019 [1:26:34<1:37:21,  5.81s/it]"
     ]
    },
    {
     "name": "stdout",
     "output_type": "stream",
     "text": [
      "219\n",
      "../input/rsna-2022-cervical-spine-fracture-detection/train_images/1.2.826.0.1.3680043.12409/\n"
     ]
    },
    {
     "name": "stderr",
     "output_type": "stream",
     "text": [
      " 51%|█████     | 1021/2019 [1:27:01<53:19,  3.21s/it]  "
     ]
    },
    {
     "name": "stdout",
     "output_type": "stream",
     "text": [
      "220\n",
      "../input/rsna-2022-cervical-spine-fracture-detection/train_images/1.2.826.0.1.3680043.21818/\n",
      "221\n",
      "../input/rsna-2022-cervical-spine-fracture-detection/train_images/1.2.826.0.1.3680043.30039/\n"
     ]
    },
    {
     "name": "stderr",
     "output_type": "stream",
     "text": [
      " 51%|█████     | 1026/2019 [1:27:23<54:51,  3.31s/it]  "
     ]
    },
    {
     "name": "stdout",
     "output_type": "stream",
     "text": [
      "222\n",
      "../input/rsna-2022-cervical-spine-fracture-detection/train_images/1.2.826.0.1.3680043.16811/\n",
      "223\n",
      "../input/rsna-2022-cervical-spine-fracture-detection/train_images/1.2.826.0.1.3680043.2321/\n"
     ]
    },
    {
     "name": "stderr",
     "output_type": "stream",
     "text": [
      " 51%|█████     | 1031/2019 [1:27:57<1:32:57,  5.65s/it]"
     ]
    },
    {
     "name": "stdout",
     "output_type": "stream",
     "text": [
      "224\n",
      "../input/rsna-2022-cervical-spine-fracture-detection/train_images/1.2.826.0.1.3680043.933/\n"
     ]
    },
    {
     "name": "stderr",
     "output_type": "stream",
     "text": [
      " 51%|█████▏    | 1037/2019 [1:28:01<27:20,  1.67s/it]"
     ]
    },
    {
     "name": "stdout",
     "output_type": "stream",
     "text": [
      "225\n",
      "../input/rsna-2022-cervical-spine-fracture-detection/train_images/1.2.826.0.1.3680043.11281/\n",
      "226\n",
      "../input/rsna-2022-cervical-spine-fracture-detection/train_images/1.2.826.0.1.3680043.29952/\n",
      "227\n",
      "../input/rsna-2022-cervical-spine-fracture-detection/train_images/1.2.826.0.1.3680043.29183/\n",
      "228\n",
      "../input/rsna-2022-cervical-spine-fracture-detection/train_images/1.2.826.0.1.3680043.25352/\n"
     ]
    },
    {
     "name": "stderr",
     "output_type": "stream",
     "text": [
      " 51%|█████▏    | 1039/2019 [1:28:09<42:19,  2.59s/it]"
     ]
    },
    {
     "name": "stdout",
     "output_type": "stream",
     "text": [
      "229\n",
      "../input/rsna-2022-cervical-spine-fracture-detection/train_images/1.2.826.0.1.3680043.4818/\n"
     ]
    },
    {
     "name": "stderr",
     "output_type": "stream",
     "text": [
      " 52%|█████▏    | 1042/2019 [1:28:23<53:36,  3.29s/it]  "
     ]
    },
    {
     "name": "stdout",
     "output_type": "stream",
     "text": [
      "230\n",
      "../input/rsna-2022-cervical-spine-fracture-detection/train_images/1.2.826.0.1.3680043.24508/\n"
     ]
    },
    {
     "name": "stderr",
     "output_type": "stream",
     "text": [
      " 52%|█████▏    | 1046/2019 [1:29:06<2:13:52,  8.26s/it]"
     ]
    },
    {
     "name": "stdout",
     "output_type": "stream",
     "text": [
      "231\n",
      "../input/rsna-2022-cervical-spine-fracture-detection/train_images/1.2.826.0.1.3680043.1406/\n"
     ]
    },
    {
     "name": "stderr",
     "output_type": "stream",
     "text": [
      " 52%|█████▏    | 1053/2019 [1:29:27<52:08,  3.24s/it]  "
     ]
    },
    {
     "name": "stdout",
     "output_type": "stream",
     "text": [
      "232\n",
      "../input/rsna-2022-cervical-spine-fracture-detection/train_images/1.2.826.0.1.3680043.13091/\n",
      "233\n",
      "../input/rsna-2022-cervical-spine-fracture-detection/train_images/1.2.826.0.1.3680043.10360/\n"
     ]
    },
    {
     "name": "stderr",
     "output_type": "stream",
     "text": [
      " 52%|█████▏    | 1054/2019 [1:29:27<40:13,  2.50s/it]"
     ]
    },
    {
     "name": "stdout",
     "output_type": "stream",
     "text": [
      "234\n",
      "../input/rsna-2022-cervical-spine-fracture-detection/train_images/1.2.826.0.1.3680043.6892/\n"
     ]
    },
    {
     "name": "stderr",
     "output_type": "stream",
     "text": [
      " 53%|█████▎    | 1063/2019 [1:30:06<46:35,  2.92s/it]  "
     ]
    },
    {
     "name": "stdout",
     "output_type": "stream",
     "text": [
      "235\n",
      "../input/rsna-2022-cervical-spine-fracture-detection/train_images/1.2.826.0.1.3680043.21963/\n",
      "236\n",
      "../input/rsna-2022-cervical-spine-fracture-detection/train_images/1.2.826.0.1.3680043.31067/\n"
     ]
    },
    {
     "name": "stderr",
     "output_type": "stream",
     "text": [
      " 53%|█████▎    | 1065/2019 [1:30:12<44:51,  2.82s/it]  "
     ]
    },
    {
     "name": "stdout",
     "output_type": "stream",
     "text": [
      "237\n",
      "../input/rsna-2022-cervical-spine-fracture-detection/train_images/1.2.826.0.1.3680043.16919/\n"
     ]
    },
    {
     "name": "stderr",
     "output_type": "stream",
     "text": [
      " 53%|█████▎    | 1068/2019 [1:30:18<29:37,  1.87s/it]"
     ]
    },
    {
     "name": "stdout",
     "output_type": "stream",
     "text": [
      "238\n",
      "../input/rsna-2022-cervical-spine-fracture-detection/train_images/1.2.826.0.1.3680043.8990/\n",
      "239\n",
      "../input/rsna-2022-cervical-spine-fracture-detection/train_images/1.2.826.0.1.3680043.7391/\n"
     ]
    },
    {
     "name": "stderr",
     "output_type": "stream",
     "text": [
      " 53%|█████▎    | 1072/2019 [1:30:48<1:27:49,  5.56s/it]"
     ]
    },
    {
     "name": "stdout",
     "output_type": "stream",
     "text": [
      "240\n",
      "../input/rsna-2022-cervical-spine-fracture-detection/train_images/1.2.826.0.1.3680043.17483/\n"
     ]
    },
    {
     "name": "stderr",
     "output_type": "stream",
     "text": [
      " 53%|█████▎    | 1074/2019 [1:30:54<1:08:48,  4.37s/it]"
     ]
    },
    {
     "name": "stdout",
     "output_type": "stream",
     "text": [
      "241\n",
      "../input/rsna-2022-cervical-spine-fracture-detection/train_images/1.2.826.0.1.3680043.26992/\n"
     ]
    },
    {
     "name": "stderr",
     "output_type": "stream",
     "text": [
      " 53%|█████▎    | 1076/2019 [1:30:58<54:01,  3.44s/it]  "
     ]
    },
    {
     "name": "stdout",
     "output_type": "stream",
     "text": [
      "242\n",
      "../input/rsna-2022-cervical-spine-fracture-detection/train_images/1.2.826.0.1.3680043.6561/\n"
     ]
    },
    {
     "name": "stderr",
     "output_type": "stream",
     "text": [
      " 53%|█████▎    | 1078/2019 [1:31:04<51:04,  3.26s/it]"
     ]
    },
    {
     "name": "stdout",
     "output_type": "stream",
     "text": [
      "243\n",
      "../input/rsna-2022-cervical-spine-fracture-detection/train_images/1.2.826.0.1.3680043.1972/\n"
     ]
    },
    {
     "name": "stderr",
     "output_type": "stream",
     "text": [
      " 54%|█████▎    | 1083/2019 [1:31:34<1:38:25,  6.31s/it]"
     ]
    },
    {
     "name": "stdout",
     "output_type": "stream",
     "text": [
      "244\n",
      "../input/rsna-2022-cervical-spine-fracture-detection/train_images/1.2.826.0.1.3680043.23658/\n"
     ]
    },
    {
     "name": "stderr",
     "output_type": "stream",
     "text": [
      " 54%|█████▎    | 1085/2019 [1:31:39<1:12:41,  4.67s/it]"
     ]
    },
    {
     "name": "stdout",
     "output_type": "stream",
     "text": [
      "245\n",
      "../input/rsna-2022-cervical-spine-fracture-detection/train_images/1.2.826.0.1.3680043.1770/\n"
     ]
    },
    {
     "name": "stderr",
     "output_type": "stream",
     "text": [
      " 54%|█████▍    | 1089/2019 [1:31:48<47:24,  3.06s/it]  "
     ]
    },
    {
     "name": "stdout",
     "output_type": "stream",
     "text": [
      "246\n",
      "../input/rsna-2022-cervical-spine-fracture-detection/train_images/1.2.826.0.1.3680043.22430/\n",
      "247\n",
      "../input/rsna-2022-cervical-spine-fracture-detection/train_images/1.2.826.0.1.3680043.13229/\n"
     ]
    },
    {
     "name": "stderr",
     "output_type": "stream",
     "text": [
      " 55%|█████▍    | 1102/2019 [1:33:23<1:49:48,  7.18s/it]"
     ]
    },
    {
     "name": "stdout",
     "output_type": "stream",
     "text": [
      "248\n",
      "../input/rsna-2022-cervical-spine-fracture-detection/train_images/1.2.826.0.1.3680043.8562/\n"
     ]
    },
    {
     "name": "stderr",
     "output_type": "stream",
     "text": [
      " 55%|█████▍    | 1105/2019 [1:33:29<1:00:30,  3.97s/it]"
     ]
    },
    {
     "name": "stdout",
     "output_type": "stream",
     "text": [
      "249\n",
      "../input/rsna-2022-cervical-spine-fracture-detection/train_images/1.2.826.0.1.3680043.19537/\n"
     ]
    },
    {
     "name": "stderr",
     "output_type": "stream",
     "text": [
      " 55%|█████▍    | 1110/2019 [1:34:05<1:25:33,  5.65s/it]"
     ]
    },
    {
     "name": "stdout",
     "output_type": "stream",
     "text": [
      "250\n",
      "../input/rsna-2022-cervical-spine-fracture-detection/train_images/1.2.826.0.1.3680043.8662/\n"
     ]
    },
    {
     "name": "stderr",
     "output_type": "stream",
     "text": [
      " 56%|█████▌    | 1122/2019 [1:35:05<57:20,  3.84s/it]  "
     ]
    },
    {
     "name": "stdout",
     "output_type": "stream",
     "text": [
      "251\n",
      "../input/rsna-2022-cervical-spine-fracture-detection/train_images/1.2.826.0.1.3680043.28153/\n"
     ]
    },
    {
     "name": "stderr",
     "output_type": "stream",
     "text": [
      " 56%|█████▌    | 1123/2019 [1:35:10<1:02:19,  4.17s/it]"
     ]
    },
    {
     "name": "stdout",
     "output_type": "stream",
     "text": [
      "252\n",
      "../input/rsna-2022-cervical-spine-fracture-detection/train_images/1.2.826.0.1.3680043.24206/\n"
     ]
    },
    {
     "name": "stderr",
     "output_type": "stream",
     "text": [
      " 56%|█████▌    | 1127/2019 [1:35:22<45:34,  3.07s/it]  "
     ]
    },
    {
     "name": "stdout",
     "output_type": "stream",
     "text": [
      "253\n",
      "../input/rsna-2022-cervical-spine-fracture-detection/train_images/1.2.826.0.1.3680043.1429/\n"
     ]
    },
    {
     "name": "stderr",
     "output_type": "stream",
     "text": [
      " 56%|█████▌    | 1129/2019 [1:35:34<1:10:13,  4.73s/it]"
     ]
    },
    {
     "name": "stdout",
     "output_type": "stream",
     "text": [
      "254\n",
      "../input/rsna-2022-cervical-spine-fracture-detection/train_images/1.2.826.0.1.3680043.22548/\n"
     ]
    },
    {
     "name": "stderr",
     "output_type": "stream",
     "text": [
      " 56%|█████▌    | 1133/2019 [1:35:40<34:20,  2.33s/it]"
     ]
    },
    {
     "name": "stdout",
     "output_type": "stream",
     "text": [
      "255\n",
      "../input/rsna-2022-cervical-spine-fracture-detection/train_images/1.2.826.0.1.3680043.22759/\n",
      "256\n",
      "../input/rsna-2022-cervical-spine-fracture-detection/train_images/1.2.826.0.1.3680043.21120/\n"
     ]
    },
    {
     "name": "stderr",
     "output_type": "stream",
     "text": [
      " 56%|█████▌    | 1135/2019 [1:35:52<1:00:41,  4.12s/it]"
     ]
    },
    {
     "name": "stdout",
     "output_type": "stream",
     "text": [
      "257\n",
      "../input/rsna-2022-cervical-spine-fracture-detection/train_images/1.2.826.0.1.3680043.12292/\n"
     ]
    },
    {
     "name": "stderr",
     "output_type": "stream",
     "text": [
      " 56%|█████▋    | 1138/2019 [1:36:08<1:14:44,  5.09s/it]"
     ]
    },
    {
     "name": "stdout",
     "output_type": "stream",
     "text": [
      "258\n",
      "../input/rsna-2022-cervical-spine-fracture-detection/train_images/1.2.826.0.1.3680043.32370/\n"
     ]
    },
    {
     "name": "stderr",
     "output_type": "stream",
     "text": [
      " 57%|█████▋    | 1141/2019 [1:36:11<43:57,  3.00s/it]"
     ]
    },
    {
     "name": "stdout",
     "output_type": "stream",
     "text": [
      "259\n",
      "../input/rsna-2022-cervical-spine-fracture-detection/train_images/1.2.826.0.1.3680043.27523/\n"
     ]
    },
    {
     "name": "stderr",
     "output_type": "stream",
     "text": [
      " 57%|█████▋    | 1144/2019 [1:36:21<42:34,  2.92s/it]"
     ]
    },
    {
     "name": "stdout",
     "output_type": "stream",
     "text": [
      "260\n",
      "../input/rsna-2022-cervical-spine-fracture-detection/train_images/1.2.826.0.1.3680043.29778/\n"
     ]
    },
    {
     "name": "stderr",
     "output_type": "stream",
     "text": [
      " 57%|█████▋    | 1148/2019 [1:36:42<55:17,  3.81s/it]  "
     ]
    },
    {
     "name": "stdout",
     "output_type": "stream",
     "text": [
      "261\n",
      "../input/rsna-2022-cervical-spine-fracture-detection/train_images/1.2.826.0.1.3680043.25377/\n"
     ]
    },
    {
     "name": "stderr",
     "output_type": "stream",
     "text": [
      " 57%|█████▋    | 1153/2019 [1:37:13<1:20:52,  5.60s/it]"
     ]
    },
    {
     "name": "stdout",
     "output_type": "stream",
     "text": [
      "262\n",
      "../input/rsna-2022-cervical-spine-fracture-detection/train_images/1.2.826.0.1.3680043.7351/\n"
     ]
    },
    {
     "name": "stderr",
     "output_type": "stream",
     "text": [
      " 57%|█████▋    | 1155/2019 [1:37:21<1:11:45,  4.98s/it]"
     ]
    },
    {
     "name": "stdout",
     "output_type": "stream",
     "text": [
      "263\n",
      "../input/rsna-2022-cervical-spine-fracture-detection/train_images/1.2.826.0.1.3680043.31077/\n"
     ]
    },
    {
     "name": "stderr",
     "output_type": "stream",
     "text": [
      " 57%|█████▋    | 1159/2019 [1:37:27<38:24,  2.68s/it]"
     ]
    },
    {
     "name": "stdout",
     "output_type": "stream",
     "text": [
      "264\n",
      "../input/rsna-2022-cervical-spine-fracture-detection/train_images/1.2.826.0.1.3680043.1625/\n",
      "265\n",
      "../input/rsna-2022-cervical-spine-fracture-detection/train_images/1.2.826.0.1.3680043.20928/\n"
     ]
    },
    {
     "name": "stderr",
     "output_type": "stream",
     "text": [
      " 59%|█████▉    | 1188/2019 [1:40:43<57:59,  4.19s/it]  "
     ]
    },
    {
     "name": "stdout",
     "output_type": "stream",
     "text": [
      "266\n",
      "../input/rsna-2022-cervical-spine-fracture-detection/train_images/1.2.826.0.1.3680043.23916/\n",
      "267\n",
      "../input/rsna-2022-cervical-spine-fracture-detection/train_images/1.2.826.0.1.3680043.25174/\n",
      "268\n",
      "../input/rsna-2022-cervical-spine-fracture-detection/train_images/1.2.826.0.1.3680043.24989/\n"
     ]
    },
    {
     "name": "stderr",
     "output_type": "stream",
     "text": [
      " 59%|█████▉    | 1190/2019 [1:40:50<52:46,  3.82s/it]"
     ]
    },
    {
     "name": "stdout",
     "output_type": "stream",
     "text": [
      "269\n",
      "../input/rsna-2022-cervical-spine-fracture-detection/train_images/1.2.826.0.1.3680043.14467/\n"
     ]
    },
    {
     "name": "stderr",
     "output_type": "stream",
     "text": [
      " 59%|█████▉    | 1200/2019 [1:41:29<38:13,  2.80s/it]  "
     ]
    },
    {
     "name": "stdout",
     "output_type": "stream",
     "text": [
      "270\n",
      "../input/rsna-2022-cervical-spine-fracture-detection/train_images/1.2.826.0.1.3680043.10639/\n",
      "271\n",
      "../input/rsna-2022-cervical-spine-fracture-detection/train_images/1.2.826.0.1.3680043.16148/\n"
     ]
    },
    {
     "name": "stderr",
     "output_type": "stream",
     "text": [
      " 60%|██████    | 1212/2019 [1:43:00<1:01:18,  4.56s/it]"
     ]
    },
    {
     "name": "stdout",
     "output_type": "stream",
     "text": [
      "272\n",
      "../input/rsna-2022-cervical-spine-fracture-detection/train_images/1.2.826.0.1.3680043.17859/\n"
     ]
    },
    {
     "name": "stderr",
     "output_type": "stream",
     "text": [
      " 60%|██████    | 1218/2019 [1:43:45<1:34:47,  7.10s/it]"
     ]
    },
    {
     "name": "stdout",
     "output_type": "stream",
     "text": [
      "273\n",
      "../input/rsna-2022-cervical-spine-fracture-detection/train_images/1.2.826.0.1.3680043.14902/\n"
     ]
    },
    {
     "name": "stderr",
     "output_type": "stream",
     "text": [
      " 61%|██████    | 1227/2019 [1:44:37<48:50,  3.70s/it]  "
     ]
    },
    {
     "name": "stdout",
     "output_type": "stream",
     "text": [
      "274\n",
      "../input/rsna-2022-cervical-spine-fracture-detection/train_images/1.2.826.0.1.3680043.12168/\n",
      "275\n",
      "../input/rsna-2022-cervical-spine-fracture-detection/train_images/1.2.826.0.1.3680043.18101/\n",
      "276\n",
      "../input/rsna-2022-cervical-spine-fracture-detection/train_images/1.2.826.0.1.3680043.16707/\n"
     ]
    },
    {
     "name": "stderr",
     "output_type": "stream",
     "text": [
      " 61%|██████    | 1228/2019 [1:44:42<53:05,  4.03s/it]"
     ]
    },
    {
     "name": "stdout",
     "output_type": "stream",
     "text": [
      "277\n",
      "../input/rsna-2022-cervical-spine-fracture-detection/train_images/1.2.826.0.1.3680043.9145/\n"
     ]
    },
    {
     "name": "stderr",
     "output_type": "stream",
     "text": [
      " 61%|██████    | 1235/2019 [1:45:08<40:21,  3.09s/it]  "
     ]
    },
    {
     "name": "stdout",
     "output_type": "stream",
     "text": [
      "278\n",
      "../input/rsna-2022-cervical-spine-fracture-detection/train_images/1.2.826.0.1.3680043.31580/\n",
      "279\n",
      "../input/rsna-2022-cervical-spine-fracture-detection/train_images/1.2.826.0.1.3680043.19055/\n"
     ]
    },
    {
     "name": "stderr",
     "output_type": "stream",
     "text": [
      " 61%|██████▏   | 1240/2019 [1:45:46<1:45:04,  8.09s/it]"
     ]
    },
    {
     "name": "stdout",
     "output_type": "stream",
     "text": [
      "280\n",
      "../input/rsna-2022-cervical-spine-fracture-detection/train_images/1.2.826.0.1.3680043.12189/\n"
     ]
    },
    {
     "name": "stderr",
     "output_type": "stream",
     "text": [
      " 62%|██████▏   | 1246/2019 [1:46:08<52:01,  4.04s/it]  "
     ]
    },
    {
     "name": "stdout",
     "output_type": "stream",
     "text": [
      "281\n",
      "../input/rsna-2022-cervical-spine-fracture-detection/train_images/1.2.826.0.1.3680043.30442/\n"
     ]
    },
    {
     "name": "stderr",
     "output_type": "stream",
     "text": [
      " 62%|██████▏   | 1260/2019 [1:47:50<1:31:08,  7.20s/it]"
     ]
    },
    {
     "name": "stdout",
     "output_type": "stream",
     "text": [
      "282\n",
      "../input/rsna-2022-cervical-spine-fracture-detection/train_images/1.2.826.0.1.3680043.14598/\n"
     ]
    },
    {
     "name": "stderr",
     "output_type": "stream",
     "text": [
      " 63%|██████▎   | 1266/2019 [1:48:29<1:24:41,  6.75s/it]"
     ]
    },
    {
     "name": "stdout",
     "output_type": "stream",
     "text": [
      "283\n",
      "../input/rsna-2022-cervical-spine-fracture-detection/train_images/1.2.826.0.1.3680043.6714/\n"
     ]
    },
    {
     "name": "stderr",
     "output_type": "stream",
     "text": [
      " 63%|██████▎   | 1272/2019 [1:49:05<1:12:36,  5.83s/it]"
     ]
    },
    {
     "name": "stdout",
     "output_type": "stream",
     "text": [
      "284\n",
      "../input/rsna-2022-cervical-spine-fracture-detection/train_images/1.2.826.0.1.3680043.5002/\n"
     ]
    },
    {
     "name": "stderr",
     "output_type": "stream",
     "text": [
      " 63%|██████▎   | 1274/2019 [1:49:16<1:09:19,  5.58s/it]"
     ]
    },
    {
     "name": "stdout",
     "output_type": "stream",
     "text": [
      "285\n",
      "../input/rsna-2022-cervical-spine-fracture-detection/train_images/1.2.826.0.1.3680043.28606/\n"
     ]
    },
    {
     "name": "stderr",
     "output_type": "stream",
     "text": [
      " 64%|██████▎   | 1283/2019 [1:50:14<1:26:31,  7.05s/it]"
     ]
    },
    {
     "name": "stdout",
     "output_type": "stream",
     "text": [
      "286\n",
      "../input/rsna-2022-cervical-spine-fracture-detection/train_images/1.2.826.0.1.3680043.11899/\n"
     ]
    },
    {
     "name": "stderr",
     "output_type": "stream",
     "text": [
      " 64%|██████▍   | 1295/2019 [1:51:32<57:51,  4.79s/it]  "
     ]
    },
    {
     "name": "stdout",
     "output_type": "stream",
     "text": [
      "287\n",
      "../input/rsna-2022-cervical-spine-fracture-detection/train_images/1.2.826.0.1.3680043.1071/\n",
      "288\n",
      "../input/rsna-2022-cervical-spine-fracture-detection/train_images/1.2.826.0.1.3680043.31352/\n",
      "289\n",
      "../input/rsna-2022-cervical-spine-fracture-detection/train_images/1.2.826.0.1.3680043.17886/\n"
     ]
    },
    {
     "name": "stderr",
     "output_type": "stream",
     "text": [
      " 64%|██████▍   | 1302/2019 [1:52:21<1:49:53,  9.20s/it]"
     ]
    },
    {
     "name": "stdout",
     "output_type": "stream",
     "text": [
      "290\n",
      "../input/rsna-2022-cervical-spine-fracture-detection/train_images/1.2.826.0.1.3680043.17284/\n",
      "291\n",
      "../input/rsna-2022-cervical-spine-fracture-detection/train_images/1.2.826.0.1.3680043.17481/\n"
     ]
    },
    {
     "name": "stderr",
     "output_type": "stream",
     "text": [
      " 65%|██████▍   | 1306/2019 [1:52:34<1:05:18,  5.50s/it]"
     ]
    },
    {
     "name": "stdout",
     "output_type": "stream",
     "text": [
      "292\n",
      "../input/rsna-2022-cervical-spine-fracture-detection/train_images/1.2.826.0.1.3680043.29968/\n",
      "293\n",
      "../input/rsna-2022-cervical-spine-fracture-detection/train_images/1.2.826.0.1.3680043.13902/\n",
      "294\n",
      "../input/rsna-2022-cervical-spine-fracture-detection/train_images/1.2.826.0.1.3680043.6316/\n"
     ]
    },
    {
     "name": "stderr",
     "output_type": "stream",
     "text": [
      " 65%|██████▌   | 1320/2019 [1:53:46<1:05:56,  5.66s/it]"
     ]
    },
    {
     "name": "stdout",
     "output_type": "stream",
     "text": [
      "295\n",
      "../input/rsna-2022-cervical-spine-fracture-detection/train_images/1.2.826.0.1.3680043.2243/\n"
     ]
    },
    {
     "name": "stderr",
     "output_type": "stream",
     "text": [
      " 66%|██████▌   | 1324/2019 [1:54:02<54:51,  4.74s/it]"
     ]
    },
    {
     "name": "stdout",
     "output_type": "stream",
     "text": [
      "296\n",
      "../input/rsna-2022-cervical-spine-fracture-detection/train_images/1.2.826.0.1.3680043.689/\n"
     ]
    },
    {
     "name": "stderr",
     "output_type": "stream",
     "text": [
      " 66%|██████▌   | 1326/2019 [1:54:09<50:25,  4.37s/it]"
     ]
    },
    {
     "name": "stdout",
     "output_type": "stream",
     "text": [
      "297\n",
      "../input/rsna-2022-cervical-spine-fracture-detection/train_images/1.2.826.0.1.3680043.2920/\n",
      "298\n",
      "../input/rsna-2022-cervical-spine-fracture-detection/train_images/1.2.826.0.1.3680043.30465/\n"
     ]
    },
    {
     "name": "stderr",
     "output_type": "stream",
     "text": [
      " 66%|██████▋   | 1338/2019 [1:55:01<54:46,  4.83s/it]"
     ]
    },
    {
     "name": "stdout",
     "output_type": "stream",
     "text": [
      "299\n",
      "../input/rsna-2022-cervical-spine-fracture-detection/train_images/1.2.826.0.1.3680043.5359/\n"
     ]
    },
    {
     "name": "stderr",
     "output_type": "stream",
     "text": [
      " 67%|██████▋   | 1345/2019 [1:55:47<1:17:53,  6.93s/it]"
     ]
    },
    {
     "name": "stdout",
     "output_type": "stream",
     "text": [
      "300\n",
      "../input/rsna-2022-cervical-spine-fracture-detection/train_images/1.2.826.0.1.3680043.19283/\n"
     ]
    },
    {
     "name": "stderr",
     "output_type": "stream",
     "text": [
      " 67%|██████▋   | 1347/2019 [1:55:52<55:21,  4.94s/it]  "
     ]
    },
    {
     "name": "stdout",
     "output_type": "stream",
     "text": [
      "301\n",
      "../input/rsna-2022-cervical-spine-fracture-detection/train_images/1.2.826.0.1.3680043.27607/\n"
     ]
    },
    {
     "name": "stderr",
     "output_type": "stream",
     "text": [
      " 67%|██████▋   | 1353/2019 [1:56:16<51:09,  4.61s/it]"
     ]
    },
    {
     "name": "stdout",
     "output_type": "stream",
     "text": [
      "302\n",
      "../input/rsna-2022-cervical-spine-fracture-detection/train_images/1.2.826.0.1.3680043.10725/\n"
     ]
    },
    {
     "name": "stderr",
     "output_type": "stream",
     "text": [
      " 67%|██████▋   | 1360/2019 [1:57:05<1:10:50,  6.45s/it]"
     ]
    },
    {
     "name": "stdout",
     "output_type": "stream",
     "text": [
      "303\n",
      "../input/rsna-2022-cervical-spine-fracture-detection/train_images/1.2.826.0.1.3680043.23252/\n"
     ]
    },
    {
     "name": "stderr",
     "output_type": "stream",
     "text": [
      " 68%|██████▊   | 1367/2019 [1:57:46<1:07:42,  6.23s/it]"
     ]
    },
    {
     "name": "stdout",
     "output_type": "stream",
     "text": [
      "304\n",
      "../input/rsna-2022-cervical-spine-fracture-detection/train_images/1.2.826.0.1.3680043.29571/\n",
      "305\n",
      "../input/rsna-2022-cervical-spine-fracture-detection/train_images/1.2.826.0.1.3680043.18480/\n"
     ]
    },
    {
     "name": "stderr",
     "output_type": "stream",
     "text": [
      " 68%|██████▊   | 1370/2019 [1:57:51<41:48,  3.86s/it]  "
     ]
    },
    {
     "name": "stdout",
     "output_type": "stream",
     "text": [
      "306\n",
      "../input/rsna-2022-cervical-spine-fracture-detection/train_images/1.2.826.0.1.3680043.14669/\n"
     ]
    },
    {
     "name": "stderr",
     "output_type": "stream",
     "text": [
      " 68%|██████▊   | 1374/2019 [1:58:14<54:57,  5.11s/it]"
     ]
    },
    {
     "name": "stdout",
     "output_type": "stream",
     "text": [
      "307\n",
      "../input/rsna-2022-cervical-spine-fracture-detection/train_images/1.2.826.0.1.3680043.29261/\n"
     ]
    },
    {
     "name": "stderr",
     "output_type": "stream",
     "text": [
      " 68%|██████▊   | 1379/2019 [1:58:45<1:16:52,  7.21s/it]"
     ]
    },
    {
     "name": "stdout",
     "output_type": "stream",
     "text": [
      "308\n",
      "../input/rsna-2022-cervical-spine-fracture-detection/train_images/1.2.826.0.1.3680043.9308/\n"
     ]
    },
    {
     "name": "stderr",
     "output_type": "stream",
     "text": [
      " 69%|██████▊   | 1387/2019 [1:59:17<31:49,  3.02s/it]  "
     ]
    },
    {
     "name": "stdout",
     "output_type": "stream",
     "text": [
      "309\n",
      "../input/rsna-2022-cervical-spine-fracture-detection/train_images/1.2.826.0.1.3680043.9221/\n",
      "310\n",
      "../input/rsna-2022-cervical-spine-fracture-detection/train_images/1.2.826.0.1.3680043.634/\n",
      "311\n",
      "../input/rsna-2022-cervical-spine-fracture-detection/train_images/1.2.826.0.1.3680043.11718/\n"
     ]
    },
    {
     "name": "stderr",
     "output_type": "stream",
     "text": [
      " 69%|██████▊   | 1388/2019 [1:59:20<32:33,  3.10s/it]"
     ]
    },
    {
     "name": "stdout",
     "output_type": "stream",
     "text": [
      "312\n",
      "../input/rsna-2022-cervical-spine-fracture-detection/train_images/1.2.826.0.1.3680043.12549/\n"
     ]
    },
    {
     "name": "stderr",
     "output_type": "stream",
     "text": [
      " 69%|██████▉   | 1390/2019 [1:59:24<28:27,  2.71s/it]"
     ]
    },
    {
     "name": "stdout",
     "output_type": "stream",
     "text": [
      "313\n",
      "../input/rsna-2022-cervical-spine-fracture-detection/train_images/1.2.826.0.1.3680043.5276/\n"
     ]
    },
    {
     "name": "stderr",
     "output_type": "stream",
     "text": [
      " 69%|██████▉   | 1399/2019 [2:00:11<34:39,  3.35s/it]  "
     ]
    },
    {
     "name": "stdout",
     "output_type": "stream",
     "text": [
      "314\n",
      "../input/rsna-2022-cervical-spine-fracture-detection/train_images/1.2.826.0.1.3680043.22808/\n",
      "315\n",
      "../input/rsna-2022-cervical-spine-fracture-detection/train_images/1.2.826.0.1.3680043.16527/\n",
      "316\n",
      "../input/rsna-2022-cervical-spine-fracture-detection/train_images/1.2.826.0.1.3680043.21239/\n",
      "317\n",
      "../input/rsna-2022-cervical-spine-fracture-detection/train_images/1.2.826.0.1.3680043.27/\n"
     ]
    },
    {
     "name": "stderr",
     "output_type": "stream",
     "text": [
      " 70%|██████▉   | 1405/2019 [2:00:41<44:30,  4.35s/it]"
     ]
    },
    {
     "name": "stdout",
     "output_type": "stream",
     "text": [
      "318\n",
      "../input/rsna-2022-cervical-spine-fracture-detection/train_images/1.2.826.0.1.3680043.27228/\n"
     ]
    },
    {
     "name": "stderr",
     "output_type": "stream",
     "text": [
      " 70%|██████▉   | 1409/2019 [2:01:06<57:46,  5.68s/it]"
     ]
    },
    {
     "name": "stdout",
     "output_type": "stream",
     "text": [
      "319\n",
      "../input/rsna-2022-cervical-spine-fracture-detection/train_images/1.2.826.0.1.3680043.482/\n"
     ]
    },
    {
     "name": "stderr",
     "output_type": "stream",
     "text": [
      " 70%|███████   | 1420/2019 [2:02:08<1:08:51,  6.90s/it]"
     ]
    },
    {
     "name": "stdout",
     "output_type": "stream",
     "text": [
      "320\n",
      "../input/rsna-2022-cervical-spine-fracture-detection/train_images/1.2.826.0.1.3680043.14009/\n",
      "321\n",
      "../input/rsna-2022-cervical-spine-fracture-detection/train_images/1.2.826.0.1.3680043.5043/\n"
     ]
    },
    {
     "name": "stderr",
     "output_type": "stream",
     "text": [
      " 71%|███████   | 1430/2019 [2:03:08<1:10:27,  7.18s/it]"
     ]
    },
    {
     "name": "stdout",
     "output_type": "stream",
     "text": [
      "322\n",
      "../input/rsna-2022-cervical-spine-fracture-detection/train_images/1.2.826.0.1.3680043.18244/\n"
     ]
    },
    {
     "name": "stderr",
     "output_type": "stream",
     "text": [
      " 71%|███████   | 1432/2019 [2:03:12<47:32,  4.86s/it]  "
     ]
    },
    {
     "name": "stdout",
     "output_type": "stream",
     "text": [
      "323\n",
      "../input/rsna-2022-cervical-spine-fracture-detection/train_images/1.2.826.0.1.3680043.20618/\n"
     ]
    },
    {
     "name": "stderr",
     "output_type": "stream",
     "text": [
      " 71%|███████   | 1437/2019 [2:03:49<1:11:20,  7.35s/it]"
     ]
    },
    {
     "name": "stdout",
     "output_type": "stream",
     "text": [
      "324\n",
      "../input/rsna-2022-cervical-spine-fracture-detection/train_images/1.2.826.0.1.3680043.26820/\n"
     ]
    },
    {
     "name": "stderr",
     "output_type": "stream",
     "text": [
      " 71%|███████▏  | 1441/2019 [2:04:17<1:15:04,  7.79s/it]"
     ]
    },
    {
     "name": "stdout",
     "output_type": "stream",
     "text": [
      "325\n",
      "../input/rsna-2022-cervical-spine-fracture-detection/train_images/1.2.826.0.1.3680043.7672/\n"
     ]
    },
    {
     "name": "stderr",
     "output_type": "stream",
     "text": [
      " 72%|███████▏  | 1444/2019 [2:04:27<53:36,  5.59s/it]"
     ]
    },
    {
     "name": "stdout",
     "output_type": "stream",
     "text": [
      "326\n",
      "../input/rsna-2022-cervical-spine-fracture-detection/train_images/1.2.826.0.1.3680043.30682/\n"
     ]
    },
    {
     "name": "stderr",
     "output_type": "stream",
     "text": [
      " 72%|███████▏  | 1446/2019 [2:04:34<45:05,  4.72s/it]"
     ]
    },
    {
     "name": "stdout",
     "output_type": "stream",
     "text": [
      "327\n",
      "../input/rsna-2022-cervical-spine-fracture-detection/train_images/1.2.826.0.1.3680043.4769/\n"
     ]
    },
    {
     "name": "stderr",
     "output_type": "stream",
     "text": [
      " 72%|███████▏  | 1450/2019 [2:04:51<42:44,  4.51s/it]"
     ]
    },
    {
     "name": "stdout",
     "output_type": "stream",
     "text": [
      "328\n",
      "../input/rsna-2022-cervical-spine-fracture-detection/train_images/1.2.826.0.1.3680043.27733/\n"
     ]
    },
    {
     "name": "stderr",
     "output_type": "stream",
     "text": [
      " 72%|███████▏  | 1453/2019 [2:05:00<35:25,  3.76s/it]"
     ]
    },
    {
     "name": "stdout",
     "output_type": "stream",
     "text": [
      "329\n",
      "../input/rsna-2022-cervical-spine-fracture-detection/train_images/1.2.826.0.1.3680043.19846/\n"
     ]
    },
    {
     "name": "stderr",
     "output_type": "stream",
     "text": [
      " 72%|███████▏  | 1457/2019 [2:05:17<39:17,  4.20s/it]"
     ]
    },
    {
     "name": "stdout",
     "output_type": "stream",
     "text": [
      "330\n",
      "../input/rsna-2022-cervical-spine-fracture-detection/train_images/1.2.826.0.1.3680043.6318/\n",
      "331\n",
      "../input/rsna-2022-cervical-spine-fracture-detection/train_images/1.2.826.0.1.3680043.21477/\n"
     ]
    },
    {
     "name": "stderr",
     "output_type": "stream",
     "text": [
      " 72%|███████▏  | 1460/2019 [2:05:25<31:16,  3.36s/it]"
     ]
    },
    {
     "name": "stdout",
     "output_type": "stream",
     "text": [
      "332\n",
      "../input/rsna-2022-cervical-spine-fracture-detection/train_images/1.2.826.0.1.3680043.22804/\n"
     ]
    },
    {
     "name": "stderr",
     "output_type": "stream",
     "text": [
      " 72%|███████▏  | 1462/2019 [2:05:32<31:32,  3.40s/it]"
     ]
    },
    {
     "name": "stdout",
     "output_type": "stream",
     "text": [
      "333\n",
      "../input/rsna-2022-cervical-spine-fracture-detection/train_images/1.2.826.0.1.3680043.15570/\n"
     ]
    },
    {
     "name": "stderr",
     "output_type": "stream",
     "text": [
      " 73%|███████▎  | 1469/2019 [2:06:14<51:53,  5.66s/it]"
     ]
    },
    {
     "name": "stdout",
     "output_type": "stream",
     "text": [
      "334\n",
      "../input/rsna-2022-cervical-spine-fracture-detection/train_images/1.2.826.0.1.3680043.28824/\n"
     ]
    },
    {
     "name": "stderr",
     "output_type": "stream",
     "text": [
      " 73%|███████▎  | 1472/2019 [2:06:28<47:55,  5.26s/it]"
     ]
    },
    {
     "name": "stdout",
     "output_type": "stream",
     "text": [
      "335\n",
      "../input/rsna-2022-cervical-spine-fracture-detection/train_images/1.2.826.0.1.3680043.13337/\n"
     ]
    },
    {
     "name": "stderr",
     "output_type": "stream",
     "text": [
      " 73%|███████▎  | 1481/2019 [2:07:26<53:02,  5.92s/it]"
     ]
    },
    {
     "name": "stdout",
     "output_type": "stream",
     "text": [
      "336\n",
      "../input/rsna-2022-cervical-spine-fracture-detection/train_images/1.2.826.0.1.3680043.11245/\n"
     ]
    },
    {
     "name": "stderr",
     "output_type": "stream",
     "text": [
      " 74%|███████▍  | 1496/2019 [2:08:47<46:10,  5.30s/it]"
     ]
    },
    {
     "name": "stdout",
     "output_type": "stream",
     "text": [
      "337\n",
      "../input/rsna-2022-cervical-spine-fracture-detection/train_images/1.2.826.0.1.3680043.7680/\n"
     ]
    },
    {
     "name": "stderr",
     "output_type": "stream",
     "text": [
      " 74%|███████▍  | 1498/2019 [2:08:53<37:06,  4.27s/it]"
     ]
    },
    {
     "name": "stdout",
     "output_type": "stream",
     "text": [
      "338\n",
      "../input/rsna-2022-cervical-spine-fracture-detection/train_images/1.2.826.0.1.3680043.11644/\n"
     ]
    },
    {
     "name": "stderr",
     "output_type": "stream",
     "text": [
      " 74%|███████▍  | 1501/2019 [2:09:02<30:51,  3.57s/it]"
     ]
    },
    {
     "name": "stdout",
     "output_type": "stream",
     "text": [
      "339\n",
      "../input/rsna-2022-cervical-spine-fracture-detection/train_images/1.2.826.0.1.3680043.2221/\n"
     ]
    },
    {
     "name": "stderr",
     "output_type": "stream",
     "text": [
      " 74%|███████▍  | 1503/2019 [2:09:07<27:38,  3.21s/it]"
     ]
    },
    {
     "name": "stdout",
     "output_type": "stream",
     "text": [
      "340\n",
      "../input/rsna-2022-cervical-spine-fracture-detection/train_images/1.2.826.0.1.3680043.13431/\n",
      "341\n",
      "../input/rsna-2022-cervical-spine-fracture-detection/train_images/1.2.826.0.1.3680043.27075/\n"
     ]
    },
    {
     "name": "stderr",
     "output_type": "stream",
     "text": [
      " 75%|███████▍  | 1514/2019 [2:09:59<45:02,  5.35s/it]"
     ]
    },
    {
     "name": "stdout",
     "output_type": "stream",
     "text": [
      "342\n",
      "../input/rsna-2022-cervical-spine-fracture-detection/train_images/1.2.826.0.1.3680043.8385/\n"
     ]
    },
    {
     "name": "stderr",
     "output_type": "stream",
     "text": [
      " 75%|███████▌  | 1518/2019 [2:10:27<51:41,  6.19s/it]"
     ]
    },
    {
     "name": "stdout",
     "output_type": "stream",
     "text": [
      "343\n",
      "../input/rsna-2022-cervical-spine-fracture-detection/train_images/1.2.826.0.1.3680043.19194/\n"
     ]
    },
    {
     "name": "stderr",
     "output_type": "stream",
     "text": [
      " 75%|███████▌  | 1522/2019 [2:10:41<39:18,  4.75s/it]"
     ]
    },
    {
     "name": "stdout",
     "output_type": "stream",
     "text": [
      "344\n",
      "../input/rsna-2022-cervical-spine-fracture-detection/train_images/1.2.826.0.1.3680043.2325/\n"
     ]
    },
    {
     "name": "stderr",
     "output_type": "stream",
     "text": [
      " 76%|███████▌  | 1528/2019 [2:11:05<34:15,  4.19s/it]"
     ]
    },
    {
     "name": "stdout",
     "output_type": "stream",
     "text": [
      "345\n",
      "../input/rsna-2022-cervical-spine-fracture-detection/train_images/1.2.826.0.1.3680043.2475/\n",
      "346\n",
      "../input/rsna-2022-cervical-spine-fracture-detection/train_images/1.2.826.0.1.3680043.6862/\n"
     ]
    },
    {
     "name": "stderr",
     "output_type": "stream",
     "text": [
      " 76%|███████▌  | 1533/2019 [2:11:24<33:52,  4.18s/it]"
     ]
    },
    {
     "name": "stdout",
     "output_type": "stream",
     "text": [
      "347\n",
      "../input/rsna-2022-cervical-spine-fracture-detection/train_images/1.2.826.0.1.3680043.2792/\n",
      "348\n",
      "../input/rsna-2022-cervical-spine-fracture-detection/train_images/1.2.826.0.1.3680043.23648/\n"
     ]
    },
    {
     "name": "stderr",
     "output_type": "stream",
     "text": [
      " 76%|███████▋  | 1542/2019 [2:12:23<52:05,  6.55s/it]  "
     ]
    },
    {
     "name": "stdout",
     "output_type": "stream",
     "text": [
      "349\n",
      "../input/rsna-2022-cervical-spine-fracture-detection/train_images/1.2.826.0.1.3680043.21058/\n"
     ]
    },
    {
     "name": "stderr",
     "output_type": "stream",
     "text": [
      " 77%|███████▋  | 1546/2019 [2:12:40<41:26,  5.26s/it]"
     ]
    },
    {
     "name": "stdout",
     "output_type": "stream",
     "text": [
      "350\n",
      "../input/rsna-2022-cervical-spine-fracture-detection/train_images/1.2.826.0.1.3680043.18176/\n"
     ]
    },
    {
     "name": "stderr",
     "output_type": "stream",
     "text": [
      " 77%|███████▋  | 1548/2019 [2:12:49<39:15,  5.00s/it]"
     ]
    },
    {
     "name": "stdout",
     "output_type": "stream",
     "text": [
      "351\n",
      "../input/rsna-2022-cervical-spine-fracture-detection/train_images/1.2.826.0.1.3680043.20565/\n"
     ]
    },
    {
     "name": "stderr",
     "output_type": "stream",
     "text": [
      " 77%|███████▋  | 1550/2019 [2:12:54<31:52,  4.08s/it]"
     ]
    },
    {
     "name": "stdout",
     "output_type": "stream",
     "text": [
      "352\n",
      "../input/rsna-2022-cervical-spine-fracture-detection/train_images/1.2.826.0.1.3680043.18598/\n",
      "353\n",
      "../input/rsna-2022-cervical-spine-fracture-detection/train_images/1.2.826.0.1.3680043.17811/\n"
     ]
    },
    {
     "name": "stderr",
     "output_type": "stream",
     "text": [
      " 77%|███████▋  | 1555/2019 [2:13:12<33:28,  4.33s/it]"
     ]
    },
    {
     "name": "stdout",
     "output_type": "stream",
     "text": [
      "354\n",
      "../input/rsna-2022-cervical-spine-fracture-detection/train_images/1.2.826.0.1.3680043.12095/\n"
     ]
    },
    {
     "name": "stderr",
     "output_type": "stream",
     "text": [
      " 77%|███████▋  | 1557/2019 [2:13:22<35:19,  4.59s/it]"
     ]
    },
    {
     "name": "stdout",
     "output_type": "stream",
     "text": [
      "355\n",
      "../input/rsna-2022-cervical-spine-fracture-detection/train_images/1.2.826.0.1.3680043.17325/\n",
      "356\n",
      "../input/rsna-2022-cervical-spine-fracture-detection/train_images/1.2.826.0.1.3680043.13447/\n"
     ]
    },
    {
     "name": "stderr",
     "output_type": "stream",
     "text": [
      " 77%|███████▋  | 1560/2019 [2:13:31<29:23,  3.84s/it]"
     ]
    },
    {
     "name": "stdout",
     "output_type": "stream",
     "text": [
      "357\n",
      "../input/rsna-2022-cervical-spine-fracture-detection/train_images/1.2.826.0.1.3680043.20085/\n"
     ]
    },
    {
     "name": "stderr",
     "output_type": "stream",
     "text": [
      " 77%|███████▋  | 1563/2019 [2:13:43<30:38,  4.03s/it]"
     ]
    },
    {
     "name": "stdout",
     "output_type": "stream",
     "text": [
      "358\n",
      "../input/rsna-2022-cervical-spine-fracture-detection/train_images/1.2.826.0.1.3680043.30437/\n"
     ]
    },
    {
     "name": "stderr",
     "output_type": "stream",
     "text": [
      " 78%|███████▊  | 1565/2019 [2:13:53<33:17,  4.40s/it]"
     ]
    },
    {
     "name": "stdout",
     "output_type": "stream",
     "text": [
      "359\n",
      "../input/rsna-2022-cervical-spine-fracture-detection/train_images/1.2.826.0.1.3680043.10541/\n"
     ]
    },
    {
     "name": "stderr",
     "output_type": "stream",
     "text": [
      " 78%|███████▊  | 1570/2019 [2:14:14<33:40,  4.50s/it]"
     ]
    },
    {
     "name": "stdout",
     "output_type": "stream",
     "text": [
      "360\n",
      "../input/rsna-2022-cervical-spine-fracture-detection/train_images/1.2.826.0.1.3680043.1647/\n",
      "361\n",
      "../input/rsna-2022-cervical-spine-fracture-detection/train_images/1.2.826.0.1.3680043.32480/\n"
     ]
    },
    {
     "name": "stderr",
     "output_type": "stream",
     "text": [
      " 78%|███████▊  | 1577/2019 [2:14:52<43:58,  5.97s/it]"
     ]
    },
    {
     "name": "stdout",
     "output_type": "stream",
     "text": [
      "362\n",
      "../input/rsna-2022-cervical-spine-fracture-detection/train_images/1.2.826.0.1.3680043.28480/\n"
     ]
    },
    {
     "name": "stderr",
     "output_type": "stream",
     "text": [
      " 78%|███████▊  | 1580/2019 [2:15:01<32:08,  4.39s/it]"
     ]
    },
    {
     "name": "stdout",
     "output_type": "stream",
     "text": [
      "363\n",
      "../input/rsna-2022-cervical-spine-fracture-detection/train_images/1.2.826.0.1.3680043.27100/\n"
     ]
    },
    {
     "name": "stderr",
     "output_type": "stream",
     "text": [
      " 78%|███████▊  | 1582/2019 [2:15:05<24:52,  3.42s/it]"
     ]
    },
    {
     "name": "stdout",
     "output_type": "stream",
     "text": [
      "364\n",
      "../input/rsna-2022-cervical-spine-fracture-detection/train_images/1.2.826.0.1.3680043.8423/\n"
     ]
    },
    {
     "name": "stderr",
     "output_type": "stream",
     "text": [
      " 79%|███████▊  | 1587/2019 [2:15:30<33:28,  4.65s/it]"
     ]
    },
    {
     "name": "stdout",
     "output_type": "stream",
     "text": [
      "365\n",
      "../input/rsna-2022-cervical-spine-fracture-detection/train_images/1.2.826.0.1.3680043.32651/\n"
     ]
    },
    {
     "name": "stderr",
     "output_type": "stream",
     "text": [
      " 79%|███████▉  | 1593/2019 [2:15:57<35:13,  4.96s/it]"
     ]
    },
    {
     "name": "stdout",
     "output_type": "stream",
     "text": [
      "366\n",
      "../input/rsna-2022-cervical-spine-fracture-detection/train_images/1.2.826.0.1.3680043.13519/\n"
     ]
    },
    {
     "name": "stderr",
     "output_type": "stream",
     "text": [
      " 79%|███████▉  | 1599/2019 [2:16:14<20:51,  2.98s/it]"
     ]
    },
    {
     "name": "stdout",
     "output_type": "stream",
     "text": [
      "367\n",
      "../input/rsna-2022-cervical-spine-fracture-detection/train_images/1.2.826.0.1.3680043.19805/\n",
      "368\n",
      "../input/rsna-2022-cervical-spine-fracture-detection/train_images/1.2.826.0.1.3680043.23968/\n",
      "369\n",
      "../input/rsna-2022-cervical-spine-fracture-detection/train_images/1.2.826.0.1.3680043.19487/\n"
     ]
    },
    {
     "name": "stderr",
     "output_type": "stream",
     "text": [
      " 79%|███████▉  | 1601/2019 [2:16:14<13:06,  1.88s/it]"
     ]
    },
    {
     "name": "stdout",
     "output_type": "stream",
     "text": [
      "370\n",
      "../input/rsna-2022-cervical-spine-fracture-detection/train_images/1.2.826.0.1.3680043.20708/\n"
     ]
    },
    {
     "name": "stderr",
     "output_type": "stream",
     "text": [
      " 80%|████████  | 1616/2019 [2:17:59<42:42,  6.36s/it]"
     ]
    },
    {
     "name": "stdout",
     "output_type": "stream",
     "text": [
      "371\n",
      "../input/rsna-2022-cervical-spine-fracture-detection/train_images/1.2.826.0.1.3680043.32535/\n"
     ]
    },
    {
     "name": "stderr",
     "output_type": "stream",
     "text": [
      " 81%|████████  | 1626/2019 [2:18:56<41:53,  6.40s/it]"
     ]
    },
    {
     "name": "stdout",
     "output_type": "stream",
     "text": [
      "372\n",
      "../input/rsna-2022-cervical-spine-fracture-detection/train_images/1.2.826.0.1.3680043.6077/\n",
      "373\n",
      "../input/rsna-2022-cervical-spine-fracture-detection/train_images/1.2.826.0.1.3680043.2883/\n"
     ]
    },
    {
     "name": "stderr",
     "output_type": "stream",
     "text": [
      " 81%|████████  | 1630/2019 [2:19:06<26:16,  4.05s/it]"
     ]
    },
    {
     "name": "stdout",
     "output_type": "stream",
     "text": [
      "374\n",
      "../input/rsna-2022-cervical-spine-fracture-detection/train_images/1.2.826.0.1.3680043.26177/\n"
     ]
    },
    {
     "name": "stderr",
     "output_type": "stream",
     "text": [
      " 81%|████████  | 1635/2019 [2:19:23<21:35,  3.37s/it]"
     ]
    },
    {
     "name": "stdout",
     "output_type": "stream",
     "text": [
      "375\n",
      "../input/rsna-2022-cervical-spine-fracture-detection/train_images/1.2.826.0.1.3680043.27426/\n"
     ]
    },
    {
     "name": "stderr",
     "output_type": "stream",
     "text": [
      " 81%|████████  | 1637/2019 [2:19:34<27:40,  4.35s/it]"
     ]
    },
    {
     "name": "stdout",
     "output_type": "stream",
     "text": [
      "376\n",
      "../input/rsna-2022-cervical-spine-fracture-detection/train_images/1.2.826.0.1.3680043.20566/\n"
     ]
    },
    {
     "name": "stderr",
     "output_type": "stream",
     "text": [
      " 81%|████████▏ | 1641/2019 [2:19:51<29:50,  4.74s/it]"
     ]
    },
    {
     "name": "stdout",
     "output_type": "stream",
     "text": [
      "377\n",
      "../input/rsna-2022-cervical-spine-fracture-detection/train_images/1.2.826.0.1.3680043.26034/\n"
     ]
    },
    {
     "name": "stderr",
     "output_type": "stream",
     "text": [
      " 81%|████████▏ | 1644/2019 [2:20:06<32:24,  5.19s/it]"
     ]
    },
    {
     "name": "stdout",
     "output_type": "stream",
     "text": [
      "378\n",
      "../input/rsna-2022-cervical-spine-fracture-detection/train_images/1.2.826.0.1.3680043.24140/\n"
     ]
    },
    {
     "name": "stderr",
     "output_type": "stream",
     "text": [
      " 82%|████████▏ | 1646/2019 [2:20:16<32:23,  5.21s/it]"
     ]
    },
    {
     "name": "stdout",
     "output_type": "stream",
     "text": [
      "379\n",
      "../input/rsna-2022-cervical-spine-fracture-detection/train_images/1.2.826.0.1.3680043.17266/\n"
     ]
    },
    {
     "name": "stderr",
     "output_type": "stream",
     "text": [
      " 82%|████████▏ | 1659/2019 [2:21:31<38:59,  6.50s/it]"
     ]
    },
    {
     "name": "stdout",
     "output_type": "stream",
     "text": [
      "380\n",
      "../input/rsna-2022-cervical-spine-fracture-detection/train_images/1.2.826.0.1.3680043.53/\n"
     ]
    },
    {
     "name": "stderr",
     "output_type": "stream",
     "text": [
      " 82%|████████▏ | 1664/2019 [2:21:58<40:25,  6.83s/it]"
     ]
    },
    {
     "name": "stdout",
     "output_type": "stream",
     "text": [
      "381\n",
      "../input/rsna-2022-cervical-spine-fracture-detection/train_images/1.2.826.0.1.3680043.3448/\n",
      "382\n",
      "../input/rsna-2022-cervical-spine-fracture-detection/train_images/1.2.826.0.1.3680043.9774/\n"
     ]
    },
    {
     "name": "stderr",
     "output_type": "stream",
     "text": [
      " 83%|████████▎ | 1668/2019 [2:22:09<25:43,  4.40s/it]"
     ]
    },
    {
     "name": "stdout",
     "output_type": "stream",
     "text": [
      "383\n",
      "../input/rsna-2022-cervical-spine-fracture-detection/train_images/1.2.826.0.1.3680043.29457/\n"
     ]
    },
    {
     "name": "stderr",
     "output_type": "stream",
     "text": [
      " 83%|████████▎ | 1673/2019 [2:22:35<28:07,  4.88s/it]"
     ]
    },
    {
     "name": "stdout",
     "output_type": "stream",
     "text": [
      "384\n",
      "../input/rsna-2022-cervical-spine-fracture-detection/train_images/1.2.826.0.1.3680043.18191/\n"
     ]
    },
    {
     "name": "stderr",
     "output_type": "stream",
     "text": [
      " 83%|████████▎ | 1685/2019 [2:23:48<34:37,  6.22s/it]"
     ]
    },
    {
     "name": "stdout",
     "output_type": "stream",
     "text": [
      "385\n",
      "../input/rsna-2022-cervical-spine-fracture-detection/train_images/1.2.826.0.1.3680043.13037/\n"
     ]
    },
    {
     "name": "stderr",
     "output_type": "stream",
     "text": [
      " 84%|████████▍ | 1691/2019 [2:24:28<36:21,  6.65s/it]"
     ]
    },
    {
     "name": "stdout",
     "output_type": "stream",
     "text": [
      "386\n",
      "../input/rsna-2022-cervical-spine-fracture-detection/train_images/1.2.826.0.1.3680043.26649/\n"
     ]
    },
    {
     "name": "stderr",
     "output_type": "stream",
     "text": [
      " 84%|████████▍ | 1698/2019 [2:25:11<39:56,  7.47s/it]"
     ]
    },
    {
     "name": "stdout",
     "output_type": "stream",
     "text": [
      "387\n",
      "../input/rsna-2022-cervical-spine-fracture-detection/train_images/1.2.826.0.1.3680043.32076/\n"
     ]
    },
    {
     "name": "stderr",
     "output_type": "stream",
     "text": [
      " 84%|████████▍ | 1705/2019 [2:25:56<32:41,  6.25s/it]"
     ]
    },
    {
     "name": "stdout",
     "output_type": "stream",
     "text": [
      "388\n",
      "../input/rsna-2022-cervical-spine-fracture-detection/train_images/1.2.826.0.1.3680043.23840/\n"
     ]
    },
    {
     "name": "stderr",
     "output_type": "stream",
     "text": [
      " 85%|████████▍ | 1711/2019 [2:26:38<42:10,  8.22s/it]"
     ]
    },
    {
     "name": "stdout",
     "output_type": "stream",
     "text": [
      "389\n",
      "../input/rsna-2022-cervical-spine-fracture-detection/train_images/1.2.826.0.1.3680043.6200/\n"
     ]
    },
    {
     "name": "stderr",
     "output_type": "stream",
     "text": [
      " 85%|████████▍ | 1715/2019 [2:26:59<32:57,  6.51s/it]"
     ]
    },
    {
     "name": "stdout",
     "output_type": "stream",
     "text": [
      "390\n",
      "../input/rsna-2022-cervical-spine-fracture-detection/train_images/1.2.826.0.1.3680043.18770/\n"
     ]
    },
    {
     "name": "stderr",
     "output_type": "stream",
     "text": [
      " 85%|████████▌ | 1720/2019 [2:27:40<34:54,  7.01s/it]"
     ]
    },
    {
     "name": "stdout",
     "output_type": "stream",
     "text": [
      "391\n",
      "../input/rsna-2022-cervical-spine-fracture-detection/train_images/1.2.826.0.1.3680043.9506/\n"
     ]
    },
    {
     "name": "stderr",
     "output_type": "stream",
     "text": [
      " 86%|████████▌ | 1734/2019 [2:28:53<16:51,  3.55s/it]"
     ]
    },
    {
     "name": "stdout",
     "output_type": "stream",
     "text": [
      "392\n",
      "../input/rsna-2022-cervical-spine-fracture-detection/train_images/1.2.826.0.1.3680043.2923/\n",
      "393\n",
      "../input/rsna-2022-cervical-spine-fracture-detection/train_images/1.2.826.0.1.3680043.809/\n"
     ]
    },
    {
     "name": "stderr",
     "output_type": "stream",
     "text": [
      " 87%|████████▋ | 1747/2019 [2:30:16<27:50,  6.14s/it]"
     ]
    },
    {
     "name": "stdout",
     "output_type": "stream",
     "text": [
      "394\n",
      "../input/rsna-2022-cervical-spine-fracture-detection/train_images/1.2.826.0.1.3680043.7247/\n"
     ]
    },
    {
     "name": "stderr",
     "output_type": "stream",
     "text": [
      " 87%|████████▋ | 1752/2019 [2:30:23<09:40,  2.17s/it]"
     ]
    },
    {
     "name": "stdout",
     "output_type": "stream",
     "text": [
      "395\n",
      "../input/rsna-2022-cervical-spine-fracture-detection/train_images/1.2.826.0.1.3680043.22575/\n",
      "396\n",
      "../input/rsna-2022-cervical-spine-fracture-detection/train_images/1.2.826.0.1.3680043.20509/\n",
      "397\n",
      "../input/rsna-2022-cervical-spine-fracture-detection/train_images/1.2.826.0.1.3680043.28637/\n"
     ]
    },
    {
     "name": "stderr",
     "output_type": "stream",
     "text": [
      " 87%|████████▋ | 1759/2019 [2:30:50<09:48,  2.27s/it]"
     ]
    },
    {
     "name": "stdout",
     "output_type": "stream",
     "text": [
      "398\n",
      "../input/rsna-2022-cervical-spine-fracture-detection/train_images/1.2.826.0.1.3680043.12550/\n",
      "399\n",
      "../input/rsna-2022-cervical-spine-fracture-detection/train_images/1.2.826.0.1.3680043.2669/\n"
     ]
    },
    {
     "name": "stderr",
     "output_type": "stream",
     "text": [
      " 87%|████████▋ | 1760/2019 [2:30:55<13:01,  3.02s/it]"
     ]
    },
    {
     "name": "stdout",
     "output_type": "stream",
     "text": [
      "400\n",
      "../input/rsna-2022-cervical-spine-fracture-detection/train_images/1.2.826.0.1.3680043.8925/\n"
     ]
    },
    {
     "name": "stderr",
     "output_type": "stream",
     "text": [
      " 87%|████████▋ | 1764/2019 [2:31:16<18:53,  4.44s/it]"
     ]
    },
    {
     "name": "stdout",
     "output_type": "stream",
     "text": [
      "401\n",
      "../input/rsna-2022-cervical-spine-fracture-detection/train_images/1.2.826.0.1.3680043.23126/\n"
     ]
    },
    {
     "name": "stderr",
     "output_type": "stream",
     "text": [
      " 87%|████████▋ | 1766/2019 [2:31:22<16:14,  3.85s/it]"
     ]
    },
    {
     "name": "stdout",
     "output_type": "stream",
     "text": [
      "402\n",
      "../input/rsna-2022-cervical-spine-fracture-detection/train_images/1.2.826.0.1.3680043.29924/\n"
     ]
    },
    {
     "name": "stderr",
     "output_type": "stream",
     "text": [
      " 88%|████████▊ | 1772/2019 [2:32:02<28:54,  7.02s/it]"
     ]
    },
    {
     "name": "stdout",
     "output_type": "stream",
     "text": [
      "403\n",
      "../input/rsna-2022-cervical-spine-fracture-detection/train_images/1.2.826.0.1.3680043.31475/\n"
     ]
    },
    {
     "name": "stderr",
     "output_type": "stream",
     "text": [
      " 88%|████████▊ | 1782/2019 [2:32:53<22:29,  5.69s/it]"
     ]
    },
    {
     "name": "stdout",
     "output_type": "stream",
     "text": [
      "404\n",
      "../input/rsna-2022-cervical-spine-fracture-detection/train_images/1.2.826.0.1.3680043.30708/\n"
     ]
    },
    {
     "name": "stderr",
     "output_type": "stream",
     "text": [
      " 89%|████████▊ | 1788/2019 [2:33:01<07:24,  1.92s/it]"
     ]
    },
    {
     "name": "stdout",
     "output_type": "stream",
     "text": [
      "405\n",
      "../input/rsna-2022-cervical-spine-fracture-detection/train_images/1.2.826.0.1.3680043.28865/\n",
      "406\n",
      "../input/rsna-2022-cervical-spine-fracture-detection/train_images/1.2.826.0.1.3680043.9921/\n",
      "407\n",
      "../input/rsna-2022-cervical-spine-fracture-detection/train_images/1.2.826.0.1.3680043.23765/\n",
      "408\n",
      "../input/rsna-2022-cervical-spine-fracture-detection/train_images/1.2.826.0.1.3680043.7791/\n"
     ]
    },
    {
     "name": "stderr",
     "output_type": "stream",
     "text": [
      " 89%|████████▊ | 1790/2019 [2:33:16<15:32,  4.07s/it]"
     ]
    },
    {
     "name": "stdout",
     "output_type": "stream",
     "text": [
      "409\n",
      "../input/rsna-2022-cervical-spine-fracture-detection/train_images/1.2.826.0.1.3680043.24974/\n"
     ]
    },
    {
     "name": "stderr",
     "output_type": "stream",
     "text": [
      " 89%|████████▉ | 1795/2019 [2:33:30<11:30,  3.08s/it]"
     ]
    },
    {
     "name": "stdout",
     "output_type": "stream",
     "text": [
      "410\n",
      "../input/rsna-2022-cervical-spine-fracture-detection/train_images/1.2.826.0.1.3680043.29539/\n"
     ]
    },
    {
     "name": "stderr",
     "output_type": "stream",
     "text": [
      " 89%|████████▉ | 1798/2019 [2:33:46<16:28,  4.47s/it]"
     ]
    },
    {
     "name": "stdout",
     "output_type": "stream",
     "text": [
      "411\n",
      "../input/rsna-2022-cervical-spine-fracture-detection/train_images/1.2.826.0.1.3680043.1689/\n"
     ]
    },
    {
     "name": "stderr",
     "output_type": "stream",
     "text": [
      " 89%|████████▉ | 1801/2019 [2:33:59<15:36,  4.30s/it]"
     ]
    },
    {
     "name": "stdout",
     "output_type": "stream",
     "text": [
      "412\n",
      "../input/rsna-2022-cervical-spine-fracture-detection/train_images/1.2.826.0.1.3680043.8792/\n"
     ]
    },
    {
     "name": "stderr",
     "output_type": "stream",
     "text": [
      " 89%|████████▉ | 1804/2019 [2:34:08<12:32,  3.50s/it]"
     ]
    },
    {
     "name": "stdout",
     "output_type": "stream",
     "text": [
      "413\n",
      "../input/rsna-2022-cervical-spine-fracture-detection/train_images/1.2.826.0.1.3680043.14459/\n"
     ]
    },
    {
     "name": "stderr",
     "output_type": "stream",
     "text": [
      " 90%|████████▉ | 1812/2019 [2:35:13<29:46,  8.63s/it]"
     ]
    },
    {
     "name": "stdout",
     "output_type": "stream",
     "text": [
      "414\n",
      "../input/rsna-2022-cervical-spine-fracture-detection/train_images/1.2.826.0.1.3680043.27777/\n"
     ]
    },
    {
     "name": "stderr",
     "output_type": "stream",
     "text": [
      " 90%|████████▉ | 1816/2019 [2:35:38<24:08,  7.13s/it]"
     ]
    },
    {
     "name": "stdout",
     "output_type": "stream",
     "text": [
      "415\n",
      "../input/rsna-2022-cervical-spine-fracture-detection/train_images/1.2.826.0.1.3680043.4509/\n"
     ]
    },
    {
     "name": "stderr",
     "output_type": "stream",
     "text": [
      " 90%|█████████ | 1819/2019 [2:35:44<13:40,  4.10s/it]"
     ]
    },
    {
     "name": "stdout",
     "output_type": "stream",
     "text": [
      "416\n",
      "../input/rsna-2022-cervical-spine-fracture-detection/train_images/1.2.826.0.1.3680043.1151/\n"
     ]
    },
    {
     "name": "stderr",
     "output_type": "stream",
     "text": [
      " 90%|█████████ | 1822/2019 [2:36:02<17:15,  5.26s/it]"
     ]
    },
    {
     "name": "stdout",
     "output_type": "stream",
     "text": [
      "417\n",
      "../input/rsna-2022-cervical-spine-fracture-detection/train_images/1.2.826.0.1.3680043.7147/\n"
     ]
    },
    {
     "name": "stderr",
     "output_type": "stream",
     "text": [
      " 90%|█████████ | 1826/2019 [2:36:16<13:55,  4.33s/it]"
     ]
    },
    {
     "name": "stdout",
     "output_type": "stream",
     "text": [
      "418\n",
      "../input/rsna-2022-cervical-spine-fracture-detection/train_images/1.2.826.0.1.3680043.11901/\n"
     ]
    },
    {
     "name": "stderr",
     "output_type": "stream",
     "text": [
      " 91%|█████████ | 1832/2019 [2:36:51<17:29,  5.61s/it]"
     ]
    },
    {
     "name": "stdout",
     "output_type": "stream",
     "text": [
      "419\n",
      "../input/rsna-2022-cervical-spine-fracture-detection/train_images/1.2.826.0.1.3680043.30880/\n"
     ]
    },
    {
     "name": "stderr",
     "output_type": "stream",
     "text": [
      " 91%|█████████ | 1838/2019 [2:37:12<09:08,  3.03s/it]"
     ]
    },
    {
     "name": "stdout",
     "output_type": "stream",
     "text": [
      "420\n",
      "../input/rsna-2022-cervical-spine-fracture-detection/train_images/1.2.826.0.1.3680043.17387/\n",
      "421\n",
      "../input/rsna-2022-cervical-spine-fracture-detection/train_images/1.2.826.0.1.3680043.12727/\n"
     ]
    },
    {
     "name": "stderr",
     "output_type": "stream",
     "text": [
      " 91%|█████████ | 1841/2019 [2:37:28<13:54,  4.69s/it]"
     ]
    },
    {
     "name": "stdout",
     "output_type": "stream",
     "text": [
      "422\n",
      "../input/rsna-2022-cervical-spine-fracture-detection/train_images/1.2.826.0.1.3680043.28252/\n"
     ]
    },
    {
     "name": "stderr",
     "output_type": "stream",
     "text": [
      " 91%|█████████▏| 1846/2019 [2:37:51<11:32,  4.00s/it]"
     ]
    },
    {
     "name": "stdout",
     "output_type": "stream",
     "text": [
      "423\n",
      "../input/rsna-2022-cervical-spine-fracture-detection/train_images/1.2.826.0.1.3680043.27837/\n"
     ]
    },
    {
     "name": "stderr",
     "output_type": "stream",
     "text": [
      " 92%|█████████▏| 1849/2019 [2:38:17<18:13,  6.43s/it]"
     ]
    },
    {
     "name": "stdout",
     "output_type": "stream",
     "text": [
      "424\n",
      "../input/rsna-2022-cervical-spine-fracture-detection/train_images/1.2.826.0.1.3680043.32434/\n"
     ]
    },
    {
     "name": "stderr",
     "output_type": "stream",
     "text": [
      " 92%|█████████▏| 1855/2019 [2:38:52<17:22,  6.36s/it]"
     ]
    },
    {
     "name": "stdout",
     "output_type": "stream",
     "text": [
      "425\n",
      "../input/rsna-2022-cervical-spine-fracture-detection/train_images/1.2.826.0.1.3680043.26315/\n",
      "426\n",
      "../input/rsna-2022-cervical-spine-fracture-detection/train_images/1.2.826.0.1.3680043.28794/\n"
     ]
    },
    {
     "name": "stderr",
     "output_type": "stream",
     "text": [
      " 92%|█████████▏| 1867/2019 [2:40:00<18:53,  7.46s/it]"
     ]
    },
    {
     "name": "stdout",
     "output_type": "stream",
     "text": [
      "427\n",
      "../input/rsna-2022-cervical-spine-fracture-detection/train_images/1.2.826.0.1.3680043.3163/\n"
     ]
    },
    {
     "name": "stderr",
     "output_type": "stream",
     "text": [
      " 93%|█████████▎| 1870/2019 [2:40:09<12:49,  5.16s/it]"
     ]
    },
    {
     "name": "stdout",
     "output_type": "stream",
     "text": [
      "428\n",
      "../input/rsna-2022-cervical-spine-fracture-detection/train_images/1.2.826.0.1.3680043.8312/\n"
     ]
    },
    {
     "name": "stderr",
     "output_type": "stream",
     "text": [
      " 93%|█████████▎| 1872/2019 [2:40:22<13:50,  5.65s/it]"
     ]
    },
    {
     "name": "stdout",
     "output_type": "stream",
     "text": [
      "429\n",
      "../input/rsna-2022-cervical-spine-fracture-detection/train_images/1.2.826.0.1.3680043.17382/\n"
     ]
    },
    {
     "name": "stderr",
     "output_type": "stream",
     "text": [
      " 93%|█████████▎| 1876/2019 [2:40:39<12:07,  5.09s/it]"
     ]
    },
    {
     "name": "stdout",
     "output_type": "stream",
     "text": [
      "430\n",
      "../input/rsna-2022-cervical-spine-fracture-detection/train_images/1.2.826.0.1.3680043.14917/\n"
     ]
    },
    {
     "name": "stderr",
     "output_type": "stream",
     "text": [
      " 93%|█████████▎| 1884/2019 [2:41:18<10:05,  4.48s/it]"
     ]
    },
    {
     "name": "stdout",
     "output_type": "stream",
     "text": [
      "431\n",
      "../input/rsna-2022-cervical-spine-fracture-detection/train_images/1.2.826.0.1.3680043.17916/\n"
     ]
    },
    {
     "name": "stderr",
     "output_type": "stream",
     "text": [
      " 94%|█████████▎| 1891/2019 [2:41:52<11:31,  5.41s/it]"
     ]
    },
    {
     "name": "stdout",
     "output_type": "stream",
     "text": [
      "432\n",
      "../input/rsna-2022-cervical-spine-fracture-detection/train_images/1.2.826.0.1.3680043.1107/\n"
     ]
    },
    {
     "name": "stderr",
     "output_type": "stream",
     "text": [
      " 94%|█████████▍| 1894/2019 [2:42:05<10:35,  5.08s/it]"
     ]
    },
    {
     "name": "stdout",
     "output_type": "stream",
     "text": [
      "433\n",
      "../input/rsna-2022-cervical-spine-fracture-detection/train_images/1.2.826.0.1.3680043.20515/\n"
     ]
    },
    {
     "name": "stderr",
     "output_type": "stream",
     "text": [
      " 94%|█████████▍| 1898/2019 [2:42:37<14:39,  7.27s/it]"
     ]
    },
    {
     "name": "stdout",
     "output_type": "stream",
     "text": [
      "434\n",
      "../input/rsna-2022-cervical-spine-fracture-detection/train_images/1.2.826.0.1.3680043.4678/\n"
     ]
    },
    {
     "name": "stderr",
     "output_type": "stream",
     "text": [
      " 94%|█████████▍| 1901/2019 [2:42:42<08:04,  4.10s/it]"
     ]
    },
    {
     "name": "stdout",
     "output_type": "stream",
     "text": [
      "435\n",
      "../input/rsna-2022-cervical-spine-fracture-detection/train_images/1.2.826.0.1.3680043.16180/\n"
     ]
    },
    {
     "name": "stderr",
     "output_type": "stream",
     "text": [
      " 94%|█████████▍| 1902/2019 [2:42:47<08:19,  4.27s/it]"
     ]
    },
    {
     "name": "stdout",
     "output_type": "stream",
     "text": [
      "436\n",
      "../input/rsna-2022-cervical-spine-fracture-detection/train_images/1.2.826.0.1.3680043.17457/\n"
     ]
    },
    {
     "name": "stderr",
     "output_type": "stream",
     "text": [
      " 94%|█████████▍| 1907/2019 [2:43:10<09:15,  4.96s/it]"
     ]
    },
    {
     "name": "stdout",
     "output_type": "stream",
     "text": [
      "437\n",
      "../input/rsna-2022-cervical-spine-fracture-detection/train_images/1.2.826.0.1.3680043.5934/\n"
     ]
    },
    {
     "name": "stderr",
     "output_type": "stream",
     "text": [
      " 95%|█████████▍| 1912/2019 [2:43:21<04:40,  2.62s/it]"
     ]
    },
    {
     "name": "stdout",
     "output_type": "stream",
     "text": [
      "438\n",
      "../input/rsna-2022-cervical-spine-fracture-detection/train_images/1.2.826.0.1.3680043.18696/\n",
      "439\n",
      "../input/rsna-2022-cervical-spine-fracture-detection/train_images/1.2.826.0.1.3680043.25238/\n"
     ]
    },
    {
     "name": "stderr",
     "output_type": "stream",
     "text": [
      " 95%|█████████▌| 1921/2019 [2:44:40<13:40,  8.37s/it]"
     ]
    },
    {
     "name": "stdout",
     "output_type": "stream",
     "text": [
      "440\n",
      "../input/rsna-2022-cervical-spine-fracture-detection/train_images/1.2.826.0.1.3680043.15016/\n"
     ]
    },
    {
     "name": "stderr",
     "output_type": "stream",
     "text": [
      " 95%|█████████▌| 1927/2019 [2:45:14<09:40,  6.31s/it]"
     ]
    },
    {
     "name": "stdout",
     "output_type": "stream",
     "text": [
      "441\n",
      "../input/rsna-2022-cervical-spine-fracture-detection/train_images/1.2.826.0.1.3680043.31581/\n",
      "442\n",
      "../input/rsna-2022-cervical-spine-fracture-detection/train_images/1.2.826.0.1.3680043.19124/\n"
     ]
    },
    {
     "name": "stderr",
     "output_type": "stream",
     "text": [
      " 96%|█████████▌| 1933/2019 [2:45:24<03:42,  2.58s/it]"
     ]
    },
    {
     "name": "stdout",
     "output_type": "stream",
     "text": [
      "443\n",
      "../input/rsna-2022-cervical-spine-fracture-detection/train_images/1.2.826.0.1.3680043.17341/\n",
      "444\n",
      "../input/rsna-2022-cervical-spine-fracture-detection/train_images/1.2.826.0.1.3680043.30911/\n",
      "445\n",
      "../input/rsna-2022-cervical-spine-fracture-detection/train_images/1.2.826.0.1.3680043.15891/\n"
     ]
    },
    {
     "name": "stderr",
     "output_type": "stream",
     "text": [
      " 96%|█████████▋| 1947/2019 [2:46:44<06:40,  5.56s/it]"
     ]
    },
    {
     "name": "stdout",
     "output_type": "stream",
     "text": [
      "446\n",
      "../input/rsna-2022-cervical-spine-fracture-detection/train_images/1.2.826.0.1.3680043.24570/\n"
     ]
    },
    {
     "name": "stderr",
     "output_type": "stream",
     "text": [
      " 97%|█████████▋| 1959/2019 [2:47:53<07:07,  7.12s/it]"
     ]
    },
    {
     "name": "stdout",
     "output_type": "stream",
     "text": [
      "447\n",
      "../input/rsna-2022-cervical-spine-fracture-detection/train_images/1.2.826.0.1.3680043.6404/\n"
     ]
    },
    {
     "name": "stderr",
     "output_type": "stream",
     "text": [
      " 97%|█████████▋| 1966/2019 [2:48:38<05:31,  6.25s/it]"
     ]
    },
    {
     "name": "stdout",
     "output_type": "stream",
     "text": [
      "448\n",
      "../input/rsna-2022-cervical-spine-fracture-detection/train_images/1.2.826.0.1.3680043.30177/\n"
     ]
    },
    {
     "name": "stderr",
     "output_type": "stream",
     "text": [
      " 98%|█████████▊| 1970/2019 [2:48:52<03:59,  4.88s/it]"
     ]
    },
    {
     "name": "stdout",
     "output_type": "stream",
     "text": [
      "449\n",
      "../input/rsna-2022-cervical-spine-fracture-detection/train_images/1.2.826.0.1.3680043.25301/\n"
     ]
    },
    {
     "name": "stderr",
     "output_type": "stream",
     "text": [
      " 98%|█████████▊| 1973/2019 [2:48:57<02:15,  2.95s/it]"
     ]
    },
    {
     "name": "stdout",
     "output_type": "stream",
     "text": [
      "450\n",
      "../input/rsna-2022-cervical-spine-fracture-detection/train_images/1.2.826.0.1.3680043.6402/\n"
     ]
    },
    {
     "name": "stderr",
     "output_type": "stream",
     "text": [
      " 98%|█████████▊| 1976/2019 [2:49:03<01:27,  2.04s/it]"
     ]
    },
    {
     "name": "stdout",
     "output_type": "stream",
     "text": [
      "451\n",
      "../input/rsna-2022-cervical-spine-fracture-detection/train_images/1.2.826.0.1.3680043.24593/\n",
      "452\n",
      "../input/rsna-2022-cervical-spine-fracture-detection/train_images/1.2.826.0.1.3680043.5782/\n"
     ]
    },
    {
     "name": "stderr",
     "output_type": "stream",
     "text": [
      " 98%|█████████▊| 1978/2019 [2:49:08<01:17,  1.89s/it]"
     ]
    },
    {
     "name": "stdout",
     "output_type": "stream",
     "text": [
      "453\n",
      "../input/rsna-2022-cervical-spine-fracture-detection/train_images/1.2.826.0.1.3680043.30787/\n",
      "454\n",
      "../input/rsna-2022-cervical-spine-fracture-detection/train_images/1.2.826.0.1.3680043.10014/\n"
     ]
    },
    {
     "name": "stderr",
     "output_type": "stream",
     "text": [
      " 98%|█████████▊| 1982/2019 [2:49:22<01:59,  3.22s/it]"
     ]
    },
    {
     "name": "stdout",
     "output_type": "stream",
     "text": [
      "455\n",
      "../input/rsna-2022-cervical-spine-fracture-detection/train_images/1.2.826.0.1.3680043.20905/\n"
     ]
    },
    {
     "name": "stderr",
     "output_type": "stream",
     "text": [
      " 98%|█████████▊| 1986/2019 [2:49:26<00:55,  1.67s/it]"
     ]
    },
    {
     "name": "stdout",
     "output_type": "stream",
     "text": [
      "456\n",
      "../input/rsna-2022-cervical-spine-fracture-detection/train_images/1.2.826.0.1.3680043.5957/\n",
      "457\n",
      "../input/rsna-2022-cervical-spine-fracture-detection/train_images/1.2.826.0.1.3680043.18077/\n"
     ]
    },
    {
     "name": "stderr",
     "output_type": "stream",
     "text": [
      " 99%|█████████▊| 1991/2019 [2:49:51<02:09,  4.61s/it]"
     ]
    },
    {
     "name": "stdout",
     "output_type": "stream",
     "text": [
      "458\n",
      "../input/rsna-2022-cervical-spine-fracture-detection/train_images/1.2.826.0.1.3680043.27714/\n"
     ]
    },
    {
     "name": "stderr",
     "output_type": "stream",
     "text": [
      " 99%|█████████▊| 1993/2019 [2:49:59<01:55,  4.46s/it]"
     ]
    },
    {
     "name": "stdout",
     "output_type": "stream",
     "text": [
      "459\n",
      "../input/rsna-2022-cervical-spine-fracture-detection/train_images/1.2.826.0.1.3680043.1772/\n"
     ]
    },
    {
     "name": "stderr",
     "output_type": "stream",
     "text": [
      " 99%|█████████▉| 2008/2019 [2:51:21<01:03,  5.79s/it]"
     ]
    },
    {
     "name": "stdout",
     "output_type": "stream",
     "text": [
      "460\n",
      "../input/rsna-2022-cervical-spine-fracture-detection/train_images/1.2.826.0.1.3680043.18025/\n"
     ]
    },
    {
     "name": "stderr",
     "output_type": "stream",
     "text": [
      "100%|█████████▉| 2015/2019 [2:51:54<00:21,  5.46s/it]"
     ]
    },
    {
     "name": "stdout",
     "output_type": "stream",
     "text": [
      "461\n",
      "../input/rsna-2022-cervical-spine-fracture-detection/train_images/1.2.826.0.1.3680043.20723/\n"
     ]
    },
    {
     "name": "stderr",
     "output_type": "stream",
     "text": [
      "100%|█████████▉| 2018/2019 [2:52:05<00:04,  4.24s/it]"
     ]
    },
    {
     "name": "stdout",
     "output_type": "stream",
     "text": [
      "462\n",
      "../input/rsna-2022-cervical-spine-fracture-detection/train_images/1.2.826.0.1.3680043.19410/\n"
     ]
    },
    {
     "name": "stderr",
     "output_type": "stream",
     "text": [
      "100%|██████████| 2019/2019 [2:52:18<00:00,  5.12s/it]\n"
     ]
    }
   ],
   "source": [
    "e = 0\n",
    "for p in tqdm(os.listdir(\"../input/rsna-2022-cervical-spine-fracture-detection/train_images\")):\n",
    "    path = \"../input/rsna-2022-cervical-spine-fracture-detection/train_images/\"+p+\"/\"\n",
    "    len10percent = len(os.listdir(path))//10\n",
    "    try:\n",
    "        final_ct = window(load_image(path+str(len10percent)+\".dcm\")).reshape(100,60,1)\n",
    "        for image in range(len10percent, len(os.listdir(path))-len10percent):\n",
    "            img = window(load_image(path+str(image)+\".dcm\")).reshape(100,60,1)\n",
    "            final_ct = np.append(final_ct, img, axis=-1)\n",
    "        resized_final_ct = cv2.resize(final_ct[:,0,:], (100,100)).reshape(100,100,1)\n",
    "        for i in range(1,final_ct.shape[1]):\n",
    "            resized_final_ct = np.append(resized_final_ct, cv2.resize(final_ct[:,i,:], (100,100)).reshape(100,100,1), axis=-1)\n",
    "        ni_img = nib.Nifti1Image(resized_final_ct, affine=np.eye(4))\n",
    "        nib.save(ni_img, str(p) + \".nii.gz\")\n",
    "    except:\n",
    "        e=e+1\n",
    "        print(e)\n",
    "        print(path)"
   ]
  }
 ],
 "metadata": {
  "kernelspec": {
   "display_name": "Python 3",
   "language": "python",
   "name": "python3"
  },
  "language_info": {
   "codemirror_mode": {
    "name": "ipython",
    "version": 3
   },
   "file_extension": ".py",
   "mimetype": "text/x-python",
   "name": "python",
   "nbconvert_exporter": "python",
   "pygments_lexer": "ipython3",
   "version": "3.7.12"
  },
  "papermill": {
   "default_parameters": {},
   "duration": 10359.063408,
   "end_time": "2022-10-06T14:18:00.017104",
   "environment_variables": {},
   "exception": null,
   "input_path": "__notebook__.ipynb",
   "output_path": "__notebook__.ipynb",
   "parameters": {},
   "start_time": "2022-10-06T11:25:20.953696",
   "version": "2.3.4"
  }
 },
 "nbformat": 4,
 "nbformat_minor": 5
}
