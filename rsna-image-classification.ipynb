{
 "cells": [
  {
   "cell_type": "code",
   "execution_count": 1,
   "id": "fdeafc54",
   "metadata": {
    "_cell_guid": "b1076dfc-b9ad-4769-8c92-a6c4dae69d19",
    "_uuid": "8f2839f25d086af736a60e9eeb907d3b93b6e0e5",
    "execution": {
     "iopub.execute_input": "2022-10-16T05:14:36.740309Z",
     "iopub.status.busy": "2022-10-16T05:14:36.739511Z",
     "iopub.status.idle": "2022-10-16T05:14:59.921160Z",
     "shell.execute_reply": "2022-10-16T05:14:59.920036Z"
    },
    "papermill": {
     "duration": 23.192981,
     "end_time": "2022-10-16T05:14:59.923894",
     "exception": false,
     "start_time": "2022-10-16T05:14:36.730913",
     "status": "completed"
    },
    "tags": []
   },
   "outputs": [
    {
     "name": "stdout",
     "output_type": "stream",
     "text": [
      "Collecting python-gdcm\r\n",
      "  Downloading python_gdcm-3.0.19-cp37-cp37m-manylinux_2_17_x86_64.manylinux2014_x86_64.whl (13.0 MB)\r\n",
      "\u001b[2K     \u001b[90m━━━━━━━━━━━━━━━━━━━━━━━━━━━━━━━━━━━━━━━━\u001b[0m \u001b[32m13.0/13.0 MB\u001b[0m \u001b[31m35.1 MB/s\u001b[0m eta \u001b[36m0:00:00\u001b[0m\r\n",
      "\u001b[?25hInstalling collected packages: python-gdcm\r\n",
      "Successfully installed python-gdcm-3.0.19\r\n",
      "\u001b[33mWARNING: Running pip as the 'root' user can result in broken permissions and conflicting behaviour with the system package manager. It is recommended to use a virtual environment instead: https://pip.pypa.io/warnings/venv\u001b[0m\u001b[33m\r\n",
      "\u001b[0mCollecting pylibjpeg\r\n",
      "  Downloading pylibjpeg-1.4.0-py3-none-any.whl (28 kB)\r\n",
      "Collecting pylibjpeg-libjpeg\r\n",
      "  Downloading pylibjpeg_libjpeg-1.3.2-cp37-cp37m-manylinux_2_17_x86_64.manylinux2014_x86_64.whl (4.3 MB)\r\n",
      "\u001b[2K     \u001b[90m━━━━━━━━━━━━━━━━━━━━━━━━━━━━━━━━━━━━━━━━\u001b[0m \u001b[32m4.3/4.3 MB\u001b[0m \u001b[31m10.2 MB/s\u001b[0m eta \u001b[36m0:00:00\u001b[0m\r\n",
      "\u001b[?25hRequirement already satisfied: pydicom in /opt/conda/lib/python3.7/site-packages (2.3.0)\r\n",
      "Requirement already satisfied: numpy in /opt/conda/lib/python3.7/site-packages (from pylibjpeg) (1.21.6)\r\n",
      "Installing collected packages: pylibjpeg-libjpeg, pylibjpeg\r\n",
      "Successfully installed pylibjpeg-1.4.0 pylibjpeg-libjpeg-1.3.2\r\n",
      "\u001b[33mWARNING: Running pip as the 'root' user can result in broken permissions and conflicting behaviour with the system package manager. It is recommended to use a virtual environment instead: https://pip.pypa.io/warnings/venv\u001b[0m\u001b[33m\r\n",
      "\u001b[0m"
     ]
    }
   ],
   "source": [
    "! pip install python-gdcm\n",
    "! pip install pylibjpeg pylibjpeg-libjpeg pydicom"
   ]
  },
  {
   "cell_type": "code",
   "execution_count": 2,
   "id": "c41cb030",
   "metadata": {
    "execution": {
     "iopub.execute_input": "2022-10-16T05:14:59.940708Z",
     "iopub.status.busy": "2022-10-16T05:14:59.940396Z",
     "iopub.status.idle": "2022-10-16T05:15:07.159155Z",
     "shell.execute_reply": "2022-10-16T05:15:07.158205Z"
    },
    "papermill": {
     "duration": 7.229729,
     "end_time": "2022-10-16T05:15:07.161558",
     "exception": false,
     "start_time": "2022-10-16T05:14:59.931829",
     "status": "completed"
    },
    "tags": []
   },
   "outputs": [],
   "source": [
    "import pandas as pd\n",
    "import numpy as np\n",
    "import tensorflow as tf\n",
    "import matplotlib.pyplot as plt\n",
    "import pydicom as dcm\n",
    "import os\n",
    "import nibabel as nib\n",
    "import SimpleITK as sitk\n",
    "from tqdm import tqdm\n",
    "from tensorflow import keras\n",
    "from keras import layers, models\n",
    "import tensorflow_io as tfio\n",
    "import cv2\n",
    "import warnings\n",
    "warnings.filterwarnings('ignore')\n",
    "from skimage.transform import resize\n",
    "from tqdm import tqdm\n",
    "import tensorflow_addons as tfa"
   ]
  },
  {
   "cell_type": "code",
   "execution_count": 3,
   "id": "3a5b0e52",
   "metadata": {
    "execution": {
     "iopub.execute_input": "2022-10-16T05:15:07.179037Z",
     "iopub.status.busy": "2022-10-16T05:15:07.177312Z",
     "iopub.status.idle": "2022-10-16T05:15:07.183135Z",
     "shell.execute_reply": "2022-10-16T05:15:07.182283Z"
    },
    "papermill": {
     "duration": 0.016063,
     "end_time": "2022-10-16T05:15:07.185128",
     "exception": false,
     "start_time": "2022-10-16T05:15:07.169065",
     "status": "completed"
    },
    "tags": []
   },
   "outputs": [],
   "source": [
    "def load_image(path):\n",
    "    img = dcm.read_file(path)\n",
    "    img = img.pixel_array\n",
    "    return cv2.resize(img, (256,256))"
   ]
  },
  {
   "cell_type": "code",
   "execution_count": 4,
   "id": "44330fce",
   "metadata": {
    "execution": {
     "iopub.execute_input": "2022-10-16T05:15:07.200710Z",
     "iopub.status.busy": "2022-10-16T05:15:07.200446Z",
     "iopub.status.idle": "2022-10-16T05:15:07.207537Z",
     "shell.execute_reply": "2022-10-16T05:15:07.206561Z"
    },
    "papermill": {
     "duration": 0.017213,
     "end_time": "2022-10-16T05:15:07.209794",
     "exception": false,
     "start_time": "2022-10-16T05:15:07.192581",
     "status": "completed"
    },
    "tags": []
   },
   "outputs": [],
   "source": [
    " def window_image(img, minn,maxx, intercept, slope, rescale=True):\n",
    "    img = (img*slope +intercept) \n",
    "    img[img<minn] = minn \n",
    "    img[img>maxx] = maxx \n",
    "    if rescale: \n",
    "        img = (img - minn) / (maxx - minn)\n",
    "    return img\n",
    "    \n",
    "def get_first_of_dicom_field_as_int(x):\n",
    "    if type(x) == dcm.multival.MultiValue: return int(x[0])\n",
    "    else: return int(x)\n",
    "    \n",
    "def get_windowing(data):\n",
    "    dicom_fields = [data[('0028','1050')].value,\n",
    "                    data[('0028','1051')].value,\n",
    "                    data[('0028','1052')].value,\n",
    "                    data[('0028','1053')].value]\n",
    "    return [get_first_of_dicom_field_as_int(x) for x in dicom_fields]"
   ]
  },
  {
   "cell_type": "code",
   "execution_count": 5,
   "id": "6f3addb8",
   "metadata": {
    "execution": {
     "iopub.execute_input": "2022-10-16T05:15:07.225126Z",
     "iopub.status.busy": "2022-10-16T05:15:07.224876Z",
     "iopub.status.idle": "2022-10-16T05:15:07.228892Z",
     "shell.execute_reply": "2022-10-16T05:15:07.228024Z"
    },
    "papermill": {
     "duration": 0.013884,
     "end_time": "2022-10-16T05:15:07.230830",
     "exception": false,
     "start_time": "2022-10-16T05:15:07.216946",
     "status": "completed"
    },
    "tags": []
   },
   "outputs": [],
   "source": [
    "def channeling(img,img1,img2):\n",
    "    return np.stack([img, img1, img2], axis=-1)"
   ]
  },
  {
   "cell_type": "code",
   "execution_count": 6,
   "id": "54779d57",
   "metadata": {
    "execution": {
     "iopub.execute_input": "2022-10-16T05:15:07.246081Z",
     "iopub.status.busy": "2022-10-16T05:15:07.245834Z",
     "iopub.status.idle": "2022-10-16T05:15:07.271111Z",
     "shell.execute_reply": "2022-10-16T05:15:07.270277Z"
    },
    "papermill": {
     "duration": 0.035467,
     "end_time": "2022-10-16T05:15:07.273382",
     "exception": false,
     "start_time": "2022-10-16T05:15:07.237915",
     "status": "completed"
    },
    "tags": []
   },
   "outputs": [],
   "source": [
    "bb_df = pd.read_csv(\"../input/rsna-2022-cervical-spine-fracture-detection/train_bounding_boxes.csv\")\n"
   ]
  },
  {
   "cell_type": "code",
   "execution_count": 7,
   "id": "4931dc2c",
   "metadata": {
    "execution": {
     "iopub.execute_input": "2022-10-16T05:15:07.289187Z",
     "iopub.status.busy": "2022-10-16T05:15:07.288932Z",
     "iopub.status.idle": "2022-10-16T05:15:07.305966Z",
     "shell.execute_reply": "2022-10-16T05:15:07.305136Z"
    },
    "papermill": {
     "duration": 0.026976,
     "end_time": "2022-10-16T05:15:07.307929",
     "exception": false,
     "start_time": "2022-10-16T05:15:07.280953",
     "status": "completed"
    },
    "tags": []
   },
   "outputs": [],
   "source": [
    "df = pd.read_csv(\"../input/rsna-2022-cervical-spine-fracture-detection/train.csv\")\n",
    "df = df[df['patient_overall']==0]\n"
   ]
  },
  {
   "cell_type": "code",
   "execution_count": 8,
   "id": "4157679c",
   "metadata": {
    "execution": {
     "iopub.execute_input": "2022-10-16T05:15:07.324383Z",
     "iopub.status.busy": "2022-10-16T05:15:07.324094Z",
     "iopub.status.idle": "2022-10-16T05:15:07.333139Z",
     "shell.execute_reply": "2022-10-16T05:15:07.332366Z"
    },
    "papermill": {
     "duration": 0.019212,
     "end_time": "2022-10-16T05:15:07.335278",
     "exception": false,
     "start_time": "2022-10-16T05:15:07.316066",
     "status": "completed"
    },
    "tags": []
   },
   "outputs": [],
   "source": [
    "a_df = pd.read_csv(\"../input/rsna-2022-cervical-spine-fracture-detection/train.csv\")\n",
    "a_df = a_df.set_index(a_df['StudyInstanceUID'])\n"
   ]
  },
  {
   "cell_type": "code",
   "execution_count": 9,
   "id": "fbd865b1",
   "metadata": {
    "execution": {
     "iopub.execute_input": "2022-10-16T05:15:07.350746Z",
     "iopub.status.busy": "2022-10-16T05:15:07.350490Z",
     "iopub.status.idle": "2022-10-16T05:15:07.354860Z",
     "shell.execute_reply": "2022-10-16T05:15:07.353843Z"
    },
    "papermill": {
     "duration": 0.014579,
     "end_time": "2022-10-16T05:15:07.357009",
     "exception": false,
     "start_time": "2022-10-16T05:15:07.342430",
     "status": "completed"
    },
    "tags": []
   },
   "outputs": [],
   "source": [
    "path = \"../input/rsna-2022-cervical-spine-fracture-detection/train_images/\""
   ]
  },
  {
   "cell_type": "code",
   "execution_count": 10,
   "id": "6ece50aa",
   "metadata": {
    "execution": {
     "iopub.execute_input": "2022-10-16T05:15:07.372378Z",
     "iopub.status.busy": "2022-10-16T05:15:07.372100Z",
     "iopub.status.idle": "2022-10-16T05:15:07.377727Z",
     "shell.execute_reply": "2022-10-16T05:15:07.376715Z"
    },
    "papermill": {
     "duration": 0.015988,
     "end_time": "2022-10-16T05:15:07.380147",
     "exception": false,
     "start_time": "2022-10-16T05:15:07.364159",
     "status": "completed"
    },
    "tags": []
   },
   "outputs": [],
   "source": [
    "import random\n",
    "\n",
    "def my_distribution(maxx):\n",
    "    THRESHOLD = [0.05, 0.95]\n",
    "    u = random.random()\n",
    "    if u <= THRESHOLD[0]:\n",
    "        return random.randint(1, maxx//5)\n",
    "    elif u <= THRESHOLD[1]:\n",
    "        return random.randint( (maxx//5),  ((4*maxx)//5))\n",
    "    else:\n",
    "        return random.randint(((4*maxx)//5), maxx)"
   ]
  },
  {
   "cell_type": "code",
   "execution_count": 11,
   "id": "2991ee88",
   "metadata": {
    "execution": {
     "iopub.execute_input": "2022-10-16T05:15:07.395889Z",
     "iopub.status.busy": "2022-10-16T05:15:07.395640Z",
     "iopub.status.idle": "2022-10-16T05:15:07.415723Z",
     "shell.execute_reply": "2022-10-16T05:15:07.414756Z"
    },
    "papermill": {
     "duration": 0.030371,
     "end_time": "2022-10-16T05:15:07.417772",
     "exception": false,
     "start_time": "2022-10-16T05:15:07.387401",
     "status": "completed"
    },
    "tags": []
   },
   "outputs": [],
   "source": [
    "t = 3\n",
    "n_all = t*7217\n",
    "n_80 = ((t*7217)*(8))//10\n",
    "deviation = n_all//1058 \n",
    "np_list = np.arange(n_all)\n",
    "random_list = np.random.choice(np_list,n_all,replace=False)\n",
    "\n",
    "def data_gen():\n",
    "    for i in random_list[:n_80]:\n",
    "        if i%t!=0:\n",
    "            try:\n",
    "                data = dcm.dcmread(path+df.iloc[i//int(deviation)][\"StudyInstanceUID\"]+\"/\"+str(my_distribution(len(os.listdir(path+df.iloc[i//int(deviation)][\"StudyInstanceUID\"]))))+\".dcm\")\n",
    "                window_center , window_width, intercept, slope = get_windowing(data)\n",
    "                img = load_image(path+df.iloc[i//int(deviation)][\"StudyInstanceUID\"]+\"/\"+str(my_distribution(len(os.listdir(path+df.iloc[i//int(deviation)][\"StudyInstanceUID\"]))))+\".dcm\")\n",
    "                img1 = window_image(img, 100, 600, intercept, slope, rescale = True)\n",
    "                img2 = window_image(img, 600, 1100, intercept, slope, rescale = True)\n",
    "                img3 = window_image(img, 1100, 1600, intercept, slope, rescale = True)\n",
    "                yield ({\"input_1\": channeling(img1,img2, img3)},\n",
    "                {'co': 0},\n",
    "                {'co': 1})\n",
    "            except:\n",
    "                continue\n",
    "\n",
    "        else:    \n",
    "            data = dcm.dcmread(path+bb_df.iloc[i//t][\"StudyInstanceUID\"]+\"/\"+str(bb_df.iloc[i//t][\"slice_number\"])+\".dcm\")\n",
    "            window_center , window_width, intercept, slope = get_windowing(data)\n",
    "            img = load_image(path+bb_df.iloc[i//t][\"StudyInstanceUID\"]+\"/\"+str(bb_df.iloc[i//t][\"slice_number\"])+\".dcm\")\n",
    "            img1 = window_image(img, 100, 600, intercept, slope, rescale = True)\n",
    "            img2 = window_image(img, 600, 1100, intercept, slope, rescale = True)\n",
    "            img3 = window_image(img, 1100, 1600, intercept, slope, rescale = True)\n",
    "            yield ({\"input_1\": channeling(img1,img2, img3)},\n",
    "            {'co': 1},\n",
    "            {'co': 2})\n",
    "        \n",
    "        \n",
    "def test_gen():\n",
    "    for i in random_list[n_80:]:\n",
    "        if i%t!=0:\n",
    "            try:\n",
    "                data = dcm.dcmread(path+df.iloc[i//int(deviation)][\"StudyInstanceUID\"]+\"/\"+str(my_distribution(len(os.listdir(path+df.iloc[i//int(deviation)][\"StudyInstanceUID\"]))))+\".dcm\")\n",
    "                window_center , window_width, intercept, slope = get_windowing(data)\n",
    "                img = load_image(path+df.iloc[i//int(deviation)][\"StudyInstanceUID\"]+\"/\"+str(my_distribution(len(os.listdir(path+df.iloc[i//int(deviation)][\"StudyInstanceUID\"]))))+\".dcm\")\n",
    "                img1 = window_image(img, 100, 600, intercept, slope, rescale = True)\n",
    "                img2 = window_image(img, 600, 1100, intercept, slope, rescale = True)\n",
    "                img3 = window_image(img, 1100, 1600, intercept, slope, rescale = True)\n",
    "                yield ({\"input_1\": channeling(img1,img2, img3)},\n",
    "                    {'co': 0},\n",
    "                    {'co': 1})\n",
    "            except:\n",
    "                continue\n",
    "\n",
    "        else:    \n",
    "            data = dcm.dcmread(path+bb_df.iloc[i//t][\"StudyInstanceUID\"]+\"/\"+str(bb_df.iloc[i//t][\"slice_number\"])+\".dcm\")\n",
    "            window_center , window_width, intercept, slope = get_windowing(data)\n",
    "            img = load_image(path+bb_df.iloc[i//t][\"StudyInstanceUID\"]+\"/\"+str(bb_df.iloc[i//t][\"slice_number\"])+\".dcm\")\n",
    "            img1 = window_image(img, 100, 600, intercept, slope, rescale = True)\n",
    "            img2 = window_image(img, 600, 1100, intercept, slope, rescale = True)\n",
    "            img3 = window_image(img, 1100, 1600, intercept, slope, rescale = True)\n",
    "            yield ({\"input_1\": channeling(img1,img2, img3)},\n",
    "                {'co': 1},\n",
    "                {'co': 2})\n",
    "\n",
    "#  a_df.loc[bb_df.iloc[int(i//t)][\"StudyInstanceUID\"]][\"patient_overall\"] if you want multiple outputs"
   ]
  },
  {
   "cell_type": "code",
   "execution_count": 12,
   "id": "08aad237",
   "metadata": {
    "execution": {
     "iopub.execute_input": "2022-10-16T05:15:07.433791Z",
     "iopub.status.busy": "2022-10-16T05:15:07.433541Z",
     "iopub.status.idle": "2022-10-16T05:15:10.236497Z",
     "shell.execute_reply": "2022-10-16T05:15:10.235512Z"
    },
    "papermill": {
     "duration": 2.814377,
     "end_time": "2022-10-16T05:15:10.239298",
     "exception": false,
     "start_time": "2022-10-16T05:15:07.424921",
     "status": "completed"
    },
    "tags": []
   },
   "outputs": [
    {
     "name": "stderr",
     "output_type": "stream",
     "text": [
      "2022-10-16 05:15:07.510400: I tensorflow/stream_executor/cuda/cuda_gpu_executor.cc:937] successful NUMA node read from SysFS had negative value (-1), but there must be at least one NUMA node, so returning NUMA node zero\n",
      "2022-10-16 05:15:07.608659: I tensorflow/stream_executor/cuda/cuda_gpu_executor.cc:937] successful NUMA node read from SysFS had negative value (-1), but there must be at least one NUMA node, so returning NUMA node zero\n",
      "2022-10-16 05:15:07.609458: I tensorflow/stream_executor/cuda/cuda_gpu_executor.cc:937] successful NUMA node read from SysFS had negative value (-1), but there must be at least one NUMA node, so returning NUMA node zero\n",
      "2022-10-16 05:15:07.614898: I tensorflow/core/platform/cpu_feature_guard.cc:142] This TensorFlow binary is optimized with oneAPI Deep Neural Network Library (oneDNN) to use the following CPU instructions in performance-critical operations:  AVX2 AVX512F FMA\n",
      "To enable them in other operations, rebuild TensorFlow with the appropriate compiler flags.\n",
      "2022-10-16 05:15:07.615251: I tensorflow/stream_executor/cuda/cuda_gpu_executor.cc:937] successful NUMA node read from SysFS had negative value (-1), but there must be at least one NUMA node, so returning NUMA node zero\n",
      "2022-10-16 05:15:07.615956: I tensorflow/stream_executor/cuda/cuda_gpu_executor.cc:937] successful NUMA node read from SysFS had negative value (-1), but there must be at least one NUMA node, so returning NUMA node zero\n",
      "2022-10-16 05:15:07.616596: I tensorflow/stream_executor/cuda/cuda_gpu_executor.cc:937] successful NUMA node read from SysFS had negative value (-1), but there must be at least one NUMA node, so returning NUMA node zero\n",
      "2022-10-16 05:15:09.802380: I tensorflow/stream_executor/cuda/cuda_gpu_executor.cc:937] successful NUMA node read from SysFS had negative value (-1), but there must be at least one NUMA node, so returning NUMA node zero\n",
      "2022-10-16 05:15:09.803253: I tensorflow/stream_executor/cuda/cuda_gpu_executor.cc:937] successful NUMA node read from SysFS had negative value (-1), but there must be at least one NUMA node, so returning NUMA node zero\n",
      "2022-10-16 05:15:09.803992: I tensorflow/stream_executor/cuda/cuda_gpu_executor.cc:937] successful NUMA node read from SysFS had negative value (-1), but there must be at least one NUMA node, so returning NUMA node zero\n",
      "2022-10-16 05:15:09.804631: I tensorflow/core/common_runtime/gpu/gpu_device.cc:1510] Created device /job:localhost/replica:0/task:0/device:GPU:0 with 15401 MB memory:  -> device: 0, name: Tesla P100-PCIE-16GB, pci bus id: 0000:00:04.0, compute capability: 6.0\n"
     ]
    }
   ],
   "source": [
    "dataset = tf.data.Dataset.from_generator(\n",
    "     data_gen,\n",
    "     ({\"input_1\":tf.float32}, \n",
    "     {'co':tf.int8},\n",
    "     {'co':tf.int8}),\n",
    "    ({\"input_1\":tf.TensorShape([256,256,3])}, \n",
    "     {\"co\": tf.TensorShape([])},\n",
    "    {\"co\": tf.TensorShape([])})\n",
    ")\n",
    "\n",
    "testset = tf.data.Dataset.from_generator(\n",
    "     test_gen,\n",
    "     ({\"input_1\":tf.float32}, \n",
    "     {'co':tf.int8},\n",
    "     {'co':tf.int8}),\n",
    "    ({\"input_1\":tf.TensorShape([256,256,3])}, \n",
    "     {\"co\": tf.TensorShape([])},\n",
    "    {\"co\": tf.TensorShape([])})\n",
    ")"
   ]
  },
  {
   "cell_type": "code",
   "execution_count": 13,
   "id": "402d9a14",
   "metadata": {
    "execution": {
     "iopub.execute_input": "2022-10-16T05:15:10.255606Z",
     "iopub.status.busy": "2022-10-16T05:15:10.255305Z",
     "iopub.status.idle": "2022-10-16T05:15:10.829163Z",
     "shell.execute_reply": "2022-10-16T05:15:10.828259Z"
    },
    "papermill": {
     "duration": 0.584252,
     "end_time": "2022-10-16T05:15:10.831241",
     "exception": false,
     "start_time": "2022-10-16T05:15:10.246989",
     "status": "completed"
    },
    "tags": []
   },
   "outputs": [
    {
     "name": "stderr",
     "output_type": "stream",
     "text": [
      "2022-10-16 05:15:10.288943: I tensorflow/compiler/mlir/mlir_graph_optimization_pass.cc:185] None of the MLIR Optimization Passes are enabled (registered 2)\n",
      "Exception ignored in: <generator object data_gen at 0x7fcf6e427e50>\n",
      "RuntimeError: generator ignored GeneratorExit\n"
     ]
    },
    {
     "data": {
      "image/png": "[encoded data removed]",
      "text/plain": [
       "<Figure size 432x288 with 1 Axes>"
      ]
     },
     "metadata": {
      "needs_background": "light"
     },
     "output_type": "display_data"
    }
   ],
   "source": [
    "for i in dataset.skip(1).take(1):\n",
    "    plt.imshow(i[0]['input_1'])"
   ]
  },
  {
   "cell_type": "code",
   "execution_count": null,
   "id": "7e34a052",
   "metadata": {
    "papermill": {
     "duration": 0.00769,
     "end_time": "2022-10-16T05:15:10.847360",
     "exception": false,
     "start_time": "2022-10-16T05:15:10.839670",
     "status": "completed"
    },
    "tags": []
   },
   "outputs": [],
   "source": []
  },
  {
   "cell_type": "code",
   "execution_count": 14,
   "id": "969ecdd7",
   "metadata": {
    "execution": {
     "iopub.execute_input": "2022-10-16T05:15:10.864922Z",
     "iopub.status.busy": "2022-10-16T05:15:10.864056Z",
     "iopub.status.idle": "2022-10-16T05:15:10.919328Z",
     "shell.execute_reply": "2022-10-16T05:15:10.918453Z"
    },
    "papermill": {
     "duration": 0.066416,
     "end_time": "2022-10-16T05:15:10.921560",
     "exception": false,
     "start_time": "2022-10-16T05:15:10.855144",
     "status": "completed"
    },
    "tags": []
   },
   "outputs": [],
   "source": [
    "augment = tf.keras.Sequential([\n",
    "  keras.layers.RandomFlip(\"horizontal_and_vertical\"),\n",
    "  keras.layers.RandomRotation(0.4),\n",
    "  keras.layers.GaussianNoise(0.1),\n",
    "  keras.layers.RandomContrast(0.1, seed=2),\n",
    "  keras.layers.RandomZoom(\n",
    "    (-0.1, 0.1),\n",
    "    (-0.1, 0.1),\n",
    "    fill_mode='reflect',\n",
    "    interpolation='bilinear',\n",
    "    seed=3)\n",
    "])\n",
    "    "
   ]
  },
  {
   "cell_type": "code",
   "execution_count": 15,
   "id": "c8d5fcc9",
   "metadata": {
    "execution": {
     "iopub.execute_input": "2022-10-16T05:15:10.938783Z",
     "iopub.status.busy": "2022-10-16T05:15:10.938498Z",
     "iopub.status.idle": "2022-10-16T05:15:11.307455Z",
     "shell.execute_reply": "2022-10-16T05:15:11.306511Z"
    },
    "papermill": {
     "duration": 0.380155,
     "end_time": "2022-10-16T05:15:11.309797",
     "exception": false,
     "start_time": "2022-10-16T05:15:10.929642",
     "status": "completed"
    },
    "tags": []
   },
   "outputs": [],
   "source": [
    "dataset = dataset.map(lambda x, y, z: (augment(x['input_1']), y, z), \n",
    "              num_parallel_calls=tf.data.AUTOTUNE)\n",
    "dataset = dataset.batch(20)\n",
    "dataset = dataset.prefetch(1)\n",
    "\n",
    "\n",
    "testset = testset.batch(50)\n",
    "testset = testset.prefetch(1)"
   ]
  },
  {
   "cell_type": "code",
   "execution_count": 16,
   "id": "0d1f2cca",
   "metadata": {
    "execution": {
     "iopub.execute_input": "2022-10-16T05:15:11.327255Z",
     "iopub.status.busy": "2022-10-16T05:15:11.326967Z",
     "iopub.status.idle": "2022-10-16T05:15:15.345341Z",
     "shell.execute_reply": "2022-10-16T05:15:15.344373Z"
    },
    "papermill": {
     "duration": 4.029896,
     "end_time": "2022-10-16T05:15:15.347971",
     "exception": false,
     "start_time": "2022-10-16T05:15:11.318075",
     "status": "completed"
    },
    "tags": []
   },
   "outputs": [
    {
     "name": "stdout",
     "output_type": "stream",
     "text": [
      "Downloading data from https://storage.googleapis.com/keras-applications/efficientnetb2_notop.h5\n",
      "31793152/31790344 [==============================] - 0s 0us/step\n",
      "31801344/31790344 [==============================] - 0s 0us/step\n"
     ]
    }
   ],
   "source": [
    "res = tf.keras.applications.EfficientNetB2(\n",
    "    include_top=False,\n",
    "    weights=\"imagenet\",\n",
    "    pooling='avg',\n",
    "    input_shape=(256,256,3),\n",
    ")\n",
    "\n",
    "inputs = keras.Input((256, 256, 3), name = \"input_1\")\n",
    "x = res(inputs)\n",
    "x = keras.layers.Dropout(0.5)(x)\n",
    "x = keras.layers.Dense(128 ,activation = 'relu')(x)\n",
    "x = keras.layers.Dropout(0.5)(x)\n",
    "x = keras.layers.Dense(32 ,activation = 'relu')(x)\n",
    "x = keras.layers.Dropout(0.5)(x)\n",
    "\n",
    "outputo = keras.layers.Dense(1 ,activation = 'sigmoid', name=\"co\")(x)\n",
    "                                               \n",
    "model = keras.models.Model(inputs=inputs, outputs=outputo)\n"
   ]
  },
  {
   "cell_type": "code",
   "execution_count": 17,
   "id": "0dc48b53",
   "metadata": {
    "execution": {
     "iopub.execute_input": "2022-10-16T05:15:15.370951Z",
     "iopub.status.busy": "2022-10-16T05:15:15.369911Z",
     "iopub.status.idle": "2022-10-16T05:15:15.376301Z",
     "shell.execute_reply": "2022-10-16T05:15:15.373718Z"
    },
    "papermill": {
     "duration": 0.019204,
     "end_time": "2022-10-16T05:15:15.378433",
     "exception": false,
     "start_time": "2022-10-16T05:15:15.359229",
     "status": "completed"
    },
    "tags": []
   },
   "outputs": [],
   "source": [
    "def lr_schedule(epoch, lr):\n",
    "    return lr/(epoch+1)"
   ]
  },
  {
   "cell_type": "code",
   "execution_count": 18,
   "id": "516650ba",
   "metadata": {
    "execution": {
     "iopub.execute_input": "2022-10-16T05:15:15.398210Z",
     "iopub.status.busy": "2022-10-16T05:15:15.397936Z",
     "iopub.status.idle": "2022-10-16T05:15:15.427135Z",
     "shell.execute_reply": "2022-10-16T05:15:15.426283Z"
    },
    "papermill": {
     "duration": 0.041499,
     "end_time": "2022-10-16T05:15:15.429166",
     "exception": false,
     "start_time": "2022-10-16T05:15:15.387667",
     "status": "completed"
    },
    "tags": []
   },
   "outputs": [],
   "source": [
    "opt = tfa.optimizers.AdamW(\n",
    "    weight_decay=2e-4,\n",
    "    learning_rate = 0.001,\n",
    "    beta_1 = 0.9,\n",
    "    beta_2 = 0.999,\n",
    "    epsilon = 1e-07,\n",
    "    name = 'AdamW',\n",
    ")\n",
    "loss = tf.keras.losses.BinaryCrossentropy( \n",
    "    reduction=tf.keras.losses.Reduction.AUTO,\n",
    "    name='binary_crossentropy'\n",
    ")\n",
    "metrics = [tf.keras.metrics.AUC()]\n",
    "model.compile(optimizer=opt,\n",
    "              loss={\"co\": loss},\n",
    "                metrics={\"co\": metrics})"
   ]
  },
  {
   "cell_type": "code",
   "execution_count": 19,
   "id": "d4c302dd",
   "metadata": {
    "execution": {
     "iopub.execute_input": "2022-10-16T05:15:15.449308Z",
     "iopub.status.busy": "2022-10-16T05:15:15.449044Z",
     "iopub.status.idle": "2022-10-16T05:15:16.417234Z",
     "shell.execute_reply": "2022-10-16T05:15:16.415891Z"
    },
    "papermill": {
     "duration": 0.980909,
     "end_time": "2022-10-16T05:15:16.419821",
     "exception": false,
     "start_time": "2022-10-16T05:15:15.438912",
     "status": "completed"
    },
    "tags": []
   },
   "outputs": [],
   "source": [
    "!mkdir best_weights"
   ]
  },
  {
   "cell_type": "code",
   "execution_count": 20,
   "id": "9f1a52f2",
   "metadata": {
    "execution": {
     "iopub.execute_input": "2022-10-16T05:15:16.438985Z",
     "iopub.status.busy": "2022-10-16T05:15:16.437974Z",
     "iopub.status.idle": "2022-10-16T05:15:16.444516Z",
     "shell.execute_reply": "2022-10-16T05:15:16.443501Z"
    },
    "papermill": {
     "duration": 0.018382,
     "end_time": "2022-10-16T05:15:16.446622",
     "exception": false,
     "start_time": "2022-10-16T05:15:16.428240",
     "status": "completed"
    },
    "tags": []
   },
   "outputs": [],
   "source": [
    "model_checkpoint = tf.keras.callbacks.ModelCheckpoint(\n",
    "    filepath = './best_weights/model',\n",
    "    monitor=\"val_loss\",\n",
    "    save_best_only=True,\n",
    "    save_weights_only=True,\n",
    "    mode=\"auto\",\n",
    ")"
   ]
  },
  {
   "cell_type": "code",
   "execution_count": 21,
   "id": "65308900",
   "metadata": {
    "execution": {
     "iopub.execute_input": "2022-10-16T05:15:16.463985Z",
     "iopub.status.busy": "2022-10-16T05:15:16.463725Z",
     "iopub.status.idle": "2022-10-16T05:15:16.486398Z",
     "shell.execute_reply": "2022-10-16T05:15:16.485382Z"
    },
    "papermill": {
     "duration": 0.034123,
     "end_time": "2022-10-16T05:15:16.488914",
     "exception": false,
     "start_time": "2022-10-16T05:15:16.454791",
     "status": "completed"
    },
    "tags": []
   },
   "outputs": [
    {
     "name": "stdout",
     "output_type": "stream",
     "text": [
      "Model: \"model\"\n",
      "_________________________________________________________________\n",
      "Layer (type)                 Output Shape              Param #   \n",
      "=================================================================\n",
      "input_1 (InputLayer)         [(None, 256, 256, 3)]     0         \n",
      "_________________________________________________________________\n",
      "efficientnetb2 (Functional)  (None, 1408)              7768569   \n",
      "_________________________________________________________________\n",
      "dropout (Dropout)            (None, 1408)              0         \n",
      "_________________________________________________________________\n",
      "dense (Dense)                (None, 128)               180352    \n",
      "_________________________________________________________________\n",
      "dropout_1 (Dropout)          (None, 128)               0         \n",
      "_________________________________________________________________\n",
      "dense_1 (Dense)              (None, 32)                4128      \n",
      "_________________________________________________________________\n",
      "dropout_2 (Dropout)          (None, 32)                0         \n",
      "_________________________________________________________________\n",
      "co (Dense)                   (None, 1)                 33        \n",
      "=================================================================\n",
      "Total params: 7,953,082\n",
      "Trainable params: 7,885,507\n",
      "Non-trainable params: 67,575\n",
      "_________________________________________________________________\n"
     ]
    }
   ],
   "source": [
    "model.summary()"
   ]
  },
  {
   "cell_type": "code",
   "execution_count": 22,
   "id": "9ef27996",
   "metadata": {
    "execution": {
     "iopub.execute_input": "2022-10-16T05:15:16.506618Z",
     "iopub.status.busy": "2022-10-16T05:15:16.506359Z",
     "iopub.status.idle": "2022-10-16T06:53:08.714656Z",
     "shell.execute_reply": "2022-10-16T06:53:08.713655Z"
    },
    "papermill": {
     "duration": 5872.22246,
     "end_time": "2022-10-16T06:53:08.719601",
     "exception": false,
     "start_time": "2022-10-16T05:15:16.497141",
     "status": "completed"
    },
    "tags": []
   },
   "outputs": [
    {
     "name": "stdout",
     "output_type": "stream",
     "text": [
      "Epoch 1/8\n"
     ]
    },
    {
     "name": "stderr",
     "output_type": "stream",
     "text": [
      "2022-10-16 05:15:31.993762: I tensorflow/stream_executor/cuda/cuda_dnn.cc:369] Loaded cuDNN version 8005\n"
     ]
    },
    {
     "name": "stdout",
     "output_type": "stream",
     "text": [
      "853/853 [==============================] - 758s 864ms/step - loss: 0.9201 - auc: 0.5897 - val_loss: 1.9620 - val_auc: 0.5956\n",
      "Epoch 2/8\n",
      "853/853 [==============================] - 672s 788ms/step - loss: 0.8591 - auc: 0.6833 - val_loss: 0.9506 - val_auc: 0.5981\n",
      "Epoch 3/8\n",
      "853/853 [==============================] - 679s 797ms/step - loss: 0.8004 - auc: 0.7440 - val_loss: 0.9263 - val_auc: 0.5992\n",
      "Epoch 4/8\n",
      "853/853 [==============================] - 726s 851ms/step - loss: 0.7626 - auc: 0.7748 - val_loss: 0.9255 - val_auc: 0.5855\n",
      "Epoch 5/8\n",
      "853/853 [==============================] - 694s 813ms/step - loss: 0.7496 - auc: 0.7907 - val_loss: 0.9254 - val_auc: 0.5719\n",
      "Epoch 6/8\n",
      "853/853 [==============================] - 695s 815ms/step - loss: 0.7837 - auc: 0.7820 - val_loss: 0.9265 - val_auc: 0.5437\n",
      "Epoch 7/8\n",
      "853/853 [==============================] - 688s 806ms/step - loss: 0.8381 - auc: 0.7573 - val_loss: 0.9274 - val_auc: 0.5217\n",
      "Epoch 8/8\n",
      "853/853 [==============================] - 707s 828ms/step - loss: 0.8860 - auc: 0.7024 - val_loss: 0.9269 - val_auc: 0.5821\n"
     ]
    }
   ],
   "source": [
    "history = model.fit(dataset, validation_data = testset, epochs=8, callbacks=[model_checkpoint, tf.keras.callbacks.LearningRateScheduler(lr_schedule)])"
   ]
  },
  {
   "cell_type": "code",
   "execution_count": 23,
   "id": "3442522c",
   "metadata": {
    "execution": {
     "iopub.execute_input": "2022-10-16T06:53:09.473829Z",
     "iopub.status.busy": "2022-10-16T06:53:09.473462Z",
     "iopub.status.idle": "2022-10-16T06:53:10.569029Z",
     "shell.execute_reply": "2022-10-16T06:53:10.567683Z"
    },
    "papermill": {
     "duration": 1.458433,
     "end_time": "2022-10-16T06:53:10.571635",
     "exception": false,
     "start_time": "2022-10-16T06:53:09.113202",
     "status": "completed"
    },
    "tags": []
   },
   "outputs": [],
   "source": [
    "!mkdir final_model"
   ]
  },
  {
   "cell_type": "code",
   "execution_count": 24,
   "id": "2bb01e25",
   "metadata": {
    "execution": {
     "iopub.execute_input": "2022-10-16T06:53:11.390360Z",
     "iopub.status.busy": "2022-10-16T06:53:11.389226Z",
     "iopub.status.idle": "2022-10-16T06:54:09.747638Z",
     "shell.execute_reply": "2022-10-16T06:54:09.746584Z"
    },
    "papermill": {
     "duration": 58.722934,
     "end_time": "2022-10-16T06:54:09.750876",
     "exception": false,
     "start_time": "2022-10-16T06:53:11.027942",
     "status": "completed"
    },
    "tags": []
   },
   "outputs": [
    {
     "name": "stderr",
     "output_type": "stream",
     "text": [
      "2022-10-16 06:53:33.509743: W tensorflow/python/util/util.cc:348] Sets are not currently considered sequences, but this may change in the future, so consider avoiding using them.\n"
     ]
    }
   ],
   "source": [
    "model.load_weights('./best_weights/model').expect_partial()\n",
    "model.save(\"./final_model/model\")"
   ]
  },
  {
   "cell_type": "code",
   "execution_count": 25,
   "id": "f39e4121",
   "metadata": {
    "execution": {
     "iopub.execute_input": "2022-10-16T06:54:11.122075Z",
     "iopub.status.busy": "2022-10-16T06:54:11.121430Z",
     "iopub.status.idle": "2022-10-16T06:54:12.200719Z",
     "shell.execute_reply": "2022-10-16T06:54:12.199268Z"
    },
    "papermill": {
     "duration": 1.870347,
     "end_time": "2022-10-16T06:54:12.203436",
     "exception": false,
     "start_time": "2022-10-16T06:54:10.333089",
     "status": "completed"
    },
    "tags": []
   },
   "outputs": [],
   "source": [
    "!mkdir feature_extractor"
   ]
  },
  {
   "cell_type": "code",
   "execution_count": 26,
   "id": "9d85d882",
   "metadata": {
    "execution": {
     "iopub.execute_input": "2022-10-16T06:54:12.991557Z",
     "iopub.status.busy": "2022-10-16T06:54:12.991148Z",
     "iopub.status.idle": "2022-10-16T06:54:58.093399Z",
     "shell.execute_reply": "2022-10-16T06:54:58.092375Z"
    },
    "papermill": {
     "duration": 45.532793,
     "end_time": "2022-10-16T06:54:58.096215",
     "exception": false,
     "start_time": "2022-10-16T06:54:12.563422",
     "status": "completed"
    },
    "tags": []
   },
   "outputs": [],
   "source": [
    "res.save('./feature_extractor')"
   ]
  },
  {
   "cell_type": "code",
   "execution_count": null,
   "id": "d5d2e9c4",
   "metadata": {
    "papermill": {
     "duration": 0.359952,
     "end_time": "2022-10-16T06:54:58.818222",
     "exception": false,
     "start_time": "2022-10-16T06:54:58.458270",
     "status": "completed"
    },
    "tags": []
   },
   "outputs": [],
   "source": []
  }
 ],
 "metadata": {
  "kernelspec": {
   "display_name": "Python 3",
   "language": "python",
   "name": "python3"
  },
  "language_info": {
   "codemirror_mode": {
    "name": "ipython",
    "version": 3
   },
   "file_extension": ".py",
   "mimetype": "text/x-python",
   "name": "python",
   "nbconvert_exporter": "python",
   "pygments_lexer": "ipython3",
   "version": "3.7.12"
  },
  "papermill": {
   "default_parameters": {},
   "duration": 6033.720781,
   "end_time": "2022-10-16T06:55:02.901608",
   "environment_variables": {},
   "exception": null,
   "input_path": "__notebook__.ipynb",
   "output_path": "__notebook__.ipynb",
   "parameters": {},
   "start_time": "2022-10-16T05:14:29.180827",
   "version": "2.3.4"
  }
 },
 "nbformat": 4,
 "nbformat_minor": 5
}
