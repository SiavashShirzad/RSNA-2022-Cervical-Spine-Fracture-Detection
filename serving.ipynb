{
 "cells": [
  {
   "cell_type": "code",
   "execution_count": 1,
   "id": "259c1616",
   "metadata": {
    "_cell_guid": "b1076dfc-b9ad-4769-8c92-a6c4dae69d19",
    "_uuid": "8f2839f25d086af736a60e9eeb907d3b93b6e0e5",
    "execution": {
     "iopub.execute_input": "2022-10-12T12:59:23.963834Z",
     "iopub.status.busy": "2022-10-12T12:59:23.963121Z",
     "iopub.status.idle": "2022-10-12T12:59:55.118415Z",
     "shell.execute_reply": "2022-10-12T12:59:55.117276Z"
    },
    "papermill": {
     "duration": 31.163732,
     "end_time": "2022-10-12T12:59:55.121162",
     "exception": false,
     "start_time": "2022-10-12T12:59:23.957430",
     "status": "completed"
    },
    "tags": []
   },
   "outputs": [
    {
     "name": "stdout",
     "output_type": "stream",
     "text": [
      "Looking in links: /kaggle/input/frozen-packages-for-offline-use/frozen_packages\r\n",
      "Processing /kaggle/input/frozen-packages-for-offline-use/frozen_packages/pylibjpeg-1.4.0-py3-none-any.whl\r\n",
      "Requirement already satisfied: numpy in /opt/conda/lib/python3.7/site-packages (from pylibjpeg) (1.21.6)\r\n",
      "Installing collected packages: pylibjpeg\r\n",
      "Successfully installed pylibjpeg-1.4.0\r\n",
      "\u001b[33mWARNING: Running pip as the 'root' user can result in broken permissions and conflicting behaviour with the system package manager. It is recommended to use a virtual environment instead: https://pip.pypa.io/warnings/venv\u001b[0m\u001b[33m\r\n",
      "\u001b[0mLooking in links: /kaggle/input/frozen-packages-for-offline-use/frozen_packages\r\n",
      "Processing /kaggle/input/frozen-packages-for-offline-use/frozen_packages/python_gdcm-3.0.15-cp37-cp37m-manylinux_2_17_x86_64.manylinux2014_x86_64.whl\r\n",
      "Installing collected packages: python-gdcm\r\n",
      "Successfully installed python-gdcm-3.0.15\r\n",
      "\u001b[33mWARNING: Running pip as the 'root' user can result in broken permissions and conflicting behaviour with the system package manager. It is recommended to use a virtual environment instead: https://pip.pypa.io/warnings/venv\u001b[0m\u001b[33m\r\n",
      "\u001b[0mLooking in links: /kaggle/input/frozen-packages-for-offline-use/frozen_packages\r\n",
      "Processing /kaggle/input/frozen-packages-for-offline-use/frozen_packages/pylibjpeg_libjpeg-1.3.1-cp37-cp37m-manylinux_2_17_x86_64.manylinux2014_x86_64.whl\r\n",
      "Requirement already satisfied: numpy>=1.20 in /opt/conda/lib/python3.7/site-packages (from pylibjpeg-libjpeg) (1.21.6)\r\n",
      "Installing collected packages: pylibjpeg-libjpeg\r\n",
      "Successfully installed pylibjpeg-libjpeg-1.3.1\r\n",
      "\u001b[33mWARNING: Running pip as the 'root' user can result in broken permissions and conflicting behaviour with the system package manager. It is recommended to use a virtual environment instead: https://pip.pypa.io/warnings/venv\u001b[0m\u001b[33m\r\n",
      "\u001b[0m"
     ]
    }
   ],
   "source": [
    "!pip install pylibjpeg --find-links /kaggle/input/frozen-packages-for-offline-use/frozen_packages --no-index\n",
    "!pip install python-gdcm --find-links /kaggle/input/frozen-packages-for-offline-use/frozen_packages --no-index\n",
    "!pip install pylibjpeg-libjpeg --find-links /kaggle/input/frozen-packages-for-offline-use/frozen_packages --no-index"
   ]
  },
  {
   "cell_type": "code",
   "execution_count": 2,
   "id": "157d920b",
   "metadata": {
    "execution": {
     "iopub.execute_input": "2022-10-12T12:59:55.131491Z",
     "iopub.status.busy": "2022-10-12T12:59:55.131140Z",
     "iopub.status.idle": "2022-10-12T13:00:02.113942Z",
     "shell.execute_reply": "2022-10-12T13:00:02.112988Z"
    },
    "papermill": {
     "duration": 6.990537,
     "end_time": "2022-10-12T13:00:02.116373",
     "exception": false,
     "start_time": "2022-10-12T12:59:55.125836",
     "status": "completed"
    },
    "tags": []
   },
   "outputs": [],
   "source": [
    "import pandas as pd\n",
    "import numpy as np\n",
    "import tensorflow as tf\n",
    "import matplotlib.pyplot as plt\n",
    "import pydicom\n",
    "import os\n",
    "import nibabel as nib\n",
    "import SimpleITK as sitk\n",
    "from tqdm import tqdm\n",
    "from tensorflow import keras\n",
    "from keras import layers, models\n",
    "import tensorflow_io as tfio\n",
    "import cv2\n",
    "import warnings\n",
    "warnings.filterwarnings('ignore')\n",
    "from skimage.transform import resize\n",
    "from tqdm import tqdm\n",
    "import tensorflow_addons as tfa"
   ]
  },
  {
   "cell_type": "code",
   "execution_count": 3,
   "id": "4443be42",
   "metadata": {
    "execution": {
     "iopub.execute_input": "2022-10-12T13:00:02.126854Z",
     "iopub.status.busy": "2022-10-12T13:00:02.125763Z",
     "iopub.status.idle": "2022-10-12T13:00:02.131236Z",
     "shell.execute_reply": "2022-10-12T13:00:02.130168Z"
    },
    "papermill": {
     "duration": 0.012781,
     "end_time": "2022-10-12T13:00:02.133405",
     "exception": false,
     "start_time": "2022-10-12T13:00:02.120624",
     "status": "completed"
    },
    "tags": []
   },
   "outputs": [],
   "source": [
    "def load_image(path):\n",
    "    img = pydicom.read_file(path)\n",
    "    img = img.pixel_array\n",
    "    return cv2.resize(img[35:-35,35:-35], (160,160))"
   ]
  },
  {
   "cell_type": "code",
   "execution_count": 4,
   "id": "ab9d7187",
   "metadata": {
    "execution": {
     "iopub.execute_input": "2022-10-12T13:00:02.142619Z",
     "iopub.status.busy": "2022-10-12T13:00:02.142318Z",
     "iopub.status.idle": "2022-10-12T13:00:02.147308Z",
     "shell.execute_reply": "2022-10-12T13:00:02.145988Z"
    },
    "papermill": {
     "duration": 0.011758,
     "end_time": "2022-10-12T13:00:02.149272",
     "exception": false,
     "start_time": "2022-10-12T13:00:02.137514",
     "status": "completed"
    },
    "tags": []
   },
   "outputs": [],
   "source": [
    "def window(img):\n",
    "    img[np.where(img>1900)]=1900\n",
    "    img[np.where(img<0)]=0\n",
    "    return img/1900.0"
   ]
  },
  {
   "cell_type": "code",
   "execution_count": 5,
   "id": "f953dbc3",
   "metadata": {
    "execution": {
     "iopub.execute_input": "2022-10-12T13:00:02.158956Z",
     "iopub.status.busy": "2022-10-12T13:00:02.158704Z",
     "iopub.status.idle": "2022-10-12T13:00:02.162875Z",
     "shell.execute_reply": "2022-10-12T13:00:02.161870Z"
    },
    "papermill": {
     "duration": 0.011471,
     "end_time": "2022-10-12T13:00:02.165075",
     "exception": false,
     "start_time": "2022-10-12T13:00:02.153604",
     "status": "completed"
    },
    "tags": []
   },
   "outputs": [],
   "source": [
    "def channeling(img):\n",
    "    \n",
    "    return np.stack([img, img, img], axis=-1)"
   ]
  },
  {
   "cell_type": "code",
   "execution_count": 6,
   "id": "4616b140",
   "metadata": {
    "execution": {
     "iopub.execute_input": "2022-10-12T13:00:02.174183Z",
     "iopub.status.busy": "2022-10-12T13:00:02.173934Z",
     "iopub.status.idle": "2022-10-12T13:00:02.181040Z",
     "shell.execute_reply": "2022-10-12T13:00:02.180082Z"
    },
    "papermill": {
     "duration": 0.013653,
     "end_time": "2022-10-12T13:00:02.182798",
     "exception": false,
     "start_time": "2022-10-12T13:00:02.169145",
     "status": "completed"
    },
    "tags": []
   },
   "outputs": [],
   "source": [
    "def extract(path):\n",
    "   \n",
    "    final_ct = load_image(path+\"/\"+\"1.dcm\").reshape(1,160,160)\n",
    "    for image in range(1, len(os.listdir(path))):\n",
    "        img = load_image(path+\"/\"+str(image)+\".dcm\").reshape(1,160,160)\n",
    "        final_ct = np.append(final_ct, img, axis=0)\n",
    "        \n",
    "    resized_final_ct = cv2.resize(final_ct[:,:,0], (160,160)).reshape(1,160,160)\n",
    "    for i in range(1,final_ct.shape[1]):\n",
    "        resized_final_ct = np.append(resized_final_ct, cv2.resize(final_ct[:,:,i], (160,160)).reshape(1,160,160), axis=0)\n",
    "  \n",
    "    resized_final_ct = np.transpose(resized_final_ct,axes=[1,0,2])[30:130]\n",
    "    return window(channeling(resized_final_ct))"
   ]
  },
  {
   "cell_type": "code",
   "execution_count": 7,
   "id": "2b05b275",
   "metadata": {
    "execution": {
     "iopub.execute_input": "2022-10-12T13:00:02.193201Z",
     "iopub.status.busy": "2022-10-12T13:00:02.191817Z",
     "iopub.status.idle": "2022-10-12T13:00:45.857620Z",
     "shell.execute_reply": "2022-10-12T13:00:45.856578Z"
    },
    "papermill": {
     "duration": 43.673217,
     "end_time": "2022-10-12T13:00:45.860118",
     "exception": false,
     "start_time": "2022-10-12T13:00:02.186901",
     "status": "completed"
    },
    "tags": []
   },
   "outputs": [
    {
     "name": "stderr",
     "output_type": "stream",
     "text": [
      "2022-10-12 13:00:03.023456: I tensorflow/stream_executor/cuda/cuda_gpu_executor.cc:937] successful NUMA node read from SysFS had negative value (-1), but there must be at least one NUMA node, so returning NUMA node zero\n",
      "2022-10-12 13:00:03.119876: I tensorflow/stream_executor/cuda/cuda_gpu_executor.cc:937] successful NUMA node read from SysFS had negative value (-1), but there must be at least one NUMA node, so returning NUMA node zero\n",
      "2022-10-12 13:00:03.120724: I tensorflow/stream_executor/cuda/cuda_gpu_executor.cc:937] successful NUMA node read from SysFS had negative value (-1), but there must be at least one NUMA node, so returning NUMA node zero\n",
      "2022-10-12 13:00:03.122461: I tensorflow/core/platform/cpu_feature_guard.cc:142] This TensorFlow binary is optimized with oneAPI Deep Neural Network Library (oneDNN) to use the following CPU instructions in performance-critical operations:  AVX2 AVX512F FMA\n",
      "To enable them in other operations, rebuild TensorFlow with the appropriate compiler flags.\n",
      "2022-10-12 13:00:03.122797: I tensorflow/stream_executor/cuda/cuda_gpu_executor.cc:937] successful NUMA node read from SysFS had negative value (-1), but there must be at least one NUMA node, so returning NUMA node zero\n",
      "2022-10-12 13:00:03.123531: I tensorflow/stream_executor/cuda/cuda_gpu_executor.cc:937] successful NUMA node read from SysFS had negative value (-1), but there must be at least one NUMA node, so returning NUMA node zero\n",
      "2022-10-12 13:00:03.124182: I tensorflow/stream_executor/cuda/cuda_gpu_executor.cc:937] successful NUMA node read from SysFS had negative value (-1), but there must be at least one NUMA node, so returning NUMA node zero\n",
      "2022-10-12 13:00:05.305819: I tensorflow/stream_executor/cuda/cuda_gpu_executor.cc:937] successful NUMA node read from SysFS had negative value (-1), but there must be at least one NUMA node, so returning NUMA node zero\n",
      "2022-10-12 13:00:05.306729: I tensorflow/stream_executor/cuda/cuda_gpu_executor.cc:937] successful NUMA node read from SysFS had negative value (-1), but there must be at least one NUMA node, so returning NUMA node zero\n",
      "2022-10-12 13:00:05.307414: I tensorflow/stream_executor/cuda/cuda_gpu_executor.cc:937] successful NUMA node read from SysFS had negative value (-1), but there must be at least one NUMA node, so returning NUMA node zero\n",
      "2022-10-12 13:00:05.308017: I tensorflow/core/common_runtime/gpu/gpu_device.cc:1510] Created device /job:localhost/replica:0/task:0/device:GPU:0 with 15401 MB memory:  -> device: 0, name: Tesla P100-PCIE-16GB, pci bus id: 0000:00:04.0, compute capability: 6.0\n"
     ]
    }
   ],
   "source": [
    "model = tf.keras.models.load_model('../input/rsna-image-classification/final_model/model')"
   ]
  },
  {
   "cell_type": "code",
   "execution_count": 8,
   "id": "917a852a",
   "metadata": {
    "execution": {
     "iopub.execute_input": "2022-10-12T13:00:45.870409Z",
     "iopub.status.busy": "2022-10-12T13:00:45.870074Z",
     "iopub.status.idle": "2022-10-12T13:00:47.091199Z",
     "shell.execute_reply": "2022-10-12T13:00:47.090236Z"
    },
    "papermill": {
     "duration": 1.228787,
     "end_time": "2022-10-12T13:00:47.093566",
     "exception": false,
     "start_time": "2022-10-12T13:00:45.864779",
     "status": "completed"
    },
    "tags": []
   },
   "outputs": [],
   "source": [
    "inputs = tf.keras.layers.Input(shape=(160, 160, 3),name= \"input_2\")\n",
    "x = model.get_layer(\"input_1\")(inputs)\n",
    "x = model.get_layer(\"densenet201\")(x)\n",
    "class_model = tf.keras.Model(inputs=inputs, outputs=x)\n"
   ]
  },
  {
   "cell_type": "code",
   "execution_count": 9,
   "id": "d849dd35",
   "metadata": {
    "execution": {
     "iopub.execute_input": "2022-10-12T13:00:47.103525Z",
     "iopub.status.busy": "2022-10-12T13:00:47.103212Z",
     "iopub.status.idle": "2022-10-12T13:00:48.007243Z",
     "shell.execute_reply": "2022-10-12T13:00:48.005430Z"
    },
    "papermill": {
     "duration": 0.911315,
     "end_time": "2022-10-12T13:00:48.009329",
     "exception": false,
     "start_time": "2022-10-12T13:00:47.098014",
     "status": "completed"
    },
    "tags": []
   },
   "outputs": [
    {
     "name": "stdout",
     "output_type": "stream",
     "text": [
      "Model: \"model\"\n",
      "_________________________________________________________________\n",
      "Layer (type)                 Output Shape              Param #   \n",
      "=================================================================\n",
      "input_2 (InputLayer)         [(None, 160, 160, 3)]     0         \n",
      "_________________________________________________________________\n",
      "input_1 (InputLayer)         multiple                  0         \n",
      "_________________________________________________________________\n",
      "densenet201 (Functional)     (None, 1920)              18321984  \n",
      "=================================================================\n",
      "Total params: 18,321,984\n",
      "Trainable params: 18,092,928\n",
      "Non-trainable params: 229,056\n",
      "_________________________________________________________________\n"
     ]
    }
   ],
   "source": [
    "class_model.summary()"
   ]
  },
  {
   "cell_type": "code",
   "execution_count": 10,
   "id": "1569d7cd",
   "metadata": {
    "execution": {
     "iopub.execute_input": "2022-10-12T13:00:48.019575Z",
     "iopub.status.busy": "2022-10-12T13:00:48.019221Z",
     "iopub.status.idle": "2022-10-12T13:01:12.022976Z",
     "shell.execute_reply": "2022-10-12T13:01:12.022007Z"
    },
    "papermill": {
     "duration": 24.011662,
     "end_time": "2022-10-12T13:01:12.025533",
     "exception": false,
     "start_time": "2022-10-12T13:00:48.013871",
     "status": "completed"
    },
    "tags": []
   },
   "outputs": [],
   "source": [
    "input1 = keras.Input((100, 1920))\n",
    "\n",
    "s3 = keras.layers.Bidirectional(keras.layers.LSTM(1920, return_sequences=True))(input1)\n",
    "s3 = keras.layers.Bidirectional(keras.layers.LSTM(1920, return_sequences=False))(s3)\n",
    "s3 = keras.layers.Dense(512, activation='relu')(s3)\n",
    "s3 = keras.layers.BatchNormalization()(s3)\n",
    "s3 = keras.layers.Dense(128, activation='relu')(s3)\n",
    "s3 = keras.layers.BatchNormalization()(s3)\n",
    "s3 = keras.layers.Dense(32, activation='relu')(s3)\n",
    "\n",
    "outputo = keras.layers.Dense(1 ,activation = 'sigmoid', name=\"co\")(s3)\n",
    "output1 = keras.layers.Dense(1 ,activation = 'sigmoid', name=\"c1\")(s3)\n",
    "output2 = keras.layers.Dense(1 ,activation = 'sigmoid', name=\"c2\")(s3)\n",
    "output3 = keras.layers.Dense(1 ,activation = 'sigmoid', name=\"c3\")(s3)\n",
    "output4 = keras.layers.Dense(1 ,activation = 'sigmoid', name=\"c4\")(s3)\n",
    "output5 = keras.layers.Dense(1 ,activation = 'sigmoid', name=\"c5\")(s3)\n",
    "output6 = keras.layers.Dense(1 ,activation = 'sigmoid', name=\"c6\")(s3)\n",
    "output7 = keras.layers.Dense(1 ,activation = 'sigmoid', name=\"c7\")(s3)\n",
    "                                               \n",
    "s_model = keras.models.Model(inputs=input1, outputs=[outputo,output1,output2,output3,output4,output5,output6,output7])"
   ]
  },
  {
   "cell_type": "code",
   "execution_count": 11,
   "id": "f4825508",
   "metadata": {
    "execution": {
     "iopub.execute_input": "2022-10-12T13:01:12.037518Z",
     "iopub.status.busy": "2022-10-12T13:01:12.035803Z",
     "iopub.status.idle": "2022-10-12T13:01:15.025796Z",
     "shell.execute_reply": "2022-10-12T13:01:15.024907Z"
    },
    "papermill": {
     "duration": 2.997742,
     "end_time": "2022-10-12T13:01:15.028077",
     "exception": false,
     "start_time": "2022-10-12T13:01:12.030335",
     "status": "completed"
    },
    "tags": []
   },
   "outputs": [
    {
     "data": {
      "text/plain": [
       "<tensorflow.python.training.tracking.util.CheckpointLoadStatus at 0x7fcd4714fed0>"
      ]
     },
     "execution_count": 11,
     "metadata": {},
     "output_type": "execute_result"
    }
   ],
   "source": [
    "s_model.load_weights(\"../input/s-model-v1/final_model/model\")"
   ]
  },
  {
   "cell_type": "code",
   "execution_count": 12,
   "id": "b5f68bbd",
   "metadata": {
    "execution": {
     "iopub.execute_input": "2022-10-12T13:01:15.040076Z",
     "iopub.status.busy": "2022-10-12T13:01:15.038462Z",
     "iopub.status.idle": "2022-10-12T13:01:15.046699Z",
     "shell.execute_reply": "2022-10-12T13:01:15.045677Z"
    },
    "papermill": {
     "duration": 0.0169,
     "end_time": "2022-10-12T13:01:15.049679",
     "exception": false,
     "start_time": "2022-10-12T13:01:15.032779",
     "status": "completed"
    },
    "tags": []
   },
   "outputs": [
    {
     "name": "stdout",
     "output_type": "stream",
     "text": [
      "Model: \"model_1\"\n",
      "__________________________________________________________________________________________________\n",
      "Layer (type)                    Output Shape         Param #     Connected to                     \n",
      "==================================================================================================\n",
      "input_1 (InputLayer)            [(None, 100, 1920)]  0                                            \n",
      "__________________________________________________________________________________________________\n",
      "bidirectional (Bidirectional)   (None, 100, 3840)    58997760    input_1[0][0]                    \n",
      "__________________________________________________________________________________________________\n",
      "bidirectional_1 (Bidirectional) (None, 3840)         88488960    bidirectional[0][0]              \n",
      "__________________________________________________________________________________________________\n",
      "dense (Dense)                   (None, 512)          1966592     bidirectional_1[0][0]            \n",
      "__________________________________________________________________________________________________\n",
      "batch_normalization (BatchNorma (None, 512)          2048        dense[0][0]                      \n",
      "__________________________________________________________________________________________________\n",
      "dense_1 (Dense)                 (None, 128)          65664       batch_normalization[0][0]        \n",
      "__________________________________________________________________________________________________\n",
      "batch_normalization_1 (BatchNor (None, 128)          512         dense_1[0][0]                    \n",
      "__________________________________________________________________________________________________\n",
      "dense_2 (Dense)                 (None, 32)           4128        batch_normalization_1[0][0]      \n",
      "__________________________________________________________________________________________________\n",
      "co (Dense)                      (None, 1)            33          dense_2[0][0]                    \n",
      "__________________________________________________________________________________________________\n",
      "c1 (Dense)                      (None, 1)            33          dense_2[0][0]                    \n",
      "__________________________________________________________________________________________________\n",
      "c2 (Dense)                      (None, 1)            33          dense_2[0][0]                    \n",
      "__________________________________________________________________________________________________\n",
      "c3 (Dense)                      (None, 1)            33          dense_2[0][0]                    \n",
      "__________________________________________________________________________________________________\n",
      "c4 (Dense)                      (None, 1)            33          dense_2[0][0]                    \n",
      "__________________________________________________________________________________________________\n",
      "c5 (Dense)                      (None, 1)            33          dense_2[0][0]                    \n",
      "__________________________________________________________________________________________________\n",
      "c6 (Dense)                      (None, 1)            33          dense_2[0][0]                    \n",
      "__________________________________________________________________________________________________\n",
      "c7 (Dense)                      (None, 1)            33          dense_2[0][0]                    \n",
      "==================================================================================================\n",
      "Total params: 149,525,928\n",
      "Trainable params: 149,524,648\n",
      "Non-trainable params: 1,280\n",
      "__________________________________________________________________________________________________\n"
     ]
    }
   ],
   "source": [
    "s_model.summary()"
   ]
  },
  {
   "cell_type": "code",
   "execution_count": 13,
   "id": "148e1fd7",
   "metadata": {
    "execution": {
     "iopub.execute_input": "2022-10-12T13:01:15.065250Z",
     "iopub.status.busy": "2022-10-12T13:01:15.064874Z",
     "iopub.status.idle": "2022-10-12T13:01:49.209374Z",
     "shell.execute_reply": "2022-10-12T13:01:49.208423Z"
    },
    "papermill": {
     "duration": 34.154146,
     "end_time": "2022-10-12T13:01:49.211931",
     "exception": false,
     "start_time": "2022-10-12T13:01:15.057785",
     "status": "completed"
    },
    "tags": []
   },
   "outputs": [
    {
     "name": "stderr",
     "output_type": "stream",
     "text": [
      "2022-10-12 13:01:18.906038: I tensorflow/compiler/mlir/mlir_graph_optimization_pass.cc:185] None of the MLIR Optimization Passes are enabled (registered 2)\n",
      "2022-10-12 13:01:22.365911: I tensorflow/stream_executor/cuda/cuda_dnn.cc:369] Loaded cuDNN version 8005\n"
     ]
    }
   ],
   "source": [
    "patient_pred = {}\n",
    "UIDs = os.listdir(\"../input/rsna-2022-cervical-spine-fracture-detection/test_images\")\n",
    "for p in UIDs:\n",
    "    path = \"../input/rsna-2022-cervical-spine-fracture-detection/test_images/\"+p+\"/\"\n",
    "    try:\n",
    "        ct = extract(path)\n",
    "        pred_features = class_model.predict(ct)\n",
    "        pred = s_model.predict(pred_features.reshape(1,100,1920))\n",
    "        for i in range(1, 9):\n",
    "            if i==8:\n",
    "                patient_pred[p+\"_\"+\"patient_overall\"] = pred[0][0][0]\n",
    "                break\n",
    "            else:\n",
    "                patient_pred[p+\"_\"+\"C\"+str(i)] = pred[i][0][0]\n",
    "    except:\n",
    "        continue"
   ]
  },
  {
   "cell_type": "code",
   "execution_count": 14,
   "id": "5b302fba",
   "metadata": {
    "execution": {
     "iopub.execute_input": "2022-10-12T13:01:49.224152Z",
     "iopub.status.busy": "2022-10-12T13:01:49.222692Z",
     "iopub.status.idle": "2022-10-12T13:01:49.245653Z",
     "shell.execute_reply": "2022-10-12T13:01:49.244237Z"
    },
    "papermill": {
     "duration": 0.031428,
     "end_time": "2022-10-12T13:01:49.248319",
     "exception": false,
     "start_time": "2022-10-12T13:01:49.216891",
     "status": "completed"
    },
    "tags": []
   },
   "outputs": [
    {
     "data": {
      "text/html": [
       "<div>\n",
       "<style scoped>\n",
       "    .dataframe tbody tr th:only-of-type {\n",
       "        vertical-align: middle;\n",
       "    }\n",
       "\n",
       "    .dataframe tbody tr th {\n",
       "        vertical-align: top;\n",
       "    }\n",
       "\n",
       "    .dataframe thead th {\n",
       "        text-align: right;\n",
       "    }\n",
       "</style>\n",
       "<table border=\"1\" class=\"dataframe\">\n",
       "  <thead>\n",
       "    <tr style=\"text-align: right;\">\n",
       "      <th></th>\n",
       "      <th>row_id</th>\n",
       "      <th>fractured</th>\n",
       "    </tr>\n",
       "  </thead>\n",
       "  <tbody>\n",
       "    <tr>\n",
       "      <th>0</th>\n",
       "      <td>1.2.826.0.1.3680043.22327_C1</td>\n",
       "      <td>0.064004</td>\n",
       "    </tr>\n",
       "    <tr>\n",
       "      <th>1</th>\n",
       "      <td>1.2.826.0.1.3680043.22327_C2</td>\n",
       "      <td>0.251671</td>\n",
       "    </tr>\n",
       "    <tr>\n",
       "      <th>2</th>\n",
       "      <td>1.2.826.0.1.3680043.22327_C3</td>\n",
       "      <td>0.137909</td>\n",
       "    </tr>\n",
       "    <tr>\n",
       "      <th>3</th>\n",
       "      <td>1.2.826.0.1.3680043.22327_C4</td>\n",
       "      <td>0.252385</td>\n",
       "    </tr>\n",
       "    <tr>\n",
       "      <th>4</th>\n",
       "      <td>1.2.826.0.1.3680043.22327_C5</td>\n",
       "      <td>0.078569</td>\n",
       "    </tr>\n",
       "    <tr>\n",
       "      <th>5</th>\n",
       "      <td>1.2.826.0.1.3680043.22327_C6</td>\n",
       "      <td>0.311966</td>\n",
       "    </tr>\n",
       "    <tr>\n",
       "      <th>6</th>\n",
       "      <td>1.2.826.0.1.3680043.22327_C7</td>\n",
       "      <td>0.074957</td>\n",
       "    </tr>\n",
       "    <tr>\n",
       "      <th>7</th>\n",
       "      <td>1.2.826.0.1.3680043.22327_patient_overall</td>\n",
       "      <td>0.515936</td>\n",
       "    </tr>\n",
       "    <tr>\n",
       "      <th>8</th>\n",
       "      <td>1.2.826.0.1.3680043.25399_C1</td>\n",
       "      <td>0.064250</td>\n",
       "    </tr>\n",
       "    <tr>\n",
       "      <th>9</th>\n",
       "      <td>1.2.826.0.1.3680043.25399_C2</td>\n",
       "      <td>0.216697</td>\n",
       "    </tr>\n",
       "    <tr>\n",
       "      <th>10</th>\n",
       "      <td>1.2.826.0.1.3680043.25399_C3</td>\n",
       "      <td>0.126604</td>\n",
       "    </tr>\n",
       "    <tr>\n",
       "      <th>11</th>\n",
       "      <td>1.2.826.0.1.3680043.25399_C4</td>\n",
       "      <td>0.240103</td>\n",
       "    </tr>\n",
       "    <tr>\n",
       "      <th>12</th>\n",
       "      <td>1.2.826.0.1.3680043.25399_C5</td>\n",
       "      <td>0.075736</td>\n",
       "    </tr>\n",
       "    <tr>\n",
       "      <th>13</th>\n",
       "      <td>1.2.826.0.1.3680043.25399_C6</td>\n",
       "      <td>0.315281</td>\n",
       "    </tr>\n",
       "    <tr>\n",
       "      <th>14</th>\n",
       "      <td>1.2.826.0.1.3680043.25399_C7</td>\n",
       "      <td>0.076425</td>\n",
       "    </tr>\n",
       "    <tr>\n",
       "      <th>15</th>\n",
       "      <td>1.2.826.0.1.3680043.25399_patient_overall</td>\n",
       "      <td>0.498472</td>\n",
       "    </tr>\n",
       "    <tr>\n",
       "      <th>16</th>\n",
       "      <td>1.2.826.0.1.3680043.5876_C1</td>\n",
       "      <td>0.087101</td>\n",
       "    </tr>\n",
       "    <tr>\n",
       "      <th>17</th>\n",
       "      <td>1.2.826.0.1.3680043.5876_C2</td>\n",
       "      <td>0.174285</td>\n",
       "    </tr>\n",
       "    <tr>\n",
       "      <th>18</th>\n",
       "      <td>1.2.826.0.1.3680043.5876_C3</td>\n",
       "      <td>0.142186</td>\n",
       "    </tr>\n",
       "    <tr>\n",
       "      <th>19</th>\n",
       "      <td>1.2.826.0.1.3680043.5876_C4</td>\n",
       "      <td>0.169556</td>\n",
       "    </tr>\n",
       "    <tr>\n",
       "      <th>20</th>\n",
       "      <td>1.2.826.0.1.3680043.5876_C5</td>\n",
       "      <td>0.096156</td>\n",
       "    </tr>\n",
       "    <tr>\n",
       "      <th>21</th>\n",
       "      <td>1.2.826.0.1.3680043.5876_C6</td>\n",
       "      <td>0.304201</td>\n",
       "    </tr>\n",
       "    <tr>\n",
       "      <th>22</th>\n",
       "      <td>1.2.826.0.1.3680043.5876_C7</td>\n",
       "      <td>0.153950</td>\n",
       "    </tr>\n",
       "    <tr>\n",
       "      <th>23</th>\n",
       "      <td>1.2.826.0.1.3680043.5876_patient_overall</td>\n",
       "      <td>0.331401</td>\n",
       "    </tr>\n",
       "  </tbody>\n",
       "</table>\n",
       "</div>"
      ],
      "text/plain": [
       "                                       row_id  fractured\n",
       "0                1.2.826.0.1.3680043.22327_C1   0.064004\n",
       "1                1.2.826.0.1.3680043.22327_C2   0.251671\n",
       "2                1.2.826.0.1.3680043.22327_C3   0.137909\n",
       "3                1.2.826.0.1.3680043.22327_C4   0.252385\n",
       "4                1.2.826.0.1.3680043.22327_C5   0.078569\n",
       "5                1.2.826.0.1.3680043.22327_C6   0.311966\n",
       "6                1.2.826.0.1.3680043.22327_C7   0.074957\n",
       "7   1.2.826.0.1.3680043.22327_patient_overall   0.515936\n",
       "8                1.2.826.0.1.3680043.25399_C1   0.064250\n",
       "9                1.2.826.0.1.3680043.25399_C2   0.216697\n",
       "10               1.2.826.0.1.3680043.25399_C3   0.126604\n",
       "11               1.2.826.0.1.3680043.25399_C4   0.240103\n",
       "12               1.2.826.0.1.3680043.25399_C5   0.075736\n",
       "13               1.2.826.0.1.3680043.25399_C6   0.315281\n",
       "14               1.2.826.0.1.3680043.25399_C7   0.076425\n",
       "15  1.2.826.0.1.3680043.25399_patient_overall   0.498472\n",
       "16                1.2.826.0.1.3680043.5876_C1   0.087101\n",
       "17                1.2.826.0.1.3680043.5876_C2   0.174285\n",
       "18                1.2.826.0.1.3680043.5876_C3   0.142186\n",
       "19                1.2.826.0.1.3680043.5876_C4   0.169556\n",
       "20                1.2.826.0.1.3680043.5876_C5   0.096156\n",
       "21                1.2.826.0.1.3680043.5876_C6   0.304201\n",
       "22                1.2.826.0.1.3680043.5876_C7   0.153950\n",
       "23   1.2.826.0.1.3680043.5876_patient_overall   0.331401"
      ]
     },
     "execution_count": 14,
     "metadata": {},
     "output_type": "execute_result"
    }
   ],
   "source": [
    "submission  = pd.DataFrame.from_dict({\"row_id\": patient_pred.keys(), \"fractured\": patient_pred.values()})\n",
    "submission.to_csv('./submission.csv', index=False)\n",
    "submission"
   ]
  },
  {
   "cell_type": "code",
   "execution_count": null,
   "id": "fdc50233",
   "metadata": {
    "papermill": {
     "duration": 0.004611,
     "end_time": "2022-10-12T13:01:49.257778",
     "exception": false,
     "start_time": "2022-10-12T13:01:49.253167",
     "status": "completed"
    },
    "tags": []
   },
   "outputs": [],
   "source": []
  }
 ],
 "metadata": {
  "kernelspec": {
   "display_name": "Python 3",
   "language": "python",
   "name": "python3"
  },
  "language_info": {
   "codemirror_mode": {
    "name": "ipython",
    "version": 3
   },
   "file_extension": ".py",
   "mimetype": "text/x-python",
   "name": "python",
   "nbconvert_exporter": "python",
   "pygments_lexer": "ipython3",
   "version": "3.7.12"
  },
  "papermill": {
   "default_parameters": {},
   "duration": 156.57516,
   "end_time": "2022-10-12T13:01:52.656605",
   "environment_variables": {},
   "exception": null,
   "input_path": "__notebook__.ipynb",
   "output_path": "__notebook__.ipynb",
   "parameters": {},
   "start_time": "2022-10-12T12:59:16.081445",
   "version": "2.3.4"
  }
 },
 "nbformat": 4,
 "nbformat_minor": 5
}
