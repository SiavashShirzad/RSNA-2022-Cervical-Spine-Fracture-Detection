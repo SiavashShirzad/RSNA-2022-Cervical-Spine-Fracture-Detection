{
 "cells": [
  {
   "cell_type": "code",
   "execution_count": 225,
   "metadata": {},
   "outputs": [],
   "source": [
    "import pandas as pd\n",
    "import numpy as np\n",
    "import tensorflow as tf\n",
    "import matplotlib.pyplot as plt\n",
    "import pydicom as dcm\n",
    "import os\n",
    "import nibabel as nib\n",
    "from tqdm import tqdm\n",
    "from tensorflow import keras\n",
    "from keras import layers, models\n",
    "import tensorflow_io as tfio\n",
    "import cv2\n",
    "import warnings\n",
    "warnings.filterwarnings('ignore')\n",
    "from tqdm import tqdm\n",
    "import tensorflow_addons as tfa\n",
    "import glob\n",
    "import scipy"
   ]
  },
  {
   "cell_type": "code",
   "execution_count": 226,
   "metadata": {},
   "outputs": [],
   "source": [
    "def window_image(img, minn,maxx, intercept, slope, rescale=True):\n",
    "    img = (img*slope +intercept) \n",
    "    \n",
    "    img[img<minn] = minn \n",
    "    img[img>maxx] = maxx \n",
    "    if rescale: \n",
    "        img = (img - minn) / (maxx - minn)\n",
    "    return img\n",
    "    \n",
    "def get_first_of_dicom_field_as_int(x):\n",
    "    if type(x) == dcm.multival.MultiValue: return int(x[0])\n",
    "    else: return int(x)\n",
    "    \n",
    "def get_windowing(data):\n",
    "    dicom_fields = [data[('0028','1050')].value,\n",
    "                    data[('0028','1051')].value,\n",
    "                    data[('0028','1052')].value,\n",
    "                    data[('0028','1053')].value]\n",
    "    return [get_first_of_dicom_field_as_int(x) for x in dicom_fields]\n",
    "def channeling(img1, img2, img3):\n",
    "    return np.stack([img1, img2, img3], axis=-1)\n",
    "def load_data(UID):\n",
    "    data_path = '../../Downloads/rsna-2022-cervical-spine-fracture-detection/train_images/'\n",
    "    data = dcm.dcmread(data_path+UID+'/'+os.listdir(data_path+UID)[0])\n",
    "    _, _, intercept, slope = get_windowing(data)\n",
    "    return intercept, slope"
   ]
  },
  {
   "cell_type": "code",
   "execution_count": 227,
   "metadata": {},
   "outputs": [],
   "source": [
    "df = pd.read_csv('../../Downloads/rsna-2022-cervical-spine-fracture-detection/train.csv')"
   ]
  },
  {
   "cell_type": "code",
   "execution_count": 240,
   "metadata": {},
   "outputs": [],
   "source": [
    "IMAGE_SIZE = 128\n",
    "BATCH_SIZE = 4\n",
    "NUM_CLASSES = 9\n",
    "NUM_TRAIN_IMAGES = 1000\n",
    "NUM_VAL_IMAGES = 50"
   ]
  },
  {
   "cell_type": "code",
   "execution_count": 241,
   "metadata": {},
   "outputs": [],
   "source": [
    "def convolution_block(\n",
    "    block_input,\n",
    "    num_filters=256,\n",
    "    kernel_size=3,\n",
    "    dilation_rate=1,\n",
    "    padding=\"same\",\n",
    "    use_bias=False,\n",
    "):\n",
    "    x = layers.Conv2D(\n",
    "        num_filters,\n",
    "        kernel_size=kernel_size,\n",
    "        dilation_rate=dilation_rate,\n",
    "        padding=\"same\",\n",
    "        use_bias=use_bias,\n",
    "        kernel_initializer=keras.initializers.HeNormal(),\n",
    "    )(block_input)\n",
    "    x = layers.BatchNormalization()(x)\n",
    "    return tf.nn.relu(x)\n",
    "\n",
    "def DilatedSpatialPyramidPooling(dspp_input):\n",
    "    dims = dspp_input.shape\n",
    "    x = layers.AveragePooling2D(pool_size=(dims[-3], dims[-2]))(dspp_input)\n",
    "    x = convolution_block(x, kernel_size=1, use_bias=True)\n",
    "    out_pool = layers.UpSampling2D(\n",
    "        size=(dims[-3] // x.shape[1], dims[-2] // x.shape[2]), interpolation=\"bilinear\",\n",
    "    )(x)\n",
    "\n",
    "    out_1 = convolution_block(dspp_input, kernel_size=1, dilation_rate=1)\n",
    "    out_6 = convolution_block(dspp_input, kernel_size=3, dilation_rate=6)\n",
    "    out_12 = convolution_block(dspp_input, kernel_size=3, dilation_rate=12)\n",
    "    out_18 = convolution_block(dspp_input, kernel_size=3, dilation_rate=18)\n",
    "\n",
    "    x = layers.Concatenate(axis=-1)([out_pool, out_1, out_6, out_12, out_18])\n",
    "    output = convolution_block(x, kernel_size=1)\n",
    "    return output\n",
    "def DeeplabV3Plus(image_size, num_classes):\n",
    "    model_input = keras.Input(shape=(image_size, image_size, 3))\n",
    "    resnet50 = keras.applications.ResNet50(\n",
    "        weights=\"imagenet\", include_top=False, input_tensor=model_input\n",
    "    )\n",
    "    x = resnet50.get_layer(\"conv4_block6_2_relu\").output\n",
    "    x = DilatedSpatialPyramidPooling(x)\n",
    "\n",
    "    input_a = layers.UpSampling2D(\n",
    "        size=(image_size // 4 // x.shape[1], image_size // 4 // x.shape[2]),\n",
    "        interpolation=\"bilinear\",\n",
    "    )(x)\n",
    "    input_b = resnet50.get_layer(\"conv2_block3_2_relu\").output\n",
    "    input_b = convolution_block(input_b, num_filters=48, kernel_size=1)\n",
    "\n",
    "    x = layers.Concatenate(axis=-1)([input_a, input_b])\n",
    "    x = convolution_block(x)\n",
    "    x = convolution_block(x)\n",
    "    x = layers.UpSampling2D(\n",
    "        size=(image_size // x.shape[1], image_size // x.shape[2]),\n",
    "        interpolation=\"bilinear\",\n",
    "    )(x)\n",
    "    model_output = layers.Conv2D(num_classes, kernel_size=(1, 1), padding=\"same\")(x)\n",
    "    return keras.Model(inputs=model_input, outputs=model_output)\n",
    "\n",
    "\n",
    "model = DeeplabV3Plus(image_size=IMAGE_SIZE, num_classes=NUM_CLASSES)\n",
    "loss = keras.losses.SparseCategoricalCrossentropy(from_logits=True)\n",
    "model.compile(\n",
    "    optimizer=keras.optimizers.Adam(learning_rate=0.001),\n",
    "    loss=loss,\n",
    "    metrics=[\"accuracy\"],\n",
    ")\n"
   ]
  },
  {
   "cell_type": "code",
   "execution_count": 242,
   "metadata": {},
   "outputs": [],
   "source": [
    "path_seg = '../../Downloads/rsna-2022-cervical-spine-fracture-detection/segmentations/'"
   ]
  },
  {
   "cell_type": "code",
   "execution_count": 243,
   "metadata": {},
   "outputs": [
    {
     "data": {
      "text/plain": [
       "'1.2.826.0.1.3680043.10633.nii'"
      ]
     },
     "execution_count": 243,
     "metadata": {},
     "output_type": "execute_result"
    }
   ],
   "source": [
    "patients = os.listdir(path_seg)\n",
    "patients[0]"
   ]
  },
  {
   "cell_type": "code",
   "execution_count": 244,
   "metadata": {},
   "outputs": [],
   "source": [
    "def seg_extractor(UID):\n",
    "    seg = nib.load(path_seg+UID+'.nii')\n",
    "    seg = seg.get_fdata()\n",
    "    seg = np.transpose(seg, axes=[2,1,0])\n",
    "    seg = scipy.ndimage.zoom(seg, (128/seg.shape[0],128/seg.shape[1],128/seg.shape[2]), order=1)\n",
    "    return seg[::-1,::-1,:]\n",
    "def ct_extractor(UID):\n",
    "    img = nib.load(path_img+UID+'.nii.gz')\n",
    "    img = img.get_fdata()\n",
    "    img = scipy.ndimage.zoom(img, (128/img.shape[0],1,1), order=1)\n",
    "    return img\n"
   ]
  },
  {
   "cell_type": "code",
   "execution_count": 245,
   "metadata": {},
   "outputs": [],
   "source": [
    "def data_gen():\n",
    "    for patient in patients[:75]:\n",
    "        patient = patient[:-4]\n",
    "        intercept, slope = load_data(patient)\n",
    "        ct = ct_extractor(patient)\n",
    "        ct1 = window_image(ct,150,300,intercept,slope)\n",
    "        ct2 = window_image(ct,300,450,intercept,slope)\n",
    "        ct3 = window_image(ct,450,600,intercept,slope)\n",
    "        ct = channeling(ct1,ct2,ct3)\n",
    "        seg = seg_extractor(patient)\n",
    "        seg[np.where(seg>8)] = 8\n",
    "        for image in range(28,100):\n",
    "            yield ct[:,:,image], seg[:,:,image]"
   ]
  },
  {
   "cell_type": "code",
   "execution_count": 246,
   "metadata": {},
   "outputs": [],
   "source": [
    "def test_gen():\n",
    "    for patient in patients[75:]:\n",
    "        patient = patient[:-4]\n",
    "        intercept, slope = load_data(patient)\n",
    "        ct = ct_extractor(patient)\n",
    "        ct1 = window_image(ct,150,300,intercept,slope)\n",
    "        ct2 = window_image(ct,300,450,intercept,slope)\n",
    "        ct3 = window_image(ct,450,600,intercept,slope)\n",
    "        ct = channeling(ct1,ct2,ct3)\n",
    "        seg = seg_extractor(patient)\n",
    "        seg[np.where(seg>8)] = 8\n",
    "        for image in range(28,100):\n",
    "            yield ct[:,:,image], seg[:,:,image]"
   ]
  },
  {
   "cell_type": "code",
   "execution_count": 247,
   "metadata": {},
   "outputs": [],
   "source": [
    "dataset = tf.data.Dataset.from_generator(\n",
    "     data_gen,\n",
    "     (tf.float32, tf.int8),\n",
    "    (tf.TensorShape([128,128,3]), tf.TensorShape([128,128]))\n",
    ")\n",
    "\n",
    "testset = tf.data.Dataset.from_generator(\n",
    "     test_gen,\n",
    "     (tf.float32, tf.int8),\n",
    "    (tf.TensorShape([128,128,3]), tf.TensorShape([128,128]))\n",
    ")"
   ]
  },
  {
   "cell_type": "code",
   "execution_count": 248,
   "metadata": {},
   "outputs": [],
   "source": [
    "dataset = dataset.batch(36)\n",
    "dataset = dataset.prefetch(2)\n",
    "\n",
    "\n",
    "testset = testset.batch(72)\n",
    "testset = testset.prefetch(2)"
   ]
  },
  {
   "cell_type": "code",
   "execution_count": 249,
   "metadata": {},
   "outputs": [
    {
     "name": "stderr",
     "output_type": "stream",
     "text": [
      "A subdirectory or file seg_best_weights already exists.\n"
     ]
    }
   ],
   "source": [
    "!mkdir seg_best_weights"
   ]
  },
  {
   "cell_type": "code",
   "execution_count": 250,
   "metadata": {},
   "outputs": [],
   "source": [
    "def lr_schedule(epoch, lr):\n",
    "    if epoch%4==0 and epoch!=0:\n",
    "        return lr/2\n",
    "    else:\n",
    "        return lr\n",
    "model_checkpoint = tf.keras.callbacks.ModelCheckpoint(\n",
    "    filepath = './seg_best_weights/model',\n",
    "    monitor=\"val_loss\",\n",
    "    save_best_only=True,\n",
    "    save_weights_only=True,\n",
    "    mode=\"auto\",\n",
    ")"
   ]
  },
  {
   "cell_type": "code",
   "execution_count": 252,
   "metadata": {},
   "outputs": [
    {
     "name": "stdout",
     "output_type": "stream",
     "text": [
      "Epoch 1/40\n",
      "150/150 [==============================] - 76s 502ms/step - loss: 0.1372 - accuracy: 0.9593 - val_loss: 0.2596 - val_accuracy: 0.9492 - lr: 0.0010\n",
      "Epoch 2/40\n",
      "150/150 [==============================] - 76s 500ms/step - loss: 0.1052 - accuracy: 0.9667 - val_loss: 0.4103 - val_accuracy: 0.9492 - lr: 0.0010\n",
      "Epoch 3/40\n",
      "150/150 [==============================] - 78s 514ms/step - loss: 0.0914 - accuracy: 0.9703 - val_loss: 0.3392 - val_accuracy: 0.9492 - lr: 0.0010\n",
      "Epoch 4/40\n",
      "150/150 [==============================] - 80s 528ms/step - loss: 0.0874 - accuracy: 0.9717 - val_loss: 0.2638 - val_accuracy: 0.9496 - lr: 0.0010\n",
      "Epoch 5/40\n",
      "150/150 [==============================] - 81s 538ms/step - loss: 0.0799 - accuracy: 0.9740 - val_loss: 0.2127 - val_accuracy: 0.9521 - lr: 5.0000e-04\n",
      "Epoch 6/40\n",
      "150/150 [==============================] - 83s 549ms/step - loss: 0.0757 - accuracy: 0.9753 - val_loss: 0.1239 - val_accuracy: 0.9614 - lr: 5.0000e-04\n",
      "Epoch 7/40\n",
      "150/150 [==============================] - 82s 541ms/step - loss: 0.0733 - accuracy: 0.9761 - val_loss: 0.1217 - val_accuracy: 0.9611 - lr: 5.0000e-04\n",
      "Epoch 8/40\n",
      "150/150 [==============================] - 82s 540ms/step - loss: 0.0718 - accuracy: 0.9764 - val_loss: 0.0840 - val_accuracy: 0.9734 - lr: 5.0000e-04\n",
      "Epoch 9/40\n",
      "150/150 [==============================] - 82s 541ms/step - loss: 0.0705 - accuracy: 0.9769 - val_loss: 0.0772 - val_accuracy: 0.9751 - lr: 2.5000e-04\n",
      "Epoch 10/40\n",
      "150/150 [==============================] - 82s 540ms/step - loss: 0.0671 - accuracy: 0.9781 - val_loss: 0.0769 - val_accuracy: 0.9753 - lr: 2.5000e-04\n",
      "Epoch 11/40\n",
      "150/150 [==============================] - 81s 537ms/step - loss: 0.0649 - accuracy: 0.9790 - val_loss: 0.0778 - val_accuracy: 0.9752 - lr: 2.5000e-04\n",
      "Epoch 12/40\n",
      "150/150 [==============================] - 81s 535ms/step - loss: 0.0634 - accuracy: 0.9795 - val_loss: 0.0772 - val_accuracy: 0.9755 - lr: 2.5000e-04\n",
      "Epoch 13/40\n",
      "150/150 [==============================] - 81s 538ms/step - loss: 0.0625 - accuracy: 0.9798 - val_loss: 0.0770 - val_accuracy: 0.9756 - lr: 1.2500e-04\n",
      "Epoch 14/40\n",
      "150/150 [==============================] - 83s 546ms/step - loss: 0.0616 - accuracy: 0.9801 - val_loss: 0.0758 - val_accuracy: 0.9760 - lr: 1.2500e-04\n",
      "Epoch 15/40\n",
      "150/150 [==============================] - 82s 542ms/step - loss: 0.0610 - accuracy: 0.9803 - val_loss: 0.0748 - val_accuracy: 0.9762 - lr: 1.2500e-04\n",
      "Epoch 16/40\n",
      "150/150 [==============================] - 82s 542ms/step - loss: 0.0605 - accuracy: 0.9804 - val_loss: 0.0744 - val_accuracy: 0.9764 - lr: 1.2500e-04\n",
      "Epoch 17/40\n",
      "150/150 [==============================] - 82s 542ms/step - loss: 0.0603 - accuracy: 0.9805 - val_loss: 0.0741 - val_accuracy: 0.9764 - lr: 6.2500e-05\n",
      "Epoch 18/40\n",
      "150/150 [==============================] - 83s 547ms/step - loss: 0.0599 - accuracy: 0.9806 - val_loss: 0.0739 - val_accuracy: 0.9766 - lr: 6.2500e-05\n",
      "Epoch 19/40\n",
      "150/150 [==============================] - 81s 533ms/step - loss: 0.0596 - accuracy: 0.9807 - val_loss: 0.0740 - val_accuracy: 0.9765 - lr: 6.2500e-05\n",
      "Epoch 20/40\n",
      "150/150 [==============================] - 82s 539ms/step - loss: 0.0593 - accuracy: 0.9808 - val_loss: 0.0741 - val_accuracy: 0.9766 - lr: 6.2500e-05\n",
      "Epoch 21/40\n",
      "150/150 [==============================] - 81s 536ms/step - loss: 0.0591 - accuracy: 0.9809 - val_loss: 0.0739 - val_accuracy: 0.9766 - lr: 3.1250e-05\n",
      "Epoch 22/40\n",
      "150/150 [==============================] - 83s 547ms/step - loss: 0.0589 - accuracy: 0.9809 - val_loss: 0.0736 - val_accuracy: 0.9767 - lr: 3.1250e-05\n",
      "Epoch 23/40\n",
      "150/150 [==============================] - 82s 540ms/step - loss: 0.0587 - accuracy: 0.9810 - val_loss: 0.0735 - val_accuracy: 0.9768 - lr: 3.1250e-05\n",
      "Epoch 24/40\n",
      "150/150 [==============================] - 82s 544ms/step - loss: 0.0586 - accuracy: 0.9810 - val_loss: 0.0735 - val_accuracy: 0.9768 - lr: 3.1250e-05\n",
      "Epoch 25/40\n",
      "150/150 [==============================] - 82s 541ms/step - loss: 0.0584 - accuracy: 0.9811 - val_loss: 0.0733 - val_accuracy: 0.9769 - lr: 1.5625e-05\n",
      "Epoch 26/40\n",
      "150/150 [==============================] - 81s 537ms/step - loss: 0.0583 - accuracy: 0.9811 - val_loss: 0.0733 - val_accuracy: 0.9769 - lr: 1.5625e-05\n",
      "Epoch 27/40\n",
      "150/150 [==============================] - 81s 536ms/step - loss: 0.0582 - accuracy: 0.9812 - val_loss: 0.0733 - val_accuracy: 0.9769 - lr: 1.5625e-05\n",
      "Epoch 28/40\n",
      "150/150 [==============================] - 82s 539ms/step - loss: 0.0581 - accuracy: 0.9812 - val_loss: 0.0733 - val_accuracy: 0.9769 - lr: 1.5625e-05\n",
      "Epoch 29/40\n",
      "150/150 [==============================] - 81s 534ms/step - loss: 0.0580 - accuracy: 0.9812 - val_loss: 0.0734 - val_accuracy: 0.9768 - lr: 7.8125e-06\n",
      "Epoch 30/40\n",
      "150/150 [==============================] - 81s 536ms/step - loss: 0.0580 - accuracy: 0.9812 - val_loss: 0.0734 - val_accuracy: 0.9769 - lr: 7.8125e-06\n",
      "Epoch 31/40\n",
      "150/150 [==============================] - 82s 544ms/step - loss: 0.0579 - accuracy: 0.9813 - val_loss: 0.0734 - val_accuracy: 0.9769 - lr: 7.8125e-06\n",
      "Epoch 32/40\n",
      "150/150 [==============================] - 85s 564ms/step - loss: 0.0579 - accuracy: 0.9813 - val_loss: 0.0734 - val_accuracy: 0.9769 - lr: 7.8125e-06\n",
      "Epoch 33/40\n",
      "150/150 [==============================] - 83s 546ms/step - loss: 0.0578 - accuracy: 0.9813 - val_loss: 0.0735 - val_accuracy: 0.9768 - lr: 3.9063e-06\n",
      "Epoch 34/40\n",
      "150/150 [==============================] - 82s 539ms/step - loss: 0.0578 - accuracy: 0.9813 - val_loss: 0.0735 - val_accuracy: 0.9768 - lr: 3.9063e-06\n",
      "Epoch 35/40\n",
      "150/150 [==============================] - 82s 541ms/step - loss: 0.0578 - accuracy: 0.9813 - val_loss: 0.0735 - val_accuracy: 0.9768 - lr: 3.9063e-06\n",
      "Epoch 36/40\n",
      "150/150 [==============================] - 82s 540ms/step - loss: 0.0577 - accuracy: 0.9813 - val_loss: 0.0735 - val_accuracy: 0.9768 - lr: 3.9063e-06\n",
      "Epoch 37/40\n",
      "150/150 [==============================] - 82s 539ms/step - loss: 0.0577 - accuracy: 0.9813 - val_loss: 0.0735 - val_accuracy: 0.9768 - lr: 1.9531e-06\n",
      "Epoch 38/40\n",
      "150/150 [==============================] - 81s 533ms/step - loss: 0.0577 - accuracy: 0.9813 - val_loss: 0.0735 - val_accuracy: 0.9768 - lr: 1.9531e-06\n",
      "Epoch 39/40\n",
      "150/150 [==============================] - 82s 540ms/step - loss: 0.0577 - accuracy: 0.9813 - val_loss: 0.0735 - val_accuracy: 0.9768 - lr: 1.9531e-06\n",
      "Epoch 40/40\n",
      "150/150 [==============================] - 82s 540ms/step - loss: 0.0577 - accuracy: 0.9813 - val_loss: 0.0735 - val_accuracy: 0.9769 - lr: 1.9531e-06\n"
     ]
    }
   ],
   "source": [
    "history = model.fit(dataset, validation_data=testset, epochs=40, callbacks=[model_checkpoint, tf.keras.callbacks.LearningRateScheduler(lr_schedule)])"
   ]
  },
  {
   "cell_type": "code",
   "execution_count": 253,
   "metadata": {},
   "outputs": [
    {
     "data": {
      "text/plain": [
       "<tensorflow.python.checkpoint.checkpoint.CheckpointLoadStatus at 0x27db54c2d60>"
      ]
     },
     "execution_count": 253,
     "metadata": {},
     "output_type": "execute_result"
    }
   ],
   "source": [
    "model.load_weights('./seg_best_weights/model')"
   ]
  },
  {
   "cell_type": "code",
   "execution_count": 254,
   "metadata": {},
   "outputs": [
    {
     "name": "stdout",
     "output_type": "stream",
     "text": [
      "1/1 [==============================] - 3s 3s/step\n"
     ]
    }
   ],
   "source": [
    "a = model.predict(testset.take(1))"
   ]
  },
  {
   "cell_type": "code",
   "execution_count": 255,
   "metadata": {},
   "outputs": [
    {
     "data": {
      "text/html": [
       "<div>\n",
       "<style scoped>\n",
       "    .dataframe tbody tr th:only-of-type {\n",
       "        vertical-align: middle;\n",
       "    }\n",
       "\n",
       "    .dataframe tbody tr th {\n",
       "        vertical-align: top;\n",
       "    }\n",
       "\n",
       "    .dataframe thead th {\n",
       "        text-align: right;\n",
       "    }\n",
       "</style>\n",
       "<table border=\"1\" class=\"dataframe\">\n",
       "  <thead>\n",
       "    <tr style=\"text-align: right;\">\n",
       "      <th></th>\n",
       "      <th>StudyInstanceUID</th>\n",
       "      <th>patient_overall</th>\n",
       "      <th>C1</th>\n",
       "      <th>C2</th>\n",
       "      <th>C3</th>\n",
       "      <th>C4</th>\n",
       "      <th>C5</th>\n",
       "      <th>C6</th>\n",
       "      <th>C7</th>\n",
       "    </tr>\n",
       "  </thead>\n",
       "  <tbody>\n",
       "    <tr>\n",
       "      <th>0</th>\n",
       "      <td>1.2.826.0.1.3680043.6200</td>\n",
       "      <td>1</td>\n",
       "      <td>1</td>\n",
       "      <td>1</td>\n",
       "      <td>0</td>\n",
       "      <td>0</td>\n",
       "      <td>0</td>\n",
       "      <td>0</td>\n",
       "      <td>0</td>\n",
       "    </tr>\n",
       "    <tr>\n",
       "      <th>1</th>\n",
       "      <td>1.2.826.0.1.3680043.27262</td>\n",
       "      <td>1</td>\n",
       "      <td>0</td>\n",
       "      <td>1</td>\n",
       "      <td>0</td>\n",
       "      <td>0</td>\n",
       "      <td>0</td>\n",
       "      <td>0</td>\n",
       "      <td>0</td>\n",
       "    </tr>\n",
       "    <tr>\n",
       "      <th>2</th>\n",
       "      <td>1.2.826.0.1.3680043.21561</td>\n",
       "      <td>1</td>\n",
       "      <td>0</td>\n",
       "      <td>1</td>\n",
       "      <td>0</td>\n",
       "      <td>0</td>\n",
       "      <td>0</td>\n",
       "      <td>0</td>\n",
       "      <td>0</td>\n",
       "    </tr>\n",
       "    <tr>\n",
       "      <th>3</th>\n",
       "      <td>1.2.826.0.1.3680043.12351</td>\n",
       "      <td>0</td>\n",
       "      <td>0</td>\n",
       "      <td>0</td>\n",
       "      <td>0</td>\n",
       "      <td>0</td>\n",
       "      <td>0</td>\n",
       "      <td>0</td>\n",
       "      <td>0</td>\n",
       "    </tr>\n",
       "    <tr>\n",
       "      <th>4</th>\n",
       "      <td>1.2.826.0.1.3680043.1363</td>\n",
       "      <td>1</td>\n",
       "      <td>0</td>\n",
       "      <td>0</td>\n",
       "      <td>0</td>\n",
       "      <td>0</td>\n",
       "      <td>1</td>\n",
       "      <td>0</td>\n",
       "      <td>0</td>\n",
       "    </tr>\n",
       "    <tr>\n",
       "      <th>...</th>\n",
       "      <td>...</td>\n",
       "      <td>...</td>\n",
       "      <td>...</td>\n",
       "      <td>...</td>\n",
       "      <td>...</td>\n",
       "      <td>...</td>\n",
       "      <td>...</td>\n",
       "      <td>...</td>\n",
       "      <td>...</td>\n",
       "    </tr>\n",
       "    <tr>\n",
       "      <th>2014</th>\n",
       "      <td>1.2.826.0.1.3680043.21684</td>\n",
       "      <td>1</td>\n",
       "      <td>0</td>\n",
       "      <td>1</td>\n",
       "      <td>0</td>\n",
       "      <td>0</td>\n",
       "      <td>0</td>\n",
       "      <td>1</td>\n",
       "      <td>1</td>\n",
       "    </tr>\n",
       "    <tr>\n",
       "      <th>2015</th>\n",
       "      <td>1.2.826.0.1.3680043.4786</td>\n",
       "      <td>1</td>\n",
       "      <td>0</td>\n",
       "      <td>0</td>\n",
       "      <td>0</td>\n",
       "      <td>0</td>\n",
       "      <td>0</td>\n",
       "      <td>0</td>\n",
       "      <td>1</td>\n",
       "    </tr>\n",
       "    <tr>\n",
       "      <th>2016</th>\n",
       "      <td>1.2.826.0.1.3680043.14341</td>\n",
       "      <td>0</td>\n",
       "      <td>0</td>\n",
       "      <td>0</td>\n",
       "      <td>0</td>\n",
       "      <td>0</td>\n",
       "      <td>0</td>\n",
       "      <td>0</td>\n",
       "      <td>0</td>\n",
       "    </tr>\n",
       "    <tr>\n",
       "      <th>2017</th>\n",
       "      <td>1.2.826.0.1.3680043.12053</td>\n",
       "      <td>0</td>\n",
       "      <td>0</td>\n",
       "      <td>0</td>\n",
       "      <td>0</td>\n",
       "      <td>0</td>\n",
       "      <td>0</td>\n",
       "      <td>0</td>\n",
       "      <td>0</td>\n",
       "    </tr>\n",
       "    <tr>\n",
       "      <th>2018</th>\n",
       "      <td>1.2.826.0.1.3680043.18786</td>\n",
       "      <td>1</td>\n",
       "      <td>0</td>\n",
       "      <td>0</td>\n",
       "      <td>0</td>\n",
       "      <td>0</td>\n",
       "      <td>0</td>\n",
       "      <td>0</td>\n",
       "      <td>1</td>\n",
       "    </tr>\n",
       "  </tbody>\n",
       "</table>\n",
       "<p>2019 rows × 9 columns</p>\n",
       "</div>"
      ],
      "text/plain": [
       "               StudyInstanceUID  patient_overall  C1  C2  C3  C4  C5  C6  C7\n",
       "0      1.2.826.0.1.3680043.6200                1   1   1   0   0   0   0   0\n",
       "1     1.2.826.0.1.3680043.27262                1   0   1   0   0   0   0   0\n",
       "2     1.2.826.0.1.3680043.21561                1   0   1   0   0   0   0   0\n",
       "3     1.2.826.0.1.3680043.12351                0   0   0   0   0   0   0   0\n",
       "4      1.2.826.0.1.3680043.1363                1   0   0   0   0   1   0   0\n",
       "...                         ...              ...  ..  ..  ..  ..  ..  ..  ..\n",
       "2014  1.2.826.0.1.3680043.21684                1   0   1   0   0   0   1   1\n",
       "2015   1.2.826.0.1.3680043.4786                1   0   0   0   0   0   0   1\n",
       "2016  1.2.826.0.1.3680043.14341                0   0   0   0   0   0   0   0\n",
       "2017  1.2.826.0.1.3680043.12053                0   0   0   0   0   0   0   0\n",
       "2018  1.2.826.0.1.3680043.18786                1   0   0   0   0   0   0   1\n",
       "\n",
       "[2019 rows x 9 columns]"
      ]
     },
     "execution_count": 255,
     "metadata": {},
     "output_type": "execute_result"
    }
   ],
   "source": [
    "df"
   ]
  },
  {
   "cell_type": "code",
   "execution_count": 256,
   "metadata": {},
   "outputs": [
    {
     "data": {
      "text/plain": [
       "False"
      ]
     },
     "execution_count": 256,
     "metadata": {},
     "output_type": "execute_result"
    }
   ],
   "source": [
    "'1.2.826.0.1.3680043.12351' in patients"
   ]
  },
  {
   "cell_type": "code",
   "execution_count": 257,
   "metadata": {},
   "outputs": [],
   "source": [
    "sample_ct = ct_extractor('1.2.826.0.1.3680043.12351')"
   ]
  },
  {
   "cell_type": "code",
   "execution_count": 258,
   "metadata": {},
   "outputs": [
    {
     "data": {
      "text/plain": [
       "(128, 128, 128)"
      ]
     },
     "execution_count": 258,
     "metadata": {},
     "output_type": "execute_result"
    }
   ],
   "source": [
    "sample_ct.shape"
   ]
  },
  {
   "cell_type": "code",
   "execution_count": 259,
   "metadata": {},
   "outputs": [],
   "source": [
    "def sample_creator(patient):\n",
    "    intercept, slope = load_data(patient)\n",
    "    ct = ct_extractor(patient)\n",
    "    ct = np.transpose(ct, axes = [2,0,1])\n",
    "    ct1 = window_image(ct,150,300,intercept,slope)\n",
    "    ct2 = window_image(ct,300,450,intercept,slope)\n",
    "    ct3 = window_image(ct,450,600,intercept,slope)\n",
    "    ct = channeling(ct1,ct2,ct3)\n",
    "    return ct"
   ]
  },
  {
   "cell_type": "code",
   "execution_count": 285,
   "metadata": {},
   "outputs": [],
   "source": [
    "a = sample_creator('1.2.826.0.1.3680043.18786')"
   ]
  },
  {
   "cell_type": "code",
   "execution_count": 286,
   "metadata": {},
   "outputs": [
    {
     "data": {
      "text/plain": [
       "<matplotlib.image.AxesImage at 0x27d9ef590a0>"
      ]
     },
     "execution_count": 286,
     "metadata": {},
     "output_type": "execute_result"
    },
    {
     "data": {
      "image/png": "[encoded data removed]",
      "text/plain": [
       "<Figure size 432x288 with 1 Axes>"
      ]
     },
     "metadata": {
      "needs_background": "light"
     },
     "output_type": "display_data"
    }
   ],
   "source": [
    "plt.imshow(a[64])"
   ]
  },
  {
   "cell_type": "code",
   "execution_count": 287,
   "metadata": {},
   "outputs": [
    {
     "name": "stdout",
     "output_type": "stream",
     "text": [
      "4/4 [==============================] - 1s 190ms/step\n"
     ]
    }
   ],
   "source": [
    "pred = model.predict(a)"
   ]
  },
  {
   "cell_type": "code",
   "execution_count": 288,
   "metadata": {},
   "outputs": [],
   "source": [
    "pred = np.argmax(pred, axis=-1)"
   ]
  },
  {
   "cell_type": "code",
   "execution_count": 289,
   "metadata": {},
   "outputs": [
    {
     "data": {
      "text/plain": [
       "<matplotlib.image.AxesImage at 0x27d9f061c70>"
      ]
     },
     "execution_count": 289,
     "metadata": {},
     "output_type": "execute_result"
    },
    {
     "data": {
      "image/png": "[encoded data removed]",
      "text/plain": [
       "<Figure size 432x288 with 1 Axes>"
      ]
     },
     "metadata": {
      "needs_background": "light"
     },
     "output_type": "display_data"
    }
   ],
   "source": [
    "plt.imshow(a[64])"
   ]
  },
  {
   "cell_type": "code",
   "execution_count": 290,
   "metadata": {},
   "outputs": [
    {
     "data": {
      "text/plain": [
       "<matplotlib.image.AxesImage at 0x27d9ef89d90>"
      ]
     },
     "execution_count": 290,
     "metadata": {},
     "output_type": "execute_result"
    },
    {
     "data": {
      "image/png": "[encoded data removed]",
      "text/plain": [
       "<Figure size 432x288 with 1 Axes>"
      ]
     },
     "metadata": {
      "needs_background": "light"
     },
     "output_type": "display_data"
    }
   ],
   "source": [
    "#pred[64][np.where(pred[64]!=6)]=0\n",
    "plt.imshow(pred[64])"
   ]
  },
  {
   "cell_type": "code",
   "execution_count": 266,
   "metadata": {},
   "outputs": [
    {
     "data": {
      "text/plain": [
       "array([  0,   0,   0, ..., 127, 127, 127], dtype=int64)"
      ]
     },
     "execution_count": 266,
     "metadata": {},
     "output_type": "execute_result"
    }
   ],
   "source": [
    "np.where(pred[64] == 0)[0]"
   ]
  },
  {
   "cell_type": "code",
   "execution_count": null,
   "metadata": {},
   "outputs": [],
   "source": []
  }
 ],
 "metadata": {
  "kernelspec": {
   "display_name": "Python 3.9.13 ('eon': conda)",
   "language": "python",
   "name": "python3"
  },
  "language_info": {
   "codemirror_mode": {
    "name": "ipython",
    "version": 3
   },
   "file_extension": ".py",
   "mimetype": "text/x-python",
   "name": "python",
   "nbconvert_exporter": "python",
   "pygments_lexer": "ipython3",
   "version": "3.9.13"
  },
  "orig_nbformat": 4,
  "vscode": {
   "interpreter": {
    "hash": "7ac21e7c5f840be57102ee0f5398c792063c2a27dc2325b7f7034b34f50df51e"
   }
  }
 },
 "nbformat": 4,
 "nbformat_minor": 2
}
