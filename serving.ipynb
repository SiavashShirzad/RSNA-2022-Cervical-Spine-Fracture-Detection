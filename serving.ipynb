{
 "cells": [
  {
   "cell_type": "code",
   "execution_count": 1,
   "id": "e8a16221",
   "metadata": {
    "_cell_guid": "b1076dfc-b9ad-4769-8c92-a6c4dae69d19",
    "_uuid": "8f2839f25d086af736a60e9eeb907d3b93b6e0e5",
    "execution": {
     "iopub.execute_input": "2022-10-06T20:41:27.982029Z",
     "iopub.status.busy": "2022-10-06T20:41:27.981586Z",
     "iopub.status.idle": "2022-10-06T20:41:58.778033Z",
     "shell.execute_reply": "2022-10-06T20:41:58.776653Z"
    },
    "papermill": {
     "duration": 30.804998,
     "end_time": "2022-10-06T20:41:58.781063",
     "exception": false,
     "start_time": "2022-10-06T20:41:27.976065",
     "status": "completed"
    },
    "tags": []
   },
   "outputs": [
    {
     "name": "stdout",
     "output_type": "stream",
     "text": [
      "Collecting python-gdcm\r\n",
      "  Downloading python_gdcm-3.0.19-cp37-cp37m-manylinux_2_17_x86_64.manylinux2014_x86_64.whl (13.0 MB)\r\n",
      "\u001b[2K     \u001b[90m━━━━━━━━━━━━━━━━━━━━━━━━━━━━━━━━━━━━━━━━\u001b[0m \u001b[32m13.0/13.0 MB\u001b[0m \u001b[31m15.2 MB/s\u001b[0m eta \u001b[36m0:00:00\u001b[0m\r\n",
      "\u001b[?25hInstalling collected packages: python-gdcm\r\n",
      "Successfully installed python-gdcm-3.0.19\r\n",
      "\u001b[33mWARNING: Running pip as the 'root' user can result in broken permissions and conflicting behaviour with the system package manager. It is recommended to use a virtual environment instead: https://pip.pypa.io/warnings/venv\u001b[0m\u001b[33m\r\n",
      "\u001b[0mCollecting pylibjpeg\r\n",
      "  Downloading pylibjpeg-1.4.0-py3-none-any.whl (28 kB)\r\n",
      "Collecting pylibjpeg-libjpeg\r\n",
      "  Downloading pylibjpeg_libjpeg-1.3.2-cp37-cp37m-manylinux_2_17_x86_64.manylinux2014_x86_64.whl (4.3 MB)\r\n",
      "\u001b[2K     \u001b[90m━━━━━━━━━━━━━━━━━━━━━━━━━━━━━━━━━━━━━━━━\u001b[0m \u001b[32m4.3/4.3 MB\u001b[0m \u001b[31m3.9 MB/s\u001b[0m eta \u001b[36m0:00:00\u001b[0m\r\n",
      "\u001b[?25hRequirement already satisfied: pydicom in /opt/conda/lib/python3.7/site-packages (2.3.0)\r\n",
      "Requirement already satisfied: numpy in /opt/conda/lib/python3.7/site-packages (from pylibjpeg) (1.21.6)\r\n",
      "Installing collected packages: pylibjpeg-libjpeg, pylibjpeg\r\n",
      "Successfully installed pylibjpeg-1.4.0 pylibjpeg-libjpeg-1.3.2\r\n",
      "\u001b[33mWARNING: Running pip as the 'root' user can result in broken permissions and conflicting behaviour with the system package manager. It is recommended to use a virtual environment instead: https://pip.pypa.io/warnings/venv\u001b[0m\u001b[33m\r\n",
      "\u001b[0m"
     ]
    }
   ],
   "source": [
    "! pip install python-gdcm\n",
    "! pip install pylibjpeg pylibjpeg-libjpeg pydicom"
   ]
  },
  {
   "cell_type": "code",
   "execution_count": 2,
   "id": "81813547",
   "metadata": {
    "execution": {
     "iopub.execute_input": "2022-10-06T20:41:58.797853Z",
     "iopub.status.busy": "2022-10-06T20:41:58.797176Z",
     "iopub.status.idle": "2022-10-06T20:42:07.405417Z",
     "shell.execute_reply": "2022-10-06T20:42:07.404201Z"
    },
    "papermill": {
     "duration": 8.619891,
     "end_time": "2022-10-06T20:42:07.408246",
     "exception": false,
     "start_time": "2022-10-06T20:41:58.788355",
     "status": "completed"
    },
    "tags": []
   },
   "outputs": [],
   "source": [
    "import pandas as pd\n",
    "import numpy as np\n",
    "import tensorflow as tf\n",
    "import matplotlib.pyplot as plt\n",
    "import pydicom\n",
    "import os\n",
    "import nibabel as nib\n",
    "import SimpleITK as sitk\n",
    "from tqdm import tqdm\n",
    "from tensorflow import keras\n",
    "from keras import layers, models\n",
    "import tensorflow_io as tfio\n",
    "import cv2\n",
    "import warnings\n",
    "warnings.filterwarnings('ignore')\n",
    "from skimage.transform import resize\n",
    "from tqdm import tqdm\n",
    "import tensorflow_addons as tfa"
   ]
  },
  {
   "cell_type": "code",
   "execution_count": 3,
   "id": "f3ca2672",
   "metadata": {
    "execution": {
     "iopub.execute_input": "2022-10-06T20:42:07.424592Z",
     "iopub.status.busy": "2022-10-06T20:42:07.423890Z",
     "iopub.status.idle": "2022-10-06T20:42:07.429813Z",
     "shell.execute_reply": "2022-10-06T20:42:07.428801Z"
    },
    "papermill": {
     "duration": 0.016474,
     "end_time": "2022-10-06T20:42:07.431998",
     "exception": false,
     "start_time": "2022-10-06T20:42:07.415524",
     "status": "completed"
    },
    "tags": []
   },
   "outputs": [],
   "source": [
    "def load_image(path):\n",
    "    img = pydicom.read_file(path)\n",
    "    img = img.pixel_array\n",
    "    return resize(img[:,20:-20], (100, 60))"
   ]
  },
  {
   "cell_type": "code",
   "execution_count": 4,
   "id": "909e2fd0",
   "metadata": {
    "execution": {
     "iopub.execute_input": "2022-10-06T20:42:07.448279Z",
     "iopub.status.busy": "2022-10-06T20:42:07.447659Z",
     "iopub.status.idle": "2022-10-06T20:42:07.454780Z",
     "shell.execute_reply": "2022-10-06T20:42:07.453609Z"
    },
    "papermill": {
     "duration": 0.01832,
     "end_time": "2022-10-06T20:42:07.457410",
     "exception": false,
     "start_time": "2022-10-06T20:42:07.439090",
     "status": "completed"
    },
    "tags": []
   },
   "outputs": [],
   "source": [
    "def window(img):\n",
    "    img[np.where(img<0)] = 0\n",
    "    mean = img.mean()\n",
    "    std = img.std()\n",
    "    img[np.where(img>(mean+(3*std)))] = (mean+(3*std))\n",
    "    img = img-img.min()\n",
    "    maxx = img.max()\n",
    "    img[np.where(img<(maxx/2))] = maxx/2\n",
    "    img = (img-(maxx/2)) / (maxx/2)\n",
    "    return img"
   ]
  },
  {
   "cell_type": "code",
   "execution_count": 5,
   "id": "447947e4",
   "metadata": {
    "execution": {
     "iopub.execute_input": "2022-10-06T20:42:07.473548Z",
     "iopub.status.busy": "2022-10-06T20:42:07.473123Z",
     "iopub.status.idle": "2022-10-06T20:42:12.655786Z",
     "shell.execute_reply": "2022-10-06T20:42:12.654515Z"
    },
    "papermill": {
     "duration": 5.194066,
     "end_time": "2022-10-06T20:42:12.658870",
     "exception": false,
     "start_time": "2022-10-06T20:42:07.464804",
     "status": "completed"
    },
    "tags": []
   },
   "outputs": [
    {
     "name": "stderr",
     "output_type": "stream",
     "text": [
      "2022-10-06 20:42:07.556238: I tensorflow/core/common_runtime/process_util.cc:146] Creating new thread pool with default inter op setting: 2. Tune using inter_op_parallelism_threads for best performance.\n"
     ]
    }
   ],
   "source": [
    "model = tf.keras.models.load_model('../input/rsna-cervical-fracture-training/final_model/model')"
   ]
  },
  {
   "cell_type": "code",
   "execution_count": 6,
   "id": "eeaab1a0",
   "metadata": {
    "execution": {
     "iopub.execute_input": "2022-10-06T20:42:12.675433Z",
     "iopub.status.busy": "2022-10-06T20:42:12.675031Z",
     "iopub.status.idle": "2022-10-06T20:42:49.501066Z",
     "shell.execute_reply": "2022-10-06T20:42:49.499967Z"
    },
    "papermill": {
     "duration": 36.837631,
     "end_time": "2022-10-06T20:42:49.503938",
     "exception": false,
     "start_time": "2022-10-06T20:42:12.666307",
     "status": "completed"
    },
    "tags": []
   },
   "outputs": [
    {
     "name": "stderr",
     "output_type": "stream",
     "text": [
      "2022-10-06 20:42:19.508303: I tensorflow/compiler/mlir/mlir_graph_optimization_pass.cc:185] None of the MLIR Optimization Passes are enabled (registered 2)\n"
     ]
    }
   ],
   "source": [
    "patient_pred = {}\n",
    "UIDs = os.listdir(\"../input/rsna-2022-cervical-spine-fracture-detection/test_images\")\n",
    "for p in UIDs:\n",
    "    path = \"../input/rsna-2022-cervical-spine-fracture-detection/test_images/\"+p+\"/\"\n",
    "    len10percent = len(os.listdir(path))//10\n",
    "    final_ct = window(load_image(path+str(len10percent)+\".dcm\")).reshape(100,60,1)\n",
    "    for image in range(len10percent, len(os.listdir(path))-len10percent):\n",
    "        img = window(load_image(path+str(image)+\".dcm\")).reshape(100,60,1)\n",
    "        final_ct = np.append(final_ct, img, axis=-1)\n",
    "    resized_final_ct = cv2.resize(final_ct[:,0,:], (100,100)).reshape(100,100,1)\n",
    "    for i in range(1,final_ct.shape[1]):\n",
    "        resized_final_ct = np.append(resized_final_ct, cv2.resize(final_ct[:,i,:], (100,100)).reshape(100,100,1), axis=-1)\n",
    "    resized_final_ct = resized_final_ct.reshape(1,100,100,60)\n",
    "    pred = model.predict(resized_final_ct)\n",
    "    for i in range(1, 9):\n",
    "        if i==8:\n",
    "            patient_pred[p+\"_\"+\"patient_overall\"] = pred[0][0][0]\n",
    "            break\n",
    "        else:\n",
    "            patient_pred[p+\"_\"+\"C\"+str(i)] = pred[i][0][0]\n",
    "submission  = pd.DataFrame.from_dict({\"row_id\": patient_pred.keys(), \"fractured\": patient_pred.values()})\n",
    "submission.to_csv('./submission.csv', index=False)"
   ]
  },
  {
   "cell_type": "code",
   "execution_count": 7,
   "id": "42410d9b",
   "metadata": {
    "execution": {
     "iopub.execute_input": "2022-10-06T20:42:49.520960Z",
     "iopub.status.busy": "2022-10-06T20:42:49.520537Z",
     "iopub.status.idle": "2022-10-06T20:42:49.542157Z",
     "shell.execute_reply": "2022-10-06T20:42:49.540771Z"
    },
    "papermill": {
     "duration": 0.034763,
     "end_time": "2022-10-06T20:42:49.546296",
     "exception": false,
     "start_time": "2022-10-06T20:42:49.511533",
     "status": "completed"
    },
    "tags": []
   },
   "outputs": [
    {
     "data": {
      "text/html": [
       "<div>\n",
       "<style scoped>\n",
       "    .dataframe tbody tr th:only-of-type {\n",
       "        vertical-align: middle;\n",
       "    }\n",
       "\n",
       "    .dataframe tbody tr th {\n",
       "        vertical-align: top;\n",
       "    }\n",
       "\n",
       "    .dataframe thead th {\n",
       "        text-align: right;\n",
       "    }\n",
       "</style>\n",
       "<table border=\"1\" class=\"dataframe\">\n",
       "  <thead>\n",
       "    <tr style=\"text-align: right;\">\n",
       "      <th></th>\n",
       "      <th>row_id</th>\n",
       "      <th>fractured</th>\n",
       "    </tr>\n",
       "  </thead>\n",
       "  <tbody>\n",
       "    <tr>\n",
       "      <th>0</th>\n",
       "      <td>1.2.826.0.1.3680043.22327_C1</td>\n",
       "      <td>0.017870</td>\n",
       "    </tr>\n",
       "    <tr>\n",
       "      <th>1</th>\n",
       "      <td>1.2.826.0.1.3680043.22327_C2</td>\n",
       "      <td>0.028587</td>\n",
       "    </tr>\n",
       "    <tr>\n",
       "      <th>2</th>\n",
       "      <td>1.2.826.0.1.3680043.22327_C3</td>\n",
       "      <td>0.016075</td>\n",
       "    </tr>\n",
       "    <tr>\n",
       "      <th>3</th>\n",
       "      <td>1.2.826.0.1.3680043.22327_C4</td>\n",
       "      <td>0.025984</td>\n",
       "    </tr>\n",
       "    <tr>\n",
       "      <th>4</th>\n",
       "      <td>1.2.826.0.1.3680043.22327_C5</td>\n",
       "      <td>0.041403</td>\n",
       "    </tr>\n",
       "    <tr>\n",
       "      <th>5</th>\n",
       "      <td>1.2.826.0.1.3680043.22327_C6</td>\n",
       "      <td>0.064498</td>\n",
       "    </tr>\n",
       "    <tr>\n",
       "      <th>6</th>\n",
       "      <td>1.2.826.0.1.3680043.22327_C7</td>\n",
       "      <td>0.215468</td>\n",
       "    </tr>\n",
       "    <tr>\n",
       "      <th>7</th>\n",
       "      <td>1.2.826.0.1.3680043.22327_patient_overall</td>\n",
       "      <td>0.237880</td>\n",
       "    </tr>\n",
       "    <tr>\n",
       "      <th>8</th>\n",
       "      <td>1.2.826.0.1.3680043.25399_C1</td>\n",
       "      <td>0.123502</td>\n",
       "    </tr>\n",
       "    <tr>\n",
       "      <th>9</th>\n",
       "      <td>1.2.826.0.1.3680043.25399_C2</td>\n",
       "      <td>0.345309</td>\n",
       "    </tr>\n",
       "    <tr>\n",
       "      <th>10</th>\n",
       "      <td>1.2.826.0.1.3680043.25399_C3</td>\n",
       "      <td>0.136873</td>\n",
       "    </tr>\n",
       "    <tr>\n",
       "      <th>11</th>\n",
       "      <td>1.2.826.0.1.3680043.25399_C4</td>\n",
       "      <td>0.165578</td>\n",
       "    </tr>\n",
       "    <tr>\n",
       "      <th>12</th>\n",
       "      <td>1.2.826.0.1.3680043.25399_C5</td>\n",
       "      <td>0.093368</td>\n",
       "    </tr>\n",
       "    <tr>\n",
       "      <th>13</th>\n",
       "      <td>1.2.826.0.1.3680043.25399_C6</td>\n",
       "      <td>0.139603</td>\n",
       "    </tr>\n",
       "    <tr>\n",
       "      <th>14</th>\n",
       "      <td>1.2.826.0.1.3680043.25399_C7</td>\n",
       "      <td>0.144891</td>\n",
       "    </tr>\n",
       "    <tr>\n",
       "      <th>15</th>\n",
       "      <td>1.2.826.0.1.3680043.25399_patient_overall</td>\n",
       "      <td>0.594639</td>\n",
       "    </tr>\n",
       "    <tr>\n",
       "      <th>16</th>\n",
       "      <td>1.2.826.0.1.3680043.5876_C1</td>\n",
       "      <td>0.006411</td>\n",
       "    </tr>\n",
       "    <tr>\n",
       "      <th>17</th>\n",
       "      <td>1.2.826.0.1.3680043.5876_C2</td>\n",
       "      <td>0.009955</td>\n",
       "    </tr>\n",
       "    <tr>\n",
       "      <th>18</th>\n",
       "      <td>1.2.826.0.1.3680043.5876_C3</td>\n",
       "      <td>0.004089</td>\n",
       "    </tr>\n",
       "    <tr>\n",
       "      <th>19</th>\n",
       "      <td>1.2.826.0.1.3680043.5876_C4</td>\n",
       "      <td>0.003894</td>\n",
       "    </tr>\n",
       "    <tr>\n",
       "      <th>20</th>\n",
       "      <td>1.2.826.0.1.3680043.5876_C5</td>\n",
       "      <td>0.008151</td>\n",
       "    </tr>\n",
       "    <tr>\n",
       "      <th>21</th>\n",
       "      <td>1.2.826.0.1.3680043.5876_C6</td>\n",
       "      <td>0.015425</td>\n",
       "    </tr>\n",
       "    <tr>\n",
       "      <th>22</th>\n",
       "      <td>1.2.826.0.1.3680043.5876_C7</td>\n",
       "      <td>0.077027</td>\n",
       "    </tr>\n",
       "    <tr>\n",
       "      <th>23</th>\n",
       "      <td>1.2.826.0.1.3680043.5876_patient_overall</td>\n",
       "      <td>0.100791</td>\n",
       "    </tr>\n",
       "  </tbody>\n",
       "</table>\n",
       "</div>"
      ],
      "text/plain": [
       "                                       row_id  fractured\n",
       "0                1.2.826.0.1.3680043.22327_C1   0.017870\n",
       "1                1.2.826.0.1.3680043.22327_C2   0.028587\n",
       "2                1.2.826.0.1.3680043.22327_C3   0.016075\n",
       "3                1.2.826.0.1.3680043.22327_C4   0.025984\n",
       "4                1.2.826.0.1.3680043.22327_C5   0.041403\n",
       "5                1.2.826.0.1.3680043.22327_C6   0.064498\n",
       "6                1.2.826.0.1.3680043.22327_C7   0.215468\n",
       "7   1.2.826.0.1.3680043.22327_patient_overall   0.237880\n",
       "8                1.2.826.0.1.3680043.25399_C1   0.123502\n",
       "9                1.2.826.0.1.3680043.25399_C2   0.345309\n",
       "10               1.2.826.0.1.3680043.25399_C3   0.136873\n",
       "11               1.2.826.0.1.3680043.25399_C4   0.165578\n",
       "12               1.2.826.0.1.3680043.25399_C5   0.093368\n",
       "13               1.2.826.0.1.3680043.25399_C6   0.139603\n",
       "14               1.2.826.0.1.3680043.25399_C7   0.144891\n",
       "15  1.2.826.0.1.3680043.25399_patient_overall   0.594639\n",
       "16                1.2.826.0.1.3680043.5876_C1   0.006411\n",
       "17                1.2.826.0.1.3680043.5876_C2   0.009955\n",
       "18                1.2.826.0.1.3680043.5876_C3   0.004089\n",
       "19                1.2.826.0.1.3680043.5876_C4   0.003894\n",
       "20                1.2.826.0.1.3680043.5876_C5   0.008151\n",
       "21                1.2.826.0.1.3680043.5876_C6   0.015425\n",
       "22                1.2.826.0.1.3680043.5876_C7   0.077027\n",
       "23   1.2.826.0.1.3680043.5876_patient_overall   0.100791"
      ]
     },
     "execution_count": 7,
     "metadata": {},
     "output_type": "execute_result"
    }
   ],
   "source": [
    "submission"
   ]
  },
  {
   "cell_type": "code",
   "execution_count": null,
   "id": "7c0af3df",
   "metadata": {
    "papermill": {
     "duration": 0.00729,
     "end_time": "2022-10-06T20:42:49.561326",
     "exception": false,
     "start_time": "2022-10-06T20:42:49.554036",
     "status": "completed"
    },
    "tags": []
   },
   "outputs": [],
   "source": []
  }
 ],
 "metadata": {
  "kernelspec": {
   "display_name": "Python 3",
   "language": "python",
   "name": "python3"
  },
  "language_info": {
   "codemirror_mode": {
    "name": "ipython",
    "version": 3
   },
   "file_extension": ".py",
   "mimetype": "text/x-python",
   "name": "python",
   "nbconvert_exporter": "python",
   "pygments_lexer": "ipython3",
   "version": "3.7.12"
  },
  "papermill": {
   "default_parameters": {},
   "duration": 93.197268,
   "end_time": "2022-10-06T20:42:52.249362",
   "environment_variables": {},
   "exception": null,
   "input_path": "__notebook__.ipynb",
   "output_path": "__notebook__.ipynb",
   "parameters": {},
   "start_time": "2022-10-06T20:41:19.052094",
   "version": "2.3.4"
  }
 },
 "nbformat": 4,
 "nbformat_minor": 5
}
