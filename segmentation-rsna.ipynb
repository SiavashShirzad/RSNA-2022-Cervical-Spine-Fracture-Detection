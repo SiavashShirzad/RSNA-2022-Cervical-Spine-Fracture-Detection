{
 "cells": [
  {
   "cell_type": "code",
   "execution_count": 1,
   "metadata": {},
   "outputs": [],
   "source": [
    "import pandas as pd\n",
    "import numpy as np\n",
    "import tensorflow as tf\n",
    "import matplotlib.pyplot as plt\n",
    "import pydicom as dcm\n",
    "import os\n",
    "import nibabel as nib\n",
    "from tqdm import tqdm\n",
    "from tensorflow import keras\n",
    "from keras import layers, models\n",
    "import tensorflow_io as tfio\n",
    "import cv2\n",
    "import warnings\n",
    "warnings.filterwarnings('ignore')\n",
    "from tqdm import tqdm\n",
    "import tensorflow_addons as tfa\n",
    "import glob\n",
    "import scipy"
   ]
  },
  {
   "cell_type": "code",
   "execution_count": 68,
   "metadata": {},
   "outputs": [],
   "source": [
    "def window_image(img, minn,maxx, intercept, slope, rescale=True):\n",
    "    img = (img*slope +intercept) \n",
    "    \n",
    "    img[img<minn] = minn \n",
    "    img[img>maxx] = maxx \n",
    "    if rescale: \n",
    "        img = (img - minn) / (maxx - minn)\n",
    "    return img\n",
    "    \n",
    "def get_first_of_dicom_field_as_int(x):\n",
    "    if type(x) == dcm.multival.MultiValue: return int(x[0])\n",
    "    else: return int(x)\n",
    "    \n",
    "def get_windowing(data):\n",
    "    dicom_fields = [data[('0028','1050')].value,\n",
    "                    data[('0028','1051')].value,\n",
    "                    data[('0028','1052')].value,\n",
    "                    data[('0028','1053')].value]\n",
    "    return [get_first_of_dicom_field_as_int(x) for x in dicom_fields]\n",
    "def channeling(img1, img2, img3):\n",
    "    return np.stack([img1, img2, img3], axis=-1)\n",
    "def load_data(UID):\n",
    "    data_path = '../../Downloads/rsna-2022-cervical-spine-fracture-detection/train_images/'\n",
    "    data = dcm.dcmread(data_path+UID+'/'+os.listdir(data_path+UID)[0])\n",
    "    _, _, intercept, slope = get_windowing(data)\n",
    "    return intercept, slope"
   ]
  },
  {
   "cell_type": "code",
   "execution_count": null,
   "metadata": {},
   "outputs": [],
   "source": [
    "IMAGE_SIZE = 128\n",
    "BATCH_SIZE = 4\n",
    "NUM_CLASSES = 8\n",
    "NUM_TRAIN_IMAGES = 1000\n",
    "NUM_VAL_IMAGES = 50"
   ]
  },
  {
   "cell_type": "code",
   "execution_count": 98,
   "metadata": {},
   "outputs": [
    {
     "ename": "IndentationError",
     "evalue": "expected an indented block (2715640895.py, line 38)",
     "output_type": "error",
     "traceback": [
      "\u001b[1;36m  Input \u001b[1;32mIn [98]\u001b[1;36m\u001b[0m\n\u001b[1;33m    model_input = keras.Input(shape=(image_size, image_size, 3))\u001b[0m\n\u001b[1;37m    ^\u001b[0m\n\u001b[1;31mIndentationError\u001b[0m\u001b[1;31m:\u001b[0m expected an indented block\n"
     ]
    }
   ],
   "source": [
    "def convolution_block(\n",
    "    block_input,\n",
    "    num_filters=256,\n",
    "    kernel_size=3,\n",
    "    dilation_rate=1,\n",
    "    padding=\"same\",\n",
    "    use_bias=False,\n",
    "):\n",
    "    x = layers.Conv2D(\n",
    "        num_filters,\n",
    "        kernel_size=kernel_size,\n",
    "        dilation_rate=dilation_rate,\n",
    "        padding=\"same\",\n",
    "        use_bias=use_bias,\n",
    "        kernel_initializer=keras.initializers.HeNormal(),\n",
    "    )(block_input)\n",
    "    x = layers.BatchNormalization()(x)\n",
    "    return tf.nn.relu(x)\n",
    "\n",
    "def DilatedSpatialPyramidPooling(dspp_input):\n",
    "    dims = dspp_input.shape\n",
    "    x = layers.AveragePooling2D(pool_size=(dims[-3], dims[-2]))(dspp_input)\n",
    "    x = convolution_block(x, kernel_size=1, use_bias=True)\n",
    "    out_pool = layers.UpSampling2D(\n",
    "        size=(dims[-3] // x.shape[1], dims[-2] // x.shape[2]), interpolation=\"bilinear\",\n",
    "    )(x)\n",
    "\n",
    "    out_1 = convolution_block(dspp_input, kernel_size=1, dilation_rate=1)\n",
    "    out_6 = convolution_block(dspp_input, kernel_size=3, dilation_rate=6)\n",
    "    out_12 = convolution_block(dspp_input, kernel_size=3, dilation_rate=12)\n",
    "    out_18 = convolution_block(dspp_input, kernel_size=3, dilation_rate=18)\n",
    "\n",
    "    x = layers.Concatenate(axis=-1)([out_pool, out_1, out_6, out_12, out_18])\n",
    "    output = convolution_block(x, kernel_size=1)\n",
    "    return output\n",
    "def DeeplabV3Plus(image_size, num_classes):\n",
    "    model_input = keras.Input(shape=(image_size, image_size, 3))\n",
    "    resnet50 = keras.applications.ResNet50(\n",
    "        weights=\"imagenet\", include_top=False, input_tensor=model_input\n",
    "    )\n",
    "    x = resnet50.get_layer(\"conv4_block6_2_relu\").output\n",
    "    x = DilatedSpatialPyramidPooling(x)\n",
    "\n",
    "    input_a = layers.UpSampling2D(\n",
    "        size=(image_size // 4 // x.shape[1], image_size // 4 // x.shape[2]),\n",
    "        interpolation=\"bilinear\",\n",
    "    )(x)\n",
    "    input_b = resnet50.get_layer(\"conv2_block3_2_relu\").output\n",
    "    input_b = convolution_block(input_b, num_filters=48, kernel_size=1)\n",
    "\n",
    "    x = layers.Concatenate(axis=-1)([input_a, input_b])\n",
    "    x = convolution_block(x)\n",
    "    x = convolution_block(x)\n",
    "    x = layers.UpSampling2D(\n",
    "        size=(image_size // x.shape[1], image_size // x.shape[2]),\n",
    "        interpolation=\"bilinear\",\n",
    "    )(x)\n",
    "    model_output = layers.Conv2D(num_classes, kernel_size=(1, 1), padding=\"same\")(x)\n",
    "    return keras.Model(inputs=model_input, outputs=model_output)\n",
    "\n",
    "\n",
    "model = DeeplabV3Plus(image_size=IMAGE_SIZE, num_classes=NUM_CLASSES)\n",
    "model.summary()\n",
    "loss = keras.losses.SparseCategoricalCrossentropy(from_logits=True)\n",
    "model.compile(\n",
    "    optimizer=keras.optimizers.Adam(learning_rate=0.001),\n",
    "    loss=loss,\n",
    "    metrics=[\"accuracy\"],\n",
    ")\n"
   ]
  },
  {
   "cell_type": "code",
   "execution_count": 30,
   "metadata": {},
   "outputs": [],
   "source": [
    "path_seg = '../../Downloads/rsna-2022-cervical-spine-fracture-detection/segmentations/'"
   ]
  },
  {
   "cell_type": "code",
   "execution_count": 64,
   "metadata": {},
   "outputs": [
    {
     "data": {
      "text/plain": [
       "'1.2.826.0.1.3680043.10633.nii'"
      ]
     },
     "execution_count": 64,
     "metadata": {},
     "output_type": "execute_result"
    }
   ],
   "source": [
    "patients = os.listdir(path_seg)\n",
    "patients[0]"
   ]
  },
  {
   "cell_type": "code",
   "execution_count": 69,
   "metadata": {},
   "outputs": [],
   "source": [
    "def seg_extractor(UID):\n",
    "    seg = nib.load(path_seg+UID+'.nii')\n",
    "    seg = seg.get_fdata()\n",
    "    seg = np.transpose(seg, axes=[2,1,0])\n",
    "    seg = scipy.ndimage.zoom(seg, (128/seg.shape[0],128/seg.shape[1],128/seg.shape[2]), order=1)\n",
    "    return seg[::-1,::-1,:]\n",
    "def ct_extractor(UID):\n",
    "    img = nib.load(path_img+UID+'.nii.gz')\n",
    "    img = img.get_fdata()\n",
    "    img = scipy.ndimage.zoom(img, (128/img.shape[0],1,1), order=1)\n",
    "    return img\n"
   ]
  },
  {
   "cell_type": "code",
   "execution_count": 77,
   "metadata": {},
   "outputs": [],
   "source": [
    "def data_gen():\n",
    "    for patient in patients[:75]:\n",
    "        patient = patient[:-4]\n",
    "        intercept, slope = load_data(patient)\n",
    "        ct = ct_extractor(patient)\n",
    "        ct1 = window_image(ct,150,300,intercept,slope)\n",
    "        ct2 = window_image(ct,300,450,intercept,slope)\n",
    "        ct3 = window_image(ct,450,600,intercept,slope)\n",
    "        ct = channeling(ct1,ct2,ct3)\n",
    "        seg = seg_extractor(patient)\n",
    "        seg[np.where(seg>7)] = 7\n",
    "        for image in range(28,100):\n",
    "            yield ct[:,:,image], seg[:,:,image]"
   ]
  },
  {
   "cell_type": "code",
   "execution_count": 91,
   "metadata": {},
   "outputs": [],
   "source": [
    "def test_gen():\n",
    "    for patient in patients[75:]:\n",
    "        patient = patient[:-4]\n",
    "        intercept, slope = load_data(patient)\n",
    "        ct = ct_extractor(patient)\n",
    "        ct1 = window_image(ct,150,300,intercept,slope)\n",
    "        ct2 = window_image(ct,300,450,intercept,slope)\n",
    "        ct3 = window_image(ct,450,600,intercept,slope)\n",
    "        ct = channeling(ct1,ct2,ct3)\n",
    "        seg = seg_extractor(patient)\n",
    "        seg[np.where(seg>7)] = 7\n",
    "        for image in range(28,100):\n",
    "            yield ct[:,:,image], seg[:,:,image]"
   ]
  },
  {
   "cell_type": "code",
   "execution_count": 96,
   "metadata": {},
   "outputs": [],
   "source": [
    "dataset = tf.data.Dataset.from_generator(\n",
    "     data_gen,\n",
    "     (tf.float32, tf.int8),\n",
    "    (tf.TensorShape([128,128,3]), tf.TensorShape([128,128]))\n",
    ")\n",
    "\n",
    "testset = tf.data.Dataset.from_generator(\n",
    "     test_gen,\n",
    "     (tf.float32, tf.int8),\n",
    "    (tf.TensorShape([128,128,3]), tf.TensorShape([128,128]))\n",
    ")"
   ]
  },
  {
   "cell_type": "code",
   "execution_count": 97,
   "metadata": {},
   "outputs": [],
   "source": [
    "dataset = dataset.batch(15)\n",
    "dataset = dataset.prefetch(1)\n",
    "\n",
    "\n",
    "testset = testset.batch(15)\n",
    "testset = testset.prefetch(1)"
   ]
  },
  {
   "cell_type": "code",
   "execution_count": null,
   "metadata": {},
   "outputs": [],
   "source": []
  }
 ],
 "metadata": {
  "kernelspec": {
   "display_name": "Python 3.9.13 ('eon': conda)",
   "language": "python",
   "name": "python3"
  },
  "language_info": {
   "codemirror_mode": {
    "name": "ipython",
    "version": 3
   },
   "file_extension": ".py",
   "mimetype": "text/x-python",
   "name": "python",
   "nbconvert_exporter": "python",
   "pygments_lexer": "ipython3",
   "version": "3.9.13"
  },
  "orig_nbformat": 4,
  "vscode": {
   "interpreter": {
    "hash": "7ac21e7c5f840be57102ee0f5398c792063c2a27dc2325b7f7034b34f50df51e"
   }
  }
 },
 "nbformat": 4,
 "nbformat_minor": 2
}
