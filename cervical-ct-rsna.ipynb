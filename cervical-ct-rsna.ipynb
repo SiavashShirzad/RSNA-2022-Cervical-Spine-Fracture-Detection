{
 "cells": [
  {
   "cell_type": "code",
   "execution_count": 1,
   "id": "72fb2dfe",
   "metadata": {
    "_cell_guid": "b1076dfc-b9ad-4769-8c92-a6c4dae69d19",
    "_uuid": "8f2839f25d086af736a60e9eeb907d3b93b6e0e5",
    "execution": {
     "iopub.execute_input": "2022-10-07T03:29:46.016991Z",
     "iopub.status.busy": "2022-10-07T03:29:46.016536Z",
     "iopub.status.idle": "2022-10-07T03:30:12.958147Z",
     "shell.execute_reply": "2022-10-07T03:30:12.957015Z"
    },
    "papermill": {
     "duration": 26.949756,
     "end_time": "2022-10-07T03:30:12.961008",
     "exception": false,
     "start_time": "2022-10-07T03:29:46.011252",
     "status": "completed"
    },
    "tags": []
   },
   "outputs": [
    {
     "name": "stdout",
     "output_type": "stream",
     "text": [
      "Collecting python-gdcm\r\n",
      "  Downloading python_gdcm-3.0.19-cp37-cp37m-manylinux_2_17_x86_64.manylinux2014_x86_64.whl (13.0 MB)\r\n",
      "\u001b[2K     \u001b[90m━━━━━━━━━━━━━━━━━━━━━━━━━━━━━━━━━━━━━━━━\u001b[0m \u001b[32m13.0/13.0 MB\u001b[0m \u001b[31m25.7 MB/s\u001b[0m eta \u001b[36m0:00:00\u001b[0m\r\n",
      "\u001b[?25hInstalling collected packages: python-gdcm\r\n",
      "Successfully installed python-gdcm-3.0.19\r\n",
      "\u001b[33mWARNING: Running pip as the 'root' user can result in broken permissions and conflicting behaviour with the system package manager. It is recommended to use a virtual environment instead: https://pip.pypa.io/warnings/venv\u001b[0m\u001b[33m\r\n",
      "\u001b[0mCollecting pylibjpeg\r\n",
      "  Downloading pylibjpeg-1.4.0-py3-none-any.whl (28 kB)\r\n",
      "Collecting pylibjpeg-libjpeg\r\n",
      "  Downloading pylibjpeg_libjpeg-1.3.2-cp37-cp37m-manylinux_2_17_x86_64.manylinux2014_x86_64.whl (4.3 MB)\r\n",
      "\u001b[2K     \u001b[90m━━━━━━━━━━━━━━━━━━━━━━━━━━━━━━━━━━━━━━━━\u001b[0m \u001b[32m4.3/4.3 MB\u001b[0m \u001b[31m7.9 MB/s\u001b[0m eta \u001b[36m0:00:00\u001b[0m\r\n",
      "\u001b[?25hRequirement already satisfied: pydicom in /opt/conda/lib/python3.7/site-packages (2.3.0)\r\n",
      "Requirement already satisfied: numpy in /opt/conda/lib/python3.7/site-packages (from pylibjpeg) (1.21.6)\r\n",
      "Installing collected packages: pylibjpeg-libjpeg, pylibjpeg\r\n",
      "Successfully installed pylibjpeg-1.4.0 pylibjpeg-libjpeg-1.3.2\r\n",
      "\u001b[33mWARNING: Running pip as the 'root' user can result in broken permissions and conflicting behaviour with the system package manager. It is recommended to use a virtual environment instead: https://pip.pypa.io/warnings/venv\u001b[0m\u001b[33m\r\n",
      "\u001b[0m"
     ]
    }
   ],
   "source": [
    "! pip install python-gdcm\n",
    "! pip install pylibjpeg pylibjpeg-libjpeg pydicom"
   ]
  },
  {
   "cell_type": "code",
   "execution_count": 2,
   "id": "5769fa13",
   "metadata": {
    "execution": {
     "iopub.execute_input": "2022-10-07T03:30:12.973628Z",
     "iopub.status.busy": "2022-10-07T03:30:12.973221Z",
     "iopub.status.idle": "2022-10-07T03:30:21.150861Z",
     "shell.execute_reply": "2022-10-07T03:30:21.149868Z"
    },
    "papermill": {
     "duration": 8.186955,
     "end_time": "2022-10-07T03:30:21.153473",
     "exception": false,
     "start_time": "2022-10-07T03:30:12.966518",
     "status": "completed"
    },
    "tags": []
   },
   "outputs": [],
   "source": [
    "import pandas as pd\n",
    "import numpy as np\n",
    "import tensorflow as tf\n",
    "import matplotlib.pyplot as plt\n",
    "import pydicom\n",
    "import os\n",
    "import nibabel as nib\n",
    "import SimpleITK as sitk\n",
    "from tqdm import tqdm\n",
    "from tensorflow import keras\n",
    "from keras import layers, models\n",
    "import tensorflow_io as tfio\n",
    "import cv2\n",
    "import warnings\n",
    "warnings.filterwarnings('ignore')\n",
    "from skimage.transform import resize\n",
    "from tqdm import tqdm"
   ]
  },
  {
   "cell_type": "code",
   "execution_count": 3,
   "id": "5f444da3",
   "metadata": {
    "execution": {
     "iopub.execute_input": "2022-10-07T03:30:21.165583Z",
     "iopub.status.busy": "2022-10-07T03:30:21.164939Z",
     "iopub.status.idle": "2022-10-07T03:30:21.170598Z",
     "shell.execute_reply": "2022-10-07T03:30:21.169516Z"
    },
    "papermill": {
     "duration": 0.01416,
     "end_time": "2022-10-07T03:30:21.172859",
     "exception": false,
     "start_time": "2022-10-07T03:30:21.158699",
     "status": "completed"
    },
    "tags": []
   },
   "outputs": [],
   "source": [
    "def load_image(path):\n",
    "    img = pydicom.read_file(path)\n",
    "    img = img.pixel_array\n",
    "    return resize(img[:,20:-20], (100, 60))"
   ]
  },
  {
   "cell_type": "code",
   "execution_count": 4,
   "id": "b2c7eef9",
   "metadata": {
    "execution": {
     "iopub.execute_input": "2022-10-07T03:30:21.184525Z",
     "iopub.status.busy": "2022-10-07T03:30:21.184131Z",
     "iopub.status.idle": "2022-10-07T03:30:21.190958Z",
     "shell.execute_reply": "2022-10-07T03:30:21.189935Z"
    },
    "papermill": {
     "duration": 0.015486,
     "end_time": "2022-10-07T03:30:21.193451",
     "exception": false,
     "start_time": "2022-10-07T03:30:21.177965",
     "status": "completed"
    },
    "tags": []
   },
   "outputs": [],
   "source": [
    "def window(img):\n",
    "    img[np.where(img<0)] = 0\n",
    "    mean = img.mean()\n",
    "    std = img.std()\n",
    "    img[np.where(img>(mean+(3*std)))] = (mean+(3*std))\n",
    "    img = img-img.min()\n",
    "    maxx = img.max()\n",
    "    img[np.where(img<(maxx/2))] = maxx/2\n",
    "    img = (img-(maxx/2)) / (maxx/2)\n",
    "    return img"
   ]
  },
  {
   "cell_type": "code",
   "execution_count": 5,
   "id": "ba1f518c",
   "metadata": {
    "execution": {
     "iopub.execute_input": "2022-10-07T03:30:21.205334Z",
     "iopub.status.busy": "2022-10-07T03:30:21.204688Z",
     "iopub.status.idle": "2022-10-07T07:42:54.042146Z",
     "shell.execute_reply": "2022-10-07T07:42:54.038449Z"
    },
    "papermill": {
     "duration": 15152.965995,
     "end_time": "2022-10-07T07:42:54.164498",
     "exception": false,
     "start_time": "2022-10-07T03:30:21.198503",
     "status": "completed"
    },
    "tags": []
   },
   "outputs": [
    {
     "name": "stderr",
     "output_type": "stream",
     "text": [
      " 18%|█▊        | 371/2019 [44:24<2:40:07,  5.83s/it]"
     ]
    },
    {
     "name": "stdout",
     "output_type": "stream",
     "text": [
      "1\n",
      "../input/rsna-2022-cervical-spine-fracture-detection/train_images/1.2.826.0.1.3680043.17166/\n"
     ]
    },
    {
     "name": "stderr",
     "output_type": "stream",
     "text": [
      "100%|██████████| 2019/2019 [4:12:32<00:00,  7.51s/it]\n"
     ]
    }
   ],
   "source": [
    "e = 0\n",
    "for p in tqdm(os.listdir(\"../input/rsna-2022-cervical-spine-fracture-detection/train_images\")):\n",
    "    path = \"../input/rsna-2022-cervical-spine-fracture-detection/train_images/\"+p+\"/\"\n",
    "    len10percent = len(os.listdir(path))//10\n",
    "    try:\n",
    "        final_ct = window(load_image(path+str(len10percent)+\".dcm\")).reshape(100,60,1)\n",
    "        for image in range(len10percent, len(os.listdir(path))-len10percent):\n",
    "            img = window(load_image(path+str(image)+\".dcm\")).reshape(100,60,1)\n",
    "            final_ct = np.append(final_ct, img, axis=-1)\n",
    "        resized_final_ct = cv2.resize(final_ct[:,0,:], (100,100)).reshape(100,100,1)\n",
    "        for i in range(1,final_ct.shape[1]):\n",
    "            resized_final_ct = np.append(resized_final_ct, cv2.resize(final_ct[:,i,:], (100,100)).reshape(100,100,1), axis=-1)\n",
    "        ni_img = nib.Nifti1Image(resized_final_ct, affine=np.eye(4))\n",
    "        nib.save(ni_img, str(p) + \".nii.gz\")\n",
    "    except:\n",
    "        e=e+1\n",
    "        print(e)\n",
    "        print(path)"
   ]
  },
  {
   "cell_type": "code",
   "execution_count": null,
   "id": "c70a3c9d",
   "metadata": {
    "papermill": {
     "duration": 0.127127,
     "end_time": "2022-10-07T07:42:54.420047",
     "exception": false,
     "start_time": "2022-10-07T07:42:54.292920",
     "status": "completed"
    },
    "tags": []
   },
   "outputs": [],
   "source": []
  }
 ],
 "metadata": {
  "kernelspec": {
   "display_name": "Python 3",
   "language": "python",
   "name": "python3"
  },
  "language_info": {
   "codemirror_mode": {
    "name": "ipython",
    "version": 3
   },
   "file_extension": ".py",
   "mimetype": "text/x-python",
   "name": "python",
   "nbconvert_exporter": "python",
   "pygments_lexer": "ipython3",
   "version": "3.7.12"
  },
  "papermill": {
   "default_parameters": {},
   "duration": 15200.426984,
   "end_time": "2022-10-07T07:42:57.719405",
   "environment_variables": {},
   "exception": null,
   "input_path": "__notebook__.ipynb",
   "output_path": "__notebook__.ipynb",
   "parameters": {},
   "start_time": "2022-10-07T03:29:37.292421",
   "version": "2.3.4"
  }
 },
 "nbformat": 4,
 "nbformat_minor": 5
}
