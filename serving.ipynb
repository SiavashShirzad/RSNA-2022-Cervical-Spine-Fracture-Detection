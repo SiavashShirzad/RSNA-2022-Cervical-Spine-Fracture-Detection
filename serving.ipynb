{
 "cells": [
  {
   "cell_type": "code",
   "execution_count": 1,
   "id": "3293d728",
   "metadata": {
    "_cell_guid": "b1076dfc-b9ad-4769-8c92-a6c4dae69d19",
    "_uuid": "8f2839f25d086af736a60e9eeb907d3b93b6e0e5",
    "execution": {
     "iopub.execute_input": "2022-10-06T21:03:21.266153Z",
     "iopub.status.busy": "2022-10-06T21:03:21.264909Z",
     "iopub.status.idle": "2022-10-06T21:03:57.106906Z",
     "shell.execute_reply": "2022-10-06T21:03:57.105639Z"
    },
    "papermill": {
     "duration": 35.855792,
     "end_time": "2022-10-06T21:03:57.109622",
     "exception": false,
     "start_time": "2022-10-06T21:03:21.253830",
     "status": "completed"
    },
    "tags": []
   },
   "outputs": [
    {
     "name": "stdout",
     "output_type": "stream",
     "text": [
      "Looking in links: /kaggle/input/frozen-packages-for-offline-use/frozen_packages\r\n",
      "Processing /kaggle/input/frozen-packages-for-offline-use/frozen_packages/pylibjpeg-1.4.0-py3-none-any.whl\r\n",
      "Requirement already satisfied: numpy in /opt/conda/lib/python3.7/site-packages (from pylibjpeg) (1.21.6)\r\n",
      "Installing collected packages: pylibjpeg\r\n",
      "Successfully installed pylibjpeg-1.4.0\r\n",
      "\u001b[33mWARNING: Running pip as the 'root' user can result in broken permissions and conflicting behaviour with the system package manager. It is recommended to use a virtual environment instead: https://pip.pypa.io/warnings/venv\u001b[0m\u001b[33m\r\n",
      "\u001b[0mLooking in links: /kaggle/input/frozen-packages-for-offline-use/frozen_packages\r\n",
      "Processing /kaggle/input/frozen-packages-for-offline-use/frozen_packages/python_gdcm-3.0.15-cp37-cp37m-manylinux_2_17_x86_64.manylinux2014_x86_64.whl\r\n",
      "Installing collected packages: python-gdcm\r\n",
      "Successfully installed python-gdcm-3.0.15\r\n",
      "\u001b[33mWARNING: Running pip as the 'root' user can result in broken permissions and conflicting behaviour with the system package manager. It is recommended to use a virtual environment instead: https://pip.pypa.io/warnings/venv\u001b[0m\u001b[33m\r\n",
      "\u001b[0mLooking in links: /kaggle/input/frozen-packages-for-offline-use/frozen_packages\r\n",
      "Processing /kaggle/input/frozen-packages-for-offline-use/frozen_packages/pylibjpeg_libjpeg-1.3.1-cp37-cp37m-manylinux_2_17_x86_64.manylinux2014_x86_64.whl\r\n",
      "Requirement already satisfied: numpy>=1.20 in /opt/conda/lib/python3.7/site-packages (from pylibjpeg-libjpeg) (1.21.6)\r\n",
      "Installing collected packages: pylibjpeg-libjpeg\r\n",
      "Successfully installed pylibjpeg-libjpeg-1.3.1\r\n",
      "\u001b[33mWARNING: Running pip as the 'root' user can result in broken permissions and conflicting behaviour with the system package manager. It is recommended to use a virtual environment instead: https://pip.pypa.io/warnings/venv\u001b[0m\u001b[33m\r\n",
      "\u001b[0m"
     ]
    }
   ],
   "source": [
    "!pip install pylibjpeg --find-links /kaggle/input/frozen-packages-for-offline-use/frozen_packages --no-index\n",
    "!pip install python-gdcm --find-links /kaggle/input/frozen-packages-for-offline-use/frozen_packages --no-index\n",
    "!pip install pylibjpeg-libjpeg --find-links /kaggle/input/frozen-packages-for-offline-use/frozen_packages --no-index"
   ]
  },
  {
   "cell_type": "code",
   "execution_count": 2,
   "id": "31424c82",
   "metadata": {
    "execution": {
     "iopub.execute_input": "2022-10-06T21:03:57.119376Z",
     "iopub.status.busy": "2022-10-06T21:03:57.118989Z",
     "iopub.status.idle": "2022-10-06T21:04:06.199785Z",
     "shell.execute_reply": "2022-10-06T21:04:06.198660Z"
    },
    "papermill": {
     "duration": 9.089156,
     "end_time": "2022-10-06T21:04:06.202692",
     "exception": false,
     "start_time": "2022-10-06T21:03:57.113536",
     "status": "completed"
    },
    "tags": []
   },
   "outputs": [],
   "source": [
    "import pandas as pd\n",
    "import numpy as np\n",
    "import tensorflow as tf\n",
    "import matplotlib.pyplot as plt\n",
    "import pydicom\n",
    "import os\n",
    "import nibabel as nib\n",
    "import SimpleITK as sitk\n",
    "from tqdm import tqdm\n",
    "from tensorflow import keras\n",
    "from keras import layers, models\n",
    "import tensorflow_io as tfio\n",
    "import cv2\n",
    "import warnings\n",
    "warnings.filterwarnings('ignore')\n",
    "from skimage.transform import resize\n",
    "from tqdm import tqdm\n",
    "import tensorflow_addons as tfa"
   ]
  },
  {
   "cell_type": "code",
   "execution_count": 3,
   "id": "f7d528eb",
   "metadata": {
    "execution": {
     "iopub.execute_input": "2022-10-06T21:04:06.211912Z",
     "iopub.status.busy": "2022-10-06T21:04:06.211156Z",
     "iopub.status.idle": "2022-10-06T21:04:06.217272Z",
     "shell.execute_reply": "2022-10-06T21:04:06.216080Z"
    },
    "papermill": {
     "duration": 0.012876,
     "end_time": "2022-10-06T21:04:06.219291",
     "exception": false,
     "start_time": "2022-10-06T21:04:06.206415",
     "status": "completed"
    },
    "tags": []
   },
   "outputs": [],
   "source": [
    "def load_image(path):\n",
    "    img = pydicom.read_file(path)\n",
    "    img = img.pixel_array\n",
    "    return resize(img[:,20:-20], (100, 60))"
   ]
  },
  {
   "cell_type": "code",
   "execution_count": 4,
   "id": "73304d7a",
   "metadata": {
    "execution": {
     "iopub.execute_input": "2022-10-06T21:04:06.228282Z",
     "iopub.status.busy": "2022-10-06T21:04:06.227524Z",
     "iopub.status.idle": "2022-10-06T21:04:06.235358Z",
     "shell.execute_reply": "2022-10-06T21:04:06.234311Z"
    },
    "papermill": {
     "duration": 0.014576,
     "end_time": "2022-10-06T21:04:06.237514",
     "exception": false,
     "start_time": "2022-10-06T21:04:06.222938",
     "status": "completed"
    },
    "tags": []
   },
   "outputs": [],
   "source": [
    "def window(img):\n",
    "    img[np.where(img<0)] = 0\n",
    "    mean = img.mean()\n",
    "    std = img.std()\n",
    "    img[np.where(img>(mean+(3*std)))] = (mean+(3*std))\n",
    "    img = img-img.min()\n",
    "    maxx = img.max()\n",
    "    img[np.where(img<(maxx/2))] = maxx/2\n",
    "    img = (img-(maxx/2)) / (maxx/2)\n",
    "    return img"
   ]
  },
  {
   "cell_type": "code",
   "execution_count": 5,
   "id": "ccb5d890",
   "metadata": {
    "execution": {
     "iopub.execute_input": "2022-10-06T21:04:06.246427Z",
     "iopub.status.busy": "2022-10-06T21:04:06.246063Z",
     "iopub.status.idle": "2022-10-06T21:04:11.342470Z",
     "shell.execute_reply": "2022-10-06T21:04:11.341521Z"
    },
    "papermill": {
     "duration": 5.104225,
     "end_time": "2022-10-06T21:04:11.345361",
     "exception": false,
     "start_time": "2022-10-06T21:04:06.241136",
     "status": "completed"
    },
    "tags": []
   },
   "outputs": [
    {
     "name": "stderr",
     "output_type": "stream",
     "text": [
      "2022-10-06 21:04:06.323265: I tensorflow/core/common_runtime/process_util.cc:146] Creating new thread pool with default inter op setting: 2. Tune using inter_op_parallelism_threads for best performance.\n"
     ]
    }
   ],
   "source": [
    "model = tf.keras.models.load_model('../input/rsna-cervical-fracture-training/final_model/model')"
   ]
  },
  {
   "cell_type": "code",
   "execution_count": 6,
   "id": "851b62da",
   "metadata": {
    "execution": {
     "iopub.execute_input": "2022-10-06T21:04:11.355112Z",
     "iopub.status.busy": "2022-10-06T21:04:11.354253Z",
     "iopub.status.idle": "2022-10-06T21:04:44.520351Z",
     "shell.execute_reply": "2022-10-06T21:04:44.519186Z"
    },
    "papermill": {
     "duration": 33.174006,
     "end_time": "2022-10-06T21:04:44.523358",
     "exception": false,
     "start_time": "2022-10-06T21:04:11.349352",
     "status": "completed"
    },
    "tags": []
   },
   "outputs": [
    {
     "name": "stderr",
     "output_type": "stream",
     "text": [
      "2022-10-06 21:04:17.130061: I tensorflow/compiler/mlir/mlir_graph_optimization_pass.cc:185] None of the MLIR Optimization Passes are enabled (registered 2)\n"
     ]
    }
   ],
   "source": [
    "patient_pred = {}\n",
    "UIDs = os.listdir(\"../input/rsna-2022-cervical-spine-fracture-detection/test_images\")\n",
    "for p in UIDs:\n",
    "    path = \"../input/rsna-2022-cervical-spine-fracture-detection/test_images/\"+p+\"/\"\n",
    "    len10percent = len(os.listdir(path))//10\n",
    "    final_ct = window(load_image(path+str(len10percent)+\".dcm\")).reshape(100,60,1)\n",
    "    for image in range(len10percent, len(os.listdir(path))-len10percent):\n",
    "        img = window(load_image(path+str(image)+\".dcm\")).reshape(100,60,1)\n",
    "        final_ct = np.append(final_ct, img, axis=-1)\n",
    "    resized_final_ct = cv2.resize(final_ct[:,0,:], (100,100)).reshape(100,100,1)\n",
    "    for i in range(1,final_ct.shape[1]):\n",
    "        resized_final_ct = np.append(resized_final_ct, cv2.resize(final_ct[:,i,:], (100,100)).reshape(100,100,1), axis=-1)\n",
    "    resized_final_ct = resized_final_ct.reshape(1,100,100,60)\n",
    "    pred = model.predict(resized_final_ct)\n",
    "    for i in range(1, 9):\n",
    "        if i==8:\n",
    "            patient_pred[p+\"_\"+\"patient_overall\"] = pred[0][0][0]\n",
    "            break\n",
    "        else:\n",
    "            patient_pred[p+\"_\"+\"C\"+str(i)] = pred[i][0][0]\n",
    "submission  = pd.DataFrame.from_dict({\"row_id\": patient_pred.keys(), \"fractured\": patient_pred.values()})\n",
    "submission.to_csv('./submission.csv', index=False)"
   ]
  },
  {
   "cell_type": "code",
   "execution_count": 7,
   "id": "6e79cdad",
   "metadata": {
    "execution": {
     "iopub.execute_input": "2022-10-06T21:04:44.532877Z",
     "iopub.status.busy": "2022-10-06T21:04:44.532485Z",
     "iopub.status.idle": "2022-10-06T21:04:44.551731Z",
     "shell.execute_reply": "2022-10-06T21:04:44.550666Z"
    },
    "papermill": {
     "duration": 0.026884,
     "end_time": "2022-10-06T21:04:44.554118",
     "exception": false,
     "start_time": "2022-10-06T21:04:44.527234",
     "status": "completed"
    },
    "tags": []
   },
   "outputs": [
    {
     "data": {
      "text/html": [
       "<div>\n",
       "<style scoped>\n",
       "    .dataframe tbody tr th:only-of-type {\n",
       "        vertical-align: middle;\n",
       "    }\n",
       "\n",
       "    .dataframe tbody tr th {\n",
       "        vertical-align: top;\n",
       "    }\n",
       "\n",
       "    .dataframe thead th {\n",
       "        text-align: right;\n",
       "    }\n",
       "</style>\n",
       "<table border=\"1\" class=\"dataframe\">\n",
       "  <thead>\n",
       "    <tr style=\"text-align: right;\">\n",
       "      <th></th>\n",
       "      <th>row_id</th>\n",
       "      <th>fractured</th>\n",
       "    </tr>\n",
       "  </thead>\n",
       "  <tbody>\n",
       "    <tr>\n",
       "      <th>0</th>\n",
       "      <td>1.2.826.0.1.3680043.22327_C1</td>\n",
       "      <td>0.017870</td>\n",
       "    </tr>\n",
       "    <tr>\n",
       "      <th>1</th>\n",
       "      <td>1.2.826.0.1.3680043.22327_C2</td>\n",
       "      <td>0.028587</td>\n",
       "    </tr>\n",
       "    <tr>\n",
       "      <th>2</th>\n",
       "      <td>1.2.826.0.1.3680043.22327_C3</td>\n",
       "      <td>0.016075</td>\n",
       "    </tr>\n",
       "    <tr>\n",
       "      <th>3</th>\n",
       "      <td>1.2.826.0.1.3680043.22327_C4</td>\n",
       "      <td>0.025984</td>\n",
       "    </tr>\n",
       "    <tr>\n",
       "      <th>4</th>\n",
       "      <td>1.2.826.0.1.3680043.22327_C5</td>\n",
       "      <td>0.041403</td>\n",
       "    </tr>\n",
       "    <tr>\n",
       "      <th>5</th>\n",
       "      <td>1.2.826.0.1.3680043.22327_C6</td>\n",
       "      <td>0.064498</td>\n",
       "    </tr>\n",
       "    <tr>\n",
       "      <th>6</th>\n",
       "      <td>1.2.826.0.1.3680043.22327_C7</td>\n",
       "      <td>0.215468</td>\n",
       "    </tr>\n",
       "    <tr>\n",
       "      <th>7</th>\n",
       "      <td>1.2.826.0.1.3680043.22327_patient_overall</td>\n",
       "      <td>0.237880</td>\n",
       "    </tr>\n",
       "    <tr>\n",
       "      <th>8</th>\n",
       "      <td>1.2.826.0.1.3680043.25399_C1</td>\n",
       "      <td>0.123502</td>\n",
       "    </tr>\n",
       "    <tr>\n",
       "      <th>9</th>\n",
       "      <td>1.2.826.0.1.3680043.25399_C2</td>\n",
       "      <td>0.345309</td>\n",
       "    </tr>\n",
       "    <tr>\n",
       "      <th>10</th>\n",
       "      <td>1.2.826.0.1.3680043.25399_C3</td>\n",
       "      <td>0.136873</td>\n",
       "    </tr>\n",
       "    <tr>\n",
       "      <th>11</th>\n",
       "      <td>1.2.826.0.1.3680043.25399_C4</td>\n",
       "      <td>0.165578</td>\n",
       "    </tr>\n",
       "    <tr>\n",
       "      <th>12</th>\n",
       "      <td>1.2.826.0.1.3680043.25399_C5</td>\n",
       "      <td>0.093368</td>\n",
       "    </tr>\n",
       "    <tr>\n",
       "      <th>13</th>\n",
       "      <td>1.2.826.0.1.3680043.25399_C6</td>\n",
       "      <td>0.139603</td>\n",
       "    </tr>\n",
       "    <tr>\n",
       "      <th>14</th>\n",
       "      <td>1.2.826.0.1.3680043.25399_C7</td>\n",
       "      <td>0.144891</td>\n",
       "    </tr>\n",
       "    <tr>\n",
       "      <th>15</th>\n",
       "      <td>1.2.826.0.1.3680043.25399_patient_overall</td>\n",
       "      <td>0.594639</td>\n",
       "    </tr>\n",
       "    <tr>\n",
       "      <th>16</th>\n",
       "      <td>1.2.826.0.1.3680043.5876_C1</td>\n",
       "      <td>0.006411</td>\n",
       "    </tr>\n",
       "    <tr>\n",
       "      <th>17</th>\n",
       "      <td>1.2.826.0.1.3680043.5876_C2</td>\n",
       "      <td>0.009955</td>\n",
       "    </tr>\n",
       "    <tr>\n",
       "      <th>18</th>\n",
       "      <td>1.2.826.0.1.3680043.5876_C3</td>\n",
       "      <td>0.004089</td>\n",
       "    </tr>\n",
       "    <tr>\n",
       "      <th>19</th>\n",
       "      <td>1.2.826.0.1.3680043.5876_C4</td>\n",
       "      <td>0.003894</td>\n",
       "    </tr>\n",
       "    <tr>\n",
       "      <th>20</th>\n",
       "      <td>1.2.826.0.1.3680043.5876_C5</td>\n",
       "      <td>0.008151</td>\n",
       "    </tr>\n",
       "    <tr>\n",
       "      <th>21</th>\n",
       "      <td>1.2.826.0.1.3680043.5876_C6</td>\n",
       "      <td>0.015425</td>\n",
       "    </tr>\n",
       "    <tr>\n",
       "      <th>22</th>\n",
       "      <td>1.2.826.0.1.3680043.5876_C7</td>\n",
       "      <td>0.077027</td>\n",
       "    </tr>\n",
       "    <tr>\n",
       "      <th>23</th>\n",
       "      <td>1.2.826.0.1.3680043.5876_patient_overall</td>\n",
       "      <td>0.100791</td>\n",
       "    </tr>\n",
       "  </tbody>\n",
       "</table>\n",
       "</div>"
      ],
      "text/plain": [
       "                                       row_id  fractured\n",
       "0                1.2.826.0.1.3680043.22327_C1   0.017870\n",
       "1                1.2.826.0.1.3680043.22327_C2   0.028587\n",
       "2                1.2.826.0.1.3680043.22327_C3   0.016075\n",
       "3                1.2.826.0.1.3680043.22327_C4   0.025984\n",
       "4                1.2.826.0.1.3680043.22327_C5   0.041403\n",
       "5                1.2.826.0.1.3680043.22327_C6   0.064498\n",
       "6                1.2.826.0.1.3680043.22327_C7   0.215468\n",
       "7   1.2.826.0.1.3680043.22327_patient_overall   0.237880\n",
       "8                1.2.826.0.1.3680043.25399_C1   0.123502\n",
       "9                1.2.826.0.1.3680043.25399_C2   0.345309\n",
       "10               1.2.826.0.1.3680043.25399_C3   0.136873\n",
       "11               1.2.826.0.1.3680043.25399_C4   0.165578\n",
       "12               1.2.826.0.1.3680043.25399_C5   0.093368\n",
       "13               1.2.826.0.1.3680043.25399_C6   0.139603\n",
       "14               1.2.826.0.1.3680043.25399_C7   0.144891\n",
       "15  1.2.826.0.1.3680043.25399_patient_overall   0.594639\n",
       "16                1.2.826.0.1.3680043.5876_C1   0.006411\n",
       "17                1.2.826.0.1.3680043.5876_C2   0.009955\n",
       "18                1.2.826.0.1.3680043.5876_C3   0.004089\n",
       "19                1.2.826.0.1.3680043.5876_C4   0.003894\n",
       "20                1.2.826.0.1.3680043.5876_C5   0.008151\n",
       "21                1.2.826.0.1.3680043.5876_C6   0.015425\n",
       "22                1.2.826.0.1.3680043.5876_C7   0.077027\n",
       "23   1.2.826.0.1.3680043.5876_patient_overall   0.100791"
      ]
     },
     "execution_count": 7,
     "metadata": {},
     "output_type": "execute_result"
    }
   ],
   "source": [
    "submission"
   ]
  },
  {
   "cell_type": "code",
   "execution_count": null,
   "id": "43103899",
   "metadata": {
    "papermill": {
     "duration": 0.003826,
     "end_time": "2022-10-06T21:04:44.562023",
     "exception": false,
     "start_time": "2022-10-06T21:04:44.558197",
     "status": "completed"
    },
    "tags": []
   },
   "outputs": [],
   "source": []
  }
 ],
 "metadata": {
  "kernelspec": {
   "display_name": "Python 3",
   "language": "python",
   "name": "python3"
  },
  "language_info": {
   "codemirror_mode": {
    "name": "ipython",
    "version": 3
   },
   "file_extension": ".py",
   "mimetype": "text/x-python",
   "name": "python",
   "nbconvert_exporter": "python",
   "pygments_lexer": "ipython3",
   "version": "3.7.12"
  },
  "papermill": {
   "default_parameters": {},
   "duration": 96.079399,
   "end_time": "2022-10-06T21:04:47.372388",
   "environment_variables": {},
   "exception": null,
   "input_path": "__notebook__.ipynb",
   "output_path": "__notebook__.ipynb",
   "parameters": {},
   "start_time": "2022-10-06T21:03:11.292989",
   "version": "2.3.4"
  }
 },
 "nbformat": 4,
 "nbformat_minor": 5
}
